{
 "cells": [
  {
   "cell_type": "markdown",
   "metadata": {
    "id": "fKucsZj7PkjH"
   },
   "source": [
    "## Hello , Here you are starting your trip in Matrix Transformations \n",
    "\n",
    "We  Want to build Some Functions over here that will apply some Mathematics !"
   ]
  },
  {
   "cell_type": "markdown",
   "metadata": {
    "id": "PLBCFeFCQSo_"
   },
   "source": [
    "# Standard Scaler \n",
    "\n",
    "1- Build a Function that takes an input Array and Returns  The Mean and Standard Devation ."
   ]
  },
  {
   "cell_type": "code",
   "execution_count": 1,
   "metadata": {
    "id": "KpJMMm5IRcoM"
   },
   "outputs": [],
   "source": [
    "import numpy as np\n",
    "#sample_data\n",
    "X_train= np.array([10,20,30,40,50,60,70,80,90])\n",
    "X_test= np.array([7,15,23,34,45,66,17,83,49])\n"
   ]
  },
  {
   "cell_type": "code",
   "execution_count": 5,
   "metadata": {
    "id": "mEpZAIgrPi1K"
   },
   "outputs": [],
   "source": [
    "def mean(x):\n",
    "  print('Type of X :',type(x))\n",
    "  Mean_x= np.sum(x/len(x))\n",
    "  #Here, I am just trying to check your code vs Numpy \n",
    "  print('Check your Mean  :',Mean_x-np.mean(x),' The Answer should be 0 ')\n",
    "  return  Mean_x\n",
    "def std(x):\n",
    "    print('Mean of X :',mean(x))\n",
    "    m=mean(x)\n",
    "    std_x =(np.sum((x-m)**2)/len(x))**0.5\n",
    "    #check your code vs Numpy \n",
    "    print('Check your Standard Deviation  :',std_x-np.std(x),' The Answer should be 0 ')\n",
    "    return std_x \n"
   ]
  },
  {
   "cell_type": "code",
   "execution_count": 3,
   "metadata": {
    "id": "Z823Mg7TSAlF"
   },
   "outputs": [
    {
     "name": "stdout",
     "output_type": "stream",
     "text": [
      "Type of X : <class 'numpy.ndarray'>\n",
      "Check your Mean  : 0.0  The Answer should be 0 \n"
     ]
    },
    {
     "data": {
      "text/plain": [
       "50.0"
      ]
     },
     "execution_count": 3,
     "metadata": {},
     "output_type": "execute_result"
    }
   ],
   "source": [
    "# TEST\n",
    "mean(X_train)"
   ]
  },
  {
   "cell_type": "code",
   "execution_count": 6,
   "metadata": {
    "id": "70e-flxuFvMu"
   },
   "outputs": [
    {
     "name": "stdout",
     "output_type": "stream",
     "text": [
      "Type of X : <class 'numpy.ndarray'>\n",
      "Check your Mean  : 0.0  The Answer should be 0 \n",
      "Mean of X : 50.0\n",
      "Type of X : <class 'numpy.ndarray'>\n",
      "Check your Mean  : 0.0  The Answer should be 0 \n",
      "Check your Standard Deviation  : 0.0  The Answer should be 0 \n"
     ]
    },
    {
     "data": {
      "text/plain": [
       "25.81988897471611"
      ]
     },
     "execution_count": 6,
     "metadata": {},
     "output_type": "execute_result"
    }
   ],
   "source": [
    "# TEST\n",
    "std(X_train)"
   ]
  },
  {
   "cell_type": "markdown",
   "metadata": {
    "id": "X4DeDZ8-RSpM"
   },
   "source": [
    "## Standardize\n",
    "2- Build a Function that takes an input Array , Mean, STD and Returns The Array After Scaling \n",
    "\n",
    " by using this equation\n",
    " \n",
    "Scaled =(X-Mean(X))/STD(X)"
   ]
  },
  {
   "cell_type": "code",
   "execution_count": 9,
   "metadata": {
    "id": "2j2vJOhrS31j"
   },
   "outputs": [],
   "source": [
    "def StandardScalertransform(x):\n",
    "    m=mean(x)\n",
    "    return (x-m)/std(x)"
   ]
  },
  {
   "cell_type": "code",
   "execution_count": 17,
   "metadata": {
    "id": "r5o1mjweIMrk"
   },
   "outputs": [
    {
     "name": "stdout",
     "output_type": "stream",
     "text": [
      "Type of X : <class 'numpy.ndarray'>\n",
      "Check your Mean  : 0.0  The Answer should be 0 \n",
      "Type of X : <class 'numpy.ndarray'>\n",
      "Check your Mean  : 0.0  The Answer should be 0 \n",
      "Mean of X : 50.0\n",
      "Type of X : <class 'numpy.ndarray'>\n",
      "Check your Mean  : 0.0  The Answer should be 0 \n",
      "Check your Standard Deviation  : 0.0  The Answer should be 0 \n",
      "[-1.54919334 -1.161895   -0.77459667 -0.38729833  0.          0.38729833\n",
      "  0.77459667  1.161895    1.54919334]\n"
     ]
    }
   ],
   "source": [
    "Scaled=StandardScalertransform(X_train)\n",
    "('Check your Result here :',np.std(Scaled) ,' The Answer Should  be equal to 1.0')\n",
    "print(Scaled)"
   ]
  },
  {
   "cell_type": "markdown",
   "metadata": {
    "id": "lStxSqT_TKgi"
   },
   "source": [
    "# Normalize\n",
    "\n",
    "Formula = (x -min)/( max - min)"
   ]
  },
  {
   "cell_type": "code",
   "execution_count": 11,
   "metadata": {
    "id": "-wBGJd3ZTOYM"
   },
   "outputs": [],
   "source": [
    "def minMaxScaler(x):\n",
    "        return (x-np.min(x))/(np.max(x)-np.min(x))\n",
    "    "
   ]
  },
  {
   "cell_type": "code",
   "execution_count": 16,
   "metadata": {
    "id": "-NZd34N4MHTz"
   },
   "outputs": [
    {
     "name": "stdout",
     "output_type": "stream",
     "text": [
      "[0.    0.125 0.25  0.375 0.5   0.625 0.75  0.875 1.   ]\n",
      "to Check if you are right :-\n",
      " The Minimum  0.0 The Value should be 0\n",
      " The Maximum  1.0  The Value should be 1 \n"
     ]
    }
   ],
   "source": [
    "mm=minMaxScaler(X_train)\n",
    "print(mm)\n",
    "print('to Check if you are right :-\\n' ' The Minimum ',np.min(mm),'The Value should be 0\\n', 'The Maximum ' ,np.max(mm), ' The Value should be 1 ')"
   ]
  },
  {
   "cell_type": "markdown",
   "metadata": {
    "id": "gGqUo__HI1g-"
   },
   "source": [
    "# Master Task \n",
    "Make A Class called `Transformer` That takes The last 2 Functions  as Methods for the Class."
   ]
  },
  {
   "cell_type": "code",
   "execution_count": 13,
   "metadata": {
    "id": "tc4VcQd3fv_5"
   },
   "outputs": [],
   "source": [
    "class Transformer ():\n",
    "  # Attributes\n",
    "    def __init__ ( self ,x ):\n",
    "        self.x = x \n",
    "        self.mean = mean(self.x) \n",
    "    def StandardScalertransform(self):\n",
    "        return (self.x-self.mean)/std(self.x)\n",
    "    def minMaxScaler(self ):\n",
    "        return (self.x-np.min(self.x))/(np.max(self.x)-np.min(self.x))"
   ]
  },
  {
   "cell_type": "code",
   "execution_count": 14,
   "metadata": {
    "id": "cCaugTTegSw_"
   },
   "outputs": [
    {
     "name": "stdout",
     "output_type": "stream",
     "text": [
      "Type of X : <class 'numpy.ndarray'>\n",
      "Check your Mean  : 0.0  The Answer should be 0 \n",
      "Type of X : <class 'numpy.ndarray'>\n",
      "Check your Mean  : 0.0  The Answer should be 0 \n",
      "Mean of X : 50.0\n",
      "Type of X : <class 'numpy.ndarray'>\n",
      "Check your Mean  : 0.0  The Answer should be 0 \n",
      "Check your Standard Deviation  : 0.0  The Answer should be 0 \n"
     ]
    },
    {
     "data": {
      "text/plain": [
       "array([-1.54919334, -1.161895  , -0.77459667, -0.38729833,  0.        ,\n",
       "        0.38729833,  0.77459667,  1.161895  ,  1.54919334])"
      ]
     },
     "execution_count": 14,
     "metadata": {},
     "output_type": "execute_result"
    }
   ],
   "source": [
    "T=Transformer(X_train)\n",
    "T.StandardScalertransform()"
   ]
  },
  {
   "cell_type": "code",
   "execution_count": 15,
   "metadata": {
    "id": "qhkJgdMAgfds"
   },
   "outputs": [
    {
     "data": {
      "text/plain": [
       "array([0.   , 0.125, 0.25 , 0.375, 0.5  , 0.625, 0.75 , 0.875, 1.   ])"
      ]
     },
     "execution_count": 15,
     "metadata": {},
     "output_type": "execute_result"
    }
   ],
   "source": [
    "T.minMaxScaler()"
   ]
  },
  {
   "cell_type": "code",
   "execution_count": null,
   "metadata": {},
   "outputs": [],
   "source": []
  }
 ],
 "metadata": {
  "colab": {
   "collapsed_sections": [],
   "name": "Transformation.ipynb",
   "provenance": []
  },
  "kernelspec": {
   "display_name": "Python 3",
   "language": "python",
   "name": "python3"
  },
  "language_info": {
   "codemirror_mode": {
    "name": "ipython",
    "version": 3
   },
   "file_extension": ".py",
   "mimetype": "text/x-python",
   "name": "python",
   "nbconvert_exporter": "python",
   "pygments_lexer": "ipython3",
   "version": "3.8.3"
  }
 },
 "nbformat": 4,
 "nbformat_minor": 1
}
