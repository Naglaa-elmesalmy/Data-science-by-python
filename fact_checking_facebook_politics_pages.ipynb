{
  "nbformat": 4,
  "nbformat_minor": 0,
  "metadata": {
    "colab": {
      "name": "fact-checking-facebook-politics-pages.ipynb",
      "provenance": []
    },
    "kernelspec": {
      "display_name": "Python 3",
      "language": "python",
      "name": "python3"
    },
    "language_info": {
      "codemirror_mode": {
        "name": "ipython",
        "version": 3
      },
      "file_extension": ".py",
      "mimetype": "text/x-python",
      "name": "python",
      "nbconvert_exporter": "python",
      "pygments_lexer": "ipython3",
      "version": "3.8.3"
    }
  },
  "cells": [
    {
      "cell_type": "markdown",
      "metadata": {
        "id": "4U72OimyWhID"
      },
      "source": [
        "# Fact-Checking Facebook Politics Pages\n",
        "## Hyperpartisan Facebook pages and misleading information during the 2016 election"
      ]
    },
    {
      "cell_type": "markdown",
      "metadata": {
        "id": "ev67OMX51a3R"
      },
      "source": [
        "## Problem Defintion:\n",
        "   ### <b>  During the 2016 US presidential election, the phrase “fake news” found its way to the forefront in news articles, tweets, and fiery online debates the world over after misleading and untrue stories proliferated rapidly. BuzzFeed News analyzed over 1,000 stories from hyperpartisan political Facebook pages selected from the right, left, and mainstream media to determine the nature and popularity of false or misleading information they shared.</b>\n",
        "   ### This dataset supports the original story “Hyperpartisan Facebook Pages Are Publishing False And Misleading Information At An Alarming Rate” published October 20th, 2016. \n",
        "    "
      ]
    },
    {
      "cell_type": "markdown",
      "metadata": {
        "id": "Hbro8UlY1a3S"
      },
      "source": [
        "##### the link is: https://www.kaggle.com/mrisdal/fact-checking-facebook-politics-pages"
      ]
    },
    {
      "cell_type": "code",
      "metadata": {
        "id": "tMzFYkkQ1a3T"
      },
      "source": [
        "import numpy as np\n",
        "import pandas as pd\n",
        "import seaborn as sns\n",
        "\n",
        "sns.set(rc={'figure.figsize': [10, 10]}, font_scale=1.2)"
      ],
      "execution_count": 70,
      "outputs": []
    },
    {
      "cell_type": "code",
      "metadata": {
        "colab": {
          "base_uri": "https://localhost:8080/",
          "height": 306
        },
        "id": "LFSMmRSeXBBz",
        "outputId": "50af3e8b-5c17-4a33-b10e-b7f4e5aad85a"
      },
      "source": [
        "df = pd.read_csv('/content/facebook-fact-check.csv')\n",
        "df.head()"
      ],
      "execution_count": 71,
      "outputs": [
        {
          "output_type": "execute_result",
          "data": {
            "text/html": [
              "<div>\n",
              "<style scoped>\n",
              "    .dataframe tbody tr th:only-of-type {\n",
              "        vertical-align: middle;\n",
              "    }\n",
              "\n",
              "    .dataframe tbody tr th {\n",
              "        vertical-align: top;\n",
              "    }\n",
              "\n",
              "    .dataframe thead th {\n",
              "        text-align: right;\n",
              "    }\n",
              "</style>\n",
              "<table border=\"1\" class=\"dataframe\">\n",
              "  <thead>\n",
              "    <tr style=\"text-align: right;\">\n",
              "      <th></th>\n",
              "      <th>account_id</th>\n",
              "      <th>post_id</th>\n",
              "      <th>Category</th>\n",
              "      <th>Page</th>\n",
              "      <th>Post URL</th>\n",
              "      <th>Date Published</th>\n",
              "      <th>Post Type</th>\n",
              "      <th>Rating</th>\n",
              "      <th>Debate</th>\n",
              "      <th>share_count</th>\n",
              "      <th>reaction_count</th>\n",
              "      <th>comment_count</th>\n",
              "    </tr>\n",
              "  </thead>\n",
              "  <tbody>\n",
              "    <tr>\n",
              "      <th>0</th>\n",
              "      <td>184096565021911</td>\n",
              "      <td>1035057923259100</td>\n",
              "      <td>mainstream</td>\n",
              "      <td>ABC News Politics</td>\n",
              "      <td>https://www.facebook.com/ABCNewsPolitics/posts...</td>\n",
              "      <td>2016-09-19</td>\n",
              "      <td>video</td>\n",
              "      <td>no factual content</td>\n",
              "      <td>NaN</td>\n",
              "      <td>NaN</td>\n",
              "      <td>146.0</td>\n",
              "      <td>15.0</td>\n",
              "    </tr>\n",
              "    <tr>\n",
              "      <th>1</th>\n",
              "      <td>184096565021911</td>\n",
              "      <td>1035269309904628</td>\n",
              "      <td>mainstream</td>\n",
              "      <td>ABC News Politics</td>\n",
              "      <td>https://www.facebook.com/ABCNewsPolitics/posts...</td>\n",
              "      <td>2016-09-19</td>\n",
              "      <td>link</td>\n",
              "      <td>mostly true</td>\n",
              "      <td>NaN</td>\n",
              "      <td>1.0</td>\n",
              "      <td>33.0</td>\n",
              "      <td>34.0</td>\n",
              "    </tr>\n",
              "    <tr>\n",
              "      <th>2</th>\n",
              "      <td>184096565021911</td>\n",
              "      <td>1035305953234297</td>\n",
              "      <td>mainstream</td>\n",
              "      <td>ABC News Politics</td>\n",
              "      <td>https://www.facebook.com/ABCNewsPolitics/posts...</td>\n",
              "      <td>2016-09-19</td>\n",
              "      <td>link</td>\n",
              "      <td>mostly true</td>\n",
              "      <td>NaN</td>\n",
              "      <td>34.0</td>\n",
              "      <td>63.0</td>\n",
              "      <td>27.0</td>\n",
              "    </tr>\n",
              "    <tr>\n",
              "      <th>3</th>\n",
              "      <td>184096565021911</td>\n",
              "      <td>1035322636565962</td>\n",
              "      <td>mainstream</td>\n",
              "      <td>ABC News Politics</td>\n",
              "      <td>https://www.facebook.com/ABCNewsPolitics/posts...</td>\n",
              "      <td>2016-09-19</td>\n",
              "      <td>link</td>\n",
              "      <td>mostly true</td>\n",
              "      <td>NaN</td>\n",
              "      <td>35.0</td>\n",
              "      <td>170.0</td>\n",
              "      <td>86.0</td>\n",
              "    </tr>\n",
              "    <tr>\n",
              "      <th>4</th>\n",
              "      <td>184096565021911</td>\n",
              "      <td>1035352946562931</td>\n",
              "      <td>mainstream</td>\n",
              "      <td>ABC News Politics</td>\n",
              "      <td>https://www.facebook.com/ABCNewsPolitics/posts...</td>\n",
              "      <td>2016-09-19</td>\n",
              "      <td>video</td>\n",
              "      <td>mostly true</td>\n",
              "      <td>NaN</td>\n",
              "      <td>568.0</td>\n",
              "      <td>3188.0</td>\n",
              "      <td>2815.0</td>\n",
              "    </tr>\n",
              "  </tbody>\n",
              "</table>\n",
              "</div>"
            ],
            "text/plain": [
              "        account_id           post_id  ... reaction_count comment_count\n",
              "0  184096565021911  1035057923259100  ...          146.0          15.0\n",
              "1  184096565021911  1035269309904628  ...           33.0          34.0\n",
              "2  184096565021911  1035305953234297  ...           63.0          27.0\n",
              "3  184096565021911  1035322636565962  ...          170.0          86.0\n",
              "4  184096565021911  1035352946562931  ...         3188.0        2815.0\n",
              "\n",
              "[5 rows x 12 columns]"
            ]
          },
          "metadata": {
            "tags": []
          },
          "execution_count": 71
        }
      ]
    },
    {
      "cell_type": "code",
      "metadata": {
        "colab": {
          "base_uri": "https://localhost:8080/"
        },
        "id": "eJTRMK6nXORz",
        "outputId": "555706e0-f375-41b5-9119-580602e84f80"
      },
      "source": [
        "df.info()"
      ],
      "execution_count": 72,
      "outputs": [
        {
          "output_type": "stream",
          "text": [
            "<class 'pandas.core.frame.DataFrame'>\n",
            "RangeIndex: 2282 entries, 0 to 2281\n",
            "Data columns (total 12 columns):\n",
            " #   Column          Non-Null Count  Dtype  \n",
            "---  ------          --------------  -----  \n",
            " 0   account_id      2282 non-null   int64  \n",
            " 1   post_id         2282 non-null   int64  \n",
            " 2   Category        2282 non-null   object \n",
            " 3   Page            2282 non-null   object \n",
            " 4   Post URL        2282 non-null   object \n",
            " 5   Date Published  2282 non-null   object \n",
            " 6   Post Type       2282 non-null   object \n",
            " 7   Rating          2282 non-null   object \n",
            " 8   Debate          298 non-null    object \n",
            " 9   share_count     2212 non-null   float64\n",
            " 10  reaction_count  2280 non-null   float64\n",
            " 11  comment_count   2280 non-null   float64\n",
            "dtypes: float64(3), int64(2), object(7)\n",
            "memory usage: 214.1+ KB\n"
          ],
          "name": "stdout"
        }
      ]
    },
    {
      "cell_type": "code",
      "metadata": {
        "colab": {
          "base_uri": "https://localhost:8080/"
        },
        "id": "SkQGtTXcXTay",
        "outputId": "a8f60a57-da12-4c27-dfa5-b06a74ebd650"
      },
      "source": [
        "df['account_id'].unique()"
      ],
      "execution_count": 73,
      "outputs": [
        {
          "output_type": "execute_result",
          "data": {
            "text/plain": [
              "array([184096565021911, 146422995398181, 219367258105115, 135665053303678,\n",
              "       440106476051475, 346937065399354,     62317591679, 389658314427637,\n",
              "       114517875225866])"
            ]
          },
          "metadata": {
            "tags": []
          },
          "execution_count": 73
        }
      ]
    },
    {
      "cell_type": "code",
      "metadata": {
        "colab": {
          "base_uri": "https://localhost:8080/"
        },
        "id": "gthCl6UXblPE",
        "outputId": "7e365d1b-9249-4bab-e8f4-5aa91a1043ed"
      },
      "source": [
        "df['Page'].value_counts()"
      ],
      "execution_count": 74,
      "outputs": [
        {
          "output_type": "execute_result",
          "data": {
            "text/plain": [
              "Politico             536\n",
              "CNN Politics         409\n",
              "Eagle Rising         286\n",
              "Right Wing News      268\n",
              "Occupy Democrats     209\n",
              "ABC News Politics    200\n",
              "Addicting Info       140\n",
              "The Other 98%        122\n",
              "Freedom Daily        112\n",
              "Name: Page, dtype: int64"
            ]
          },
          "metadata": {
            "tags": []
          },
          "execution_count": 74
        }
      ]
    },
    {
      "cell_type": "code",
      "metadata": {
        "colab": {
          "base_uri": "https://localhost:8080/"
        },
        "id": "Z7rxqN7rckpT",
        "outputId": "527e8eb4-8bb2-4bfd-9817-dc89638cac0c"
      },
      "source": [
        "\n",
        "(df['account_id'].astype(str)+df['Page']).unique()\n"
      ],
      "execution_count": 75,
      "outputs": [
        {
          "output_type": "execute_result",
          "data": {
            "text/plain": [
              "array(['184096565021911ABC News Politics',\n",
              "       '146422995398181Addicting Info', '219367258105115CNN Politics',\n",
              "       '135665053303678Eagle Rising', '440106476051475Freedom Daily',\n",
              "       '346937065399354Occupy Democrats', '62317591679Politico',\n",
              "       '389658314427637Right Wing News', '114517875225866The Other 98%'],\n",
              "      dtype=object)"
            ]
          },
          "metadata": {
            "tags": []
          },
          "execution_count": 75
        }
      ]
    },
    {
      "cell_type": "markdown",
      "metadata": {
        "id": "qJvCAJaFZ0uZ"
      },
      "source": [
        "#### we analysis data of 9 pages ,account_id is code of page and page is name of page\n",
        "***"
      ]
    },
    {
      "cell_type": "code",
      "metadata": {
        "colab": {
          "base_uri": "https://localhost:8080/"
        },
        "id": "odvT1VKnaIxT",
        "outputId": "2800890f-38dc-465f-bdc1-2943f89ea91e"
      },
      "source": [
        "len(df['post_id'].unique())"
      ],
      "execution_count": 76,
      "outputs": [
        {
          "output_type": "execute_result",
          "data": {
            "text/plain": [
              "2282"
            ]
          },
          "metadata": {
            "tags": []
          },
          "execution_count": 76
        }
      ]
    },
    {
      "cell_type": "code",
      "metadata": {
        "colab": {
          "base_uri": "https://localhost:8080/"
        },
        "id": "Q__R_vsi1a3Z",
        "outputId": "ee45657e-011b-4691-fd48-18871624600f"
      },
      "source": [
        "len(df['Post URL'].unique())"
      ],
      "execution_count": 77,
      "outputs": [
        {
          "output_type": "execute_result",
          "data": {
            "text/plain": [
              "2282"
            ]
          },
          "metadata": {
            "tags": []
          },
          "execution_count": 77
        }
      ]
    },
    {
      "cell_type": "markdown",
      "metadata": {
        "id": "cTmYcoaNaMlT"
      },
      "source": [
        "#### post id is unique as Post URL .each post has unique id and url\n",
        "***"
      ]
    },
    {
      "cell_type": "code",
      "metadata": {
        "colab": {
          "base_uri": "https://localhost:8080/"
        },
        "id": "xkz7cVrxbXng",
        "outputId": "058853ba-6749-4b85-f212-eaba17c647ec"
      },
      "source": [
        "df['Category'].value_counts()"
      ],
      "execution_count": 78,
      "outputs": [
        {
          "output_type": "execute_result",
          "data": {
            "text/plain": [
              "mainstream    1145\n",
              "right          666\n",
              "left           471\n",
              "Name: Category, dtype: int64"
            ]
          },
          "metadata": {
            "tags": []
          },
          "execution_count": 78
        }
      ]
    },
    {
      "cell_type": "markdown",
      "metadata": {
        "id": "EvTzqiStb4QU"
      },
      "source": [
        "#### the Category is place of publication: mainstream ,right or left\n",
        "***"
      ]
    },
    {
      "cell_type": "code",
      "metadata": {
        "colab": {
          "base_uri": "https://localhost:8080/"
        },
        "id": "NAiVca_MgI11",
        "outputId": "f433eae4-51d3-412b-da80-a8de239d3f20"
      },
      "source": [
        "df['Date Published'].unique()"
      ],
      "execution_count": 79,
      "outputs": [
        {
          "output_type": "execute_result",
          "data": {
            "text/plain": [
              "array(['2016-09-19', '2016-09-20', '2016-09-21', '2016-09-22',\n",
              "       '2016-09-23', '2016-09-26', '2016-09-27'], dtype=object)"
            ]
          },
          "metadata": {
            "tags": []
          },
          "execution_count": 79
        }
      ]
    },
    {
      "cell_type": "markdown",
      "metadata": {
        "id": "00JqU11SkGS4"
      },
      "source": [
        "#### we have 7 dayes\n",
        "***"
      ]
    },
    {
      "cell_type": "code",
      "metadata": {
        "colab": {
          "base_uri": "https://localhost:8080/"
        },
        "id": "RaWD7WpxlTuX",
        "outputId": "c2897e90-844a-4385-edd7-0f8f036be348"
      },
      "source": [
        "df['Post Type'].unique()"
      ],
      "execution_count": 80,
      "outputs": [
        {
          "output_type": "execute_result",
          "data": {
            "text/plain": [
              "array(['video', 'link', 'text', 'photo'], dtype=object)"
            ]
          },
          "metadata": {
            "tags": []
          },
          "execution_count": 80
        }
      ]
    },
    {
      "cell_type": "code",
      "metadata": {
        "colab": {
          "base_uri": "https://localhost:8080/"
        },
        "id": "1O9FvxZS1a3c",
        "outputId": "f618f088-97b1-4149-fad5-eca1cd85f75b"
      },
      "source": [
        "df['Post Type'].value_counts()"
      ],
      "execution_count": 81,
      "outputs": [
        {
          "output_type": "execute_result",
          "data": {
            "text/plain": [
              "link     1780\n",
              "video     291\n",
              "photo     207\n",
              "text        4\n",
              "Name: Post Type, dtype: int64"
            ]
          },
          "metadata": {
            "tags": []
          },
          "execution_count": 81
        }
      ]
    },
    {
      "cell_type": "markdown",
      "metadata": {
        "id": "MqBeoiim1a3c"
      },
      "source": [
        "***"
      ]
    },
    {
      "cell_type": "code",
      "metadata": {
        "colab": {
          "base_uri": "https://localhost:8080/"
        },
        "id": "_voW90z8lX7o",
        "outputId": "e98b52e1-0c18-4f5e-b953-fdaa12d11118"
      },
      "source": [
        "df['Rating'].unique()"
      ],
      "execution_count": 82,
      "outputs": [
        {
          "output_type": "execute_result",
          "data": {
            "text/plain": [
              "array(['no factual content', 'mostly true', 'mixture of true and false',\n",
              "       'mostly false'], dtype=object)"
            ]
          },
          "metadata": {
            "tags": []
          },
          "execution_count": 82
        }
      ]
    },
    {
      "cell_type": "markdown",
      "metadata": {
        "id": "qjCmnnHo1a3d"
      },
      "source": [
        "***"
      ]
    },
    {
      "cell_type": "code",
      "metadata": {
        "colab": {
          "base_uri": "https://localhost:8080/"
        },
        "id": "9m9w3W60ldVI",
        "outputId": "ae8c7f1b-8546-4b1c-f72a-e856ba304400"
      },
      "source": [
        "\n",
        "df['Debate'].unique()"
      ],
      "execution_count": 83,
      "outputs": [
        {
          "output_type": "execute_result",
          "data": {
            "text/plain": [
              "array([nan, 'yes'], dtype=object)"
            ]
          },
          "metadata": {
            "tags": []
          },
          "execution_count": 83
        }
      ]
    },
    {
      "cell_type": "code",
      "metadata": {
        "id": "e0-U9o1ol2S4"
      },
      "source": [
        "df['Debate']= df['Debate'].replace(np.nan, 0)"
      ],
      "execution_count": 84,
      "outputs": []
    },
    {
      "cell_type": "code",
      "metadata": {
        "id": "u609d3hTmzZO"
      },
      "source": [
        "df['Debate']= df['Debate'].replace('yes', 1)"
      ],
      "execution_count": 85,
      "outputs": []
    },
    {
      "cell_type": "code",
      "metadata": {
        "colab": {
          "base_uri": "https://localhost:8080/"
        },
        "id": "dpIUEOoom1SY",
        "outputId": "2ebf8aea-ceeb-4dbb-9aed-4532c7c7a36f"
      },
      "source": [
        "df['Debate'].value_counts()"
      ],
      "execution_count": 86,
      "outputs": [
        {
          "output_type": "execute_result",
          "data": {
            "text/plain": [
              "0    1984\n",
              "1     298\n",
              "Name: Debate, dtype: int64"
            ]
          },
          "metadata": {
            "tags": []
          },
          "execution_count": 86
        }
      ]
    },
    {
      "cell_type": "markdown",
      "metadata": {
        "id": "ekDNpGLz1a3f"
      },
      "source": [
        "***"
      ]
    },
    {
      "cell_type": "code",
      "metadata": {
        "colab": {
          "base_uri": "https://localhost:8080/"
        },
        "id": "XlNxhCVBNNSV",
        "outputId": "403b6e29-adc4-4871-9d40-7d9d57983b6f"
      },
      "source": [
        "df['share_count'].value_counts()"
      ],
      "execution_count": 87,
      "outputs": [
        {
          "output_type": "execute_result",
          "data": {
            "text/plain": [
              "4.0        41\n",
              "5.0        31\n",
              "7.0        31\n",
              "3.0        30\n",
              "6.0        29\n",
              "           ..\n",
              "11931.0     1\n",
              "1670.0      1\n",
              "1086.0      1\n",
              "537.0       1\n",
              "40316.0     1\n",
              "Name: share_count, Length: 950, dtype: int64"
            ]
          },
          "metadata": {
            "tags": []
          },
          "execution_count": 87
        }
      ]
    },
    {
      "cell_type": "markdown",
      "metadata": {
        "id": "CllE2Z9o1a3f"
      },
      "source": [
        "***"
      ]
    },
    {
      "cell_type": "code",
      "metadata": {
        "colab": {
          "base_uri": "https://localhost:8080/"
        },
        "id": "vuGTk7KaNZ7n",
        "outputId": "0a56de03-fca3-4f8c-fea5-c18b8ec3b61e"
      },
      "source": [
        "df['reaction_count'].value_counts()"
      ],
      "execution_count": 88,
      "outputs": [
        {
          "output_type": "execute_result",
          "data": {
            "text/plain": [
              "31.0       10\n",
              "62.0       10\n",
              "47.0        9\n",
              "19.0        9\n",
              "50.0        9\n",
              "           ..\n",
              "2817.0      1\n",
              "15494.0     1\n",
              "8807.0      1\n",
              "4284.0      1\n",
              "20953.0     1\n",
              "Name: reaction_count, Length: 1448, dtype: int64"
            ]
          },
          "metadata": {
            "tags": []
          },
          "execution_count": 88
        }
      ]
    },
    {
      "cell_type": "markdown",
      "metadata": {
        "id": "Ivt_h_Ku1a3g"
      },
      "source": [
        "***"
      ]
    },
    {
      "cell_type": "code",
      "metadata": {
        "colab": {
          "base_uri": "https://localhost:8080/"
        },
        "id": "Vp4eqX68NfrH",
        "outputId": "f92c9c3d-5c49-4830-8af6-b783745e49a4"
      },
      "source": [
        "df['comment_count'].value_counts()"
      ],
      "execution_count": 89,
      "outputs": [
        {
          "output_type": "execute_result",
          "data": {
            "text/plain": [
              "18.0      28\n",
              "16.0      25\n",
              "6.0       23\n",
              "5.0       23\n",
              "17.0      21\n",
              "          ..\n",
              "661.0      1\n",
              "819.0      1\n",
              "1085.0     1\n",
              "777.0      1\n",
              "1524.0     1\n",
              "Name: comment_count, Length: 813, dtype: int64"
            ]
          },
          "metadata": {
            "tags": []
          },
          "execution_count": 89
        }
      ]
    },
    {
      "cell_type": "markdown",
      "metadata": {
        "id": "U1rV3Ukk1a3h"
      },
      "source": [
        "***"
      ]
    },
    {
      "cell_type": "markdown",
      "metadata": {
        "id": "XkuaJ-PM1a3h"
      },
      "source": [
        "## Data Analayis :\n"
      ]
    },
    {
      "cell_type": "markdown",
      "metadata": {
        "id": "4LdT-87t1a3h"
      },
      "source": [
        "\n",
        "\n",
        "    1-How do left, mainstream, and right categories of Facebook pages differ in the stories they share?\n",
        "    (تاثير مكان النشر في التفاعل)\n",
        "\n",
        "    2-Which types of stories receive the most engagement from their Facebook followers? Are videos or links more effective for engagement?\n",
        "    (تاثير نوع البوست في التفاعل )\n",
        "\n",
        "    3-Can you replicate BuzzFeed’s findings that “the least accurate pages generated some of the highest numbers of shares, reactions, and comments on Facebook”?\n",
        "\n",
        "    4-the effect of the post type on the engagement with Rating\n",
        "    ( تاثير نوع البوست في التفاعلمع المصدقية بمعني هل فديو ممكن يحصل علي تفاعل اكثرحتي لو الخبر غير صحيح)\n",
        "    \n",
        "    5-The effect of page on the engagement with Rating\n",
        "    (هل صفحة نشر بتاثر في التفاعل)\n",
        "    \n",
        "    6-which page has the most 'Mostly True'  , 'No Factual Content' and 'Mostly False' rate\n",
        "    (اي الصفحة بتنشر اخبار حقيقية و ايهم بينشر اخبار كاذبة)\n",
        "    \n",
        "    7-no. of posts through day \n",
        "    \n",
        "    8-the effect of post type in debate\n",
        "    \n",
        "    9-How do left, mainstream, and right categories of Facebook pages differ in debate\n",
        "    "
      ]
    },
    {
      "cell_type": "code",
      "metadata": {
        "colab": {
          "base_uri": "https://localhost:8080/",
          "height": 793
        },
        "id": "0xrU-umo1a3i",
        "outputId": "f4da4907-f3e5-494a-f404-00889200ddfb"
      },
      "source": [
        "df.groupby('Category')[['share_count','reaction_count','comment_count']].describe().transpose()\n"
      ],
      "execution_count": 90,
      "outputs": [
        {
          "output_type": "execute_result",
          "data": {
            "text/html": [
              "<div>\n",
              "<style scoped>\n",
              "    .dataframe tbody tr th:only-of-type {\n",
              "        vertical-align: middle;\n",
              "    }\n",
              "\n",
              "    .dataframe tbody tr th {\n",
              "        vertical-align: top;\n",
              "    }\n",
              "\n",
              "    .dataframe thead th {\n",
              "        text-align: right;\n",
              "    }\n",
              "</style>\n",
              "<table border=\"1\" class=\"dataframe\">\n",
              "  <thead>\n",
              "    <tr style=\"text-align: right;\">\n",
              "      <th></th>\n",
              "      <th>Category</th>\n",
              "      <th>left</th>\n",
              "      <th>mainstream</th>\n",
              "      <th>right</th>\n",
              "    </tr>\n",
              "  </thead>\n",
              "  <tbody>\n",
              "    <tr>\n",
              "      <th rowspan=\"8\" valign=\"top\">share_count</th>\n",
              "      <th>count</th>\n",
              "      <td>4.410000e+02</td>\n",
              "      <td>1116.000000</td>\n",
              "      <td>655.000000</td>\n",
              "    </tr>\n",
              "    <tr>\n",
              "      <th>mean</th>\n",
              "      <td>1.802528e+04</td>\n",
              "      <td>160.656810</td>\n",
              "      <td>1249.911450</td>\n",
              "    </tr>\n",
              "    <tr>\n",
              "      <th>std</th>\n",
              "      <td>6.486066e+04</td>\n",
              "      <td>939.808276</td>\n",
              "      <td>3385.122061</td>\n",
              "    </tr>\n",
              "    <tr>\n",
              "      <th>min</th>\n",
              "      <td>1.000000e+00</td>\n",
              "      <td>1.000000</td>\n",
              "      <td>2.000000</td>\n",
              "    </tr>\n",
              "    <tr>\n",
              "      <th>25%</th>\n",
              "      <td>8.640000e+02</td>\n",
              "      <td>13.000000</td>\n",
              "      <td>44.500000</td>\n",
              "    </tr>\n",
              "    <tr>\n",
              "      <th>50%</th>\n",
              "      <td>3.658000e+03</td>\n",
              "      <td>33.000000</td>\n",
              "      <td>209.000000</td>\n",
              "    </tr>\n",
              "    <tr>\n",
              "      <th>75%</th>\n",
              "      <td>1.385000e+04</td>\n",
              "      <td>100.250000</td>\n",
              "      <td>973.500000</td>\n",
              "    </tr>\n",
              "    <tr>\n",
              "      <th>max</th>\n",
              "      <td>1.088995e+06</td>\n",
              "      <td>22880.000000</td>\n",
              "      <td>40316.000000</td>\n",
              "    </tr>\n",
              "    <tr>\n",
              "      <th rowspan=\"8\" valign=\"top\">reaction_count</th>\n",
              "      <th>count</th>\n",
              "      <td>4.700000e+02</td>\n",
              "      <td>1145.000000</td>\n",
              "      <td>665.000000</td>\n",
              "    </tr>\n",
              "    <tr>\n",
              "      <th>mean</th>\n",
              "      <td>2.174489e+04</td>\n",
              "      <td>694.371179</td>\n",
              "      <td>1827.690226</td>\n",
              "    </tr>\n",
              "    <tr>\n",
              "      <th>std</th>\n",
              "      <td>3.756936e+04</td>\n",
              "      <td>1863.640252</td>\n",
              "      <td>3549.938221</td>\n",
              "    </tr>\n",
              "    <tr>\n",
              "      <th>min</th>\n",
              "      <td>7.100000e+01</td>\n",
              "      <td>2.000000</td>\n",
              "      <td>2.000000</td>\n",
              "    </tr>\n",
              "    <tr>\n",
              "      <th>25%</th>\n",
              "      <td>3.326750e+03</td>\n",
              "      <td>92.000000</td>\n",
              "      <td>142.000000</td>\n",
              "    </tr>\n",
              "    <tr>\n",
              "      <th>50%</th>\n",
              "      <td>9.549000e+03</td>\n",
              "      <td>260.000000</td>\n",
              "      <td>531.000000</td>\n",
              "    </tr>\n",
              "    <tr>\n",
              "      <th>75%</th>\n",
              "      <td>2.713625e+04</td>\n",
              "      <td>668.000000</td>\n",
              "      <td>1733.000000</td>\n",
              "    </tr>\n",
              "    <tr>\n",
              "      <th>max</th>\n",
              "      <td>4.564580e+05</td>\n",
              "      <td>39730.000000</td>\n",
              "      <td>31112.000000</td>\n",
              "    </tr>\n",
              "    <tr>\n",
              "      <th rowspan=\"8\" valign=\"top\">comment_count</th>\n",
              "      <th>count</th>\n",
              "      <td>4.700000e+02</td>\n",
              "      <td>1145.000000</td>\n",
              "      <td>665.000000</td>\n",
              "    </tr>\n",
              "    <tr>\n",
              "      <th>mean</th>\n",
              "      <td>1.623264e+03</td>\n",
              "      <td>207.221834</td>\n",
              "      <td>265.428571</td>\n",
              "    </tr>\n",
              "    <tr>\n",
              "      <th>std</th>\n",
              "      <td>7.710416e+03</td>\n",
              "      <td>346.028544</td>\n",
              "      <td>659.400272</td>\n",
              "    </tr>\n",
              "    <tr>\n",
              "      <th>min</th>\n",
              "      <td>1.000000e+00</td>\n",
              "      <td>0.000000</td>\n",
              "      <td>0.000000</td>\n",
              "    </tr>\n",
              "    <tr>\n",
              "      <th>25%</th>\n",
              "      <td>2.962500e+02</td>\n",
              "      <td>39.000000</td>\n",
              "      <td>16.000000</td>\n",
              "    </tr>\n",
              "    <tr>\n",
              "      <th>50%</th>\n",
              "      <td>5.920000e+02</td>\n",
              "      <td>103.000000</td>\n",
              "      <td>51.000000</td>\n",
              "    </tr>\n",
              "    <tr>\n",
              "      <th>75%</th>\n",
              "      <td>1.397500e+03</td>\n",
              "      <td>238.000000</td>\n",
              "      <td>210.000000</td>\n",
              "    </tr>\n",
              "    <tr>\n",
              "      <th>max</th>\n",
              "      <td>1.590470e+05</td>\n",
              "      <td>5400.000000</td>\n",
              "      <td>6711.000000</td>\n",
              "    </tr>\n",
              "  </tbody>\n",
              "</table>\n",
              "</div>"
            ],
            "text/plain": [
              "Category                      left    mainstream         right\n",
              "share_count    count  4.410000e+02   1116.000000    655.000000\n",
              "               mean   1.802528e+04    160.656810   1249.911450\n",
              "               std    6.486066e+04    939.808276   3385.122061\n",
              "               min    1.000000e+00      1.000000      2.000000\n",
              "               25%    8.640000e+02     13.000000     44.500000\n",
              "               50%    3.658000e+03     33.000000    209.000000\n",
              "               75%    1.385000e+04    100.250000    973.500000\n",
              "               max    1.088995e+06  22880.000000  40316.000000\n",
              "reaction_count count  4.700000e+02   1145.000000    665.000000\n",
              "               mean   2.174489e+04    694.371179   1827.690226\n",
              "               std    3.756936e+04   1863.640252   3549.938221\n",
              "               min    7.100000e+01      2.000000      2.000000\n",
              "               25%    3.326750e+03     92.000000    142.000000\n",
              "               50%    9.549000e+03    260.000000    531.000000\n",
              "               75%    2.713625e+04    668.000000   1733.000000\n",
              "               max    4.564580e+05  39730.000000  31112.000000\n",
              "comment_count  count  4.700000e+02   1145.000000    665.000000\n",
              "               mean   1.623264e+03    207.221834    265.428571\n",
              "               std    7.710416e+03    346.028544    659.400272\n",
              "               min    1.000000e+00      0.000000      0.000000\n",
              "               25%    2.962500e+02     39.000000     16.000000\n",
              "               50%    5.920000e+02    103.000000     51.000000\n",
              "               75%    1.397500e+03    238.000000    210.000000\n",
              "               max    1.590470e+05   5400.000000   6711.000000"
            ]
          },
          "metadata": {
            "tags": []
          },
          "execution_count": 90
        }
      ]
    },
    {
      "cell_type": "code",
      "metadata": {
        "colab": {
          "base_uri": "https://localhost:8080/",
          "height": 173
        },
        "id": "RcaF6Zsx1a3i",
        "outputId": "8a19e749-41c6-4ba4-fb18-fd5356c9345f"
      },
      "source": [
        "df.groupby('Category')[['share_count','reaction_count','comment_count']].mean()"
      ],
      "execution_count": 91,
      "outputs": [
        {
          "output_type": "execute_result",
          "data": {
            "text/html": [
              "<div>\n",
              "<style scoped>\n",
              "    .dataframe tbody tr th:only-of-type {\n",
              "        vertical-align: middle;\n",
              "    }\n",
              "\n",
              "    .dataframe tbody tr th {\n",
              "        vertical-align: top;\n",
              "    }\n",
              "\n",
              "    .dataframe thead th {\n",
              "        text-align: right;\n",
              "    }\n",
              "</style>\n",
              "<table border=\"1\" class=\"dataframe\">\n",
              "  <thead>\n",
              "    <tr style=\"text-align: right;\">\n",
              "      <th></th>\n",
              "      <th>share_count</th>\n",
              "      <th>reaction_count</th>\n",
              "      <th>comment_count</th>\n",
              "    </tr>\n",
              "    <tr>\n",
              "      <th>Category</th>\n",
              "      <th></th>\n",
              "      <th></th>\n",
              "      <th></th>\n",
              "    </tr>\n",
              "  </thead>\n",
              "  <tbody>\n",
              "    <tr>\n",
              "      <th>left</th>\n",
              "      <td>18025.276644</td>\n",
              "      <td>21744.893617</td>\n",
              "      <td>1623.263830</td>\n",
              "    </tr>\n",
              "    <tr>\n",
              "      <th>mainstream</th>\n",
              "      <td>160.656810</td>\n",
              "      <td>694.371179</td>\n",
              "      <td>207.221834</td>\n",
              "    </tr>\n",
              "    <tr>\n",
              "      <th>right</th>\n",
              "      <td>1249.911450</td>\n",
              "      <td>1827.690226</td>\n",
              "      <td>265.428571</td>\n",
              "    </tr>\n",
              "  </tbody>\n",
              "</table>\n",
              "</div>"
            ],
            "text/plain": [
              "             share_count  reaction_count  comment_count\n",
              "Category                                               \n",
              "left        18025.276644    21744.893617    1623.263830\n",
              "mainstream    160.656810      694.371179     207.221834\n",
              "right        1249.911450     1827.690226     265.428571"
            ]
          },
          "metadata": {
            "tags": []
          },
          "execution_count": 91
        }
      ]
    },
    {
      "cell_type": "code",
      "metadata": {
        "colab": {
          "base_uri": "https://localhost:8080/",
          "height": 173
        },
        "id": "DCpI3GFd1a3j",
        "outputId": "b101f1b3-1a8f-418b-b6ce-fc35469569c7"
      },
      "source": [
        "df.groupby('Category')[['share_count','reaction_count','comment_count']].count()"
      ],
      "execution_count": 92,
      "outputs": [
        {
          "output_type": "execute_result",
          "data": {
            "text/html": [
              "<div>\n",
              "<style scoped>\n",
              "    .dataframe tbody tr th:only-of-type {\n",
              "        vertical-align: middle;\n",
              "    }\n",
              "\n",
              "    .dataframe tbody tr th {\n",
              "        vertical-align: top;\n",
              "    }\n",
              "\n",
              "    .dataframe thead th {\n",
              "        text-align: right;\n",
              "    }\n",
              "</style>\n",
              "<table border=\"1\" class=\"dataframe\">\n",
              "  <thead>\n",
              "    <tr style=\"text-align: right;\">\n",
              "      <th></th>\n",
              "      <th>share_count</th>\n",
              "      <th>reaction_count</th>\n",
              "      <th>comment_count</th>\n",
              "    </tr>\n",
              "    <tr>\n",
              "      <th>Category</th>\n",
              "      <th></th>\n",
              "      <th></th>\n",
              "      <th></th>\n",
              "    </tr>\n",
              "  </thead>\n",
              "  <tbody>\n",
              "    <tr>\n",
              "      <th>left</th>\n",
              "      <td>441</td>\n",
              "      <td>470</td>\n",
              "      <td>470</td>\n",
              "    </tr>\n",
              "    <tr>\n",
              "      <th>mainstream</th>\n",
              "      <td>1116</td>\n",
              "      <td>1145</td>\n",
              "      <td>1145</td>\n",
              "    </tr>\n",
              "    <tr>\n",
              "      <th>right</th>\n",
              "      <td>655</td>\n",
              "      <td>665</td>\n",
              "      <td>665</td>\n",
              "    </tr>\n",
              "  </tbody>\n",
              "</table>\n",
              "</div>"
            ],
            "text/plain": [
              "            share_count  reaction_count  comment_count\n",
              "Category                                              \n",
              "left                441             470            470\n",
              "mainstream         1116            1145           1145\n",
              "right               655             665            665"
            ]
          },
          "metadata": {
            "tags": []
          },
          "execution_count": 92
        }
      ]
    },
    {
      "cell_type": "markdown",
      "metadata": {
        "id": "29NQHoIu1a3j"
      },
      "source": [
        "علي الرغم ان البوستات في الوسط اكثر ثم ياليه اليمين ثم الشمال الا ان التفاعل مع الشمال اكثر ثم اليمين ثم الوسط "
      ]
    },
    {
      "cell_type": "code",
      "metadata": {
        "colab": {
          "base_uri": "https://localhost:8080/",
          "height": 204
        },
        "id": "Z4d_KzV51a3k",
        "outputId": "35452dab-8660-47de-e275-63a487d9aa23"
      },
      "source": [
        "df.groupby('Post Type')[['share_count','reaction_count','comment_count']].mean()"
      ],
      "execution_count": 93,
      "outputs": [
        {
          "output_type": "execute_result",
          "data": {
            "text/html": [
              "<div>\n",
              "<style scoped>\n",
              "    .dataframe tbody tr th:only-of-type {\n",
              "        vertical-align: middle;\n",
              "    }\n",
              "\n",
              "    .dataframe tbody tr th {\n",
              "        vertical-align: top;\n",
              "    }\n",
              "\n",
              "    .dataframe thead th {\n",
              "        text-align: right;\n",
              "    }\n",
              "</style>\n",
              "<table border=\"1\" class=\"dataframe\">\n",
              "  <thead>\n",
              "    <tr style=\"text-align: right;\">\n",
              "      <th></th>\n",
              "      <th>share_count</th>\n",
              "      <th>reaction_count</th>\n",
              "      <th>comment_count</th>\n",
              "    </tr>\n",
              "    <tr>\n",
              "      <th>Post Type</th>\n",
              "      <th></th>\n",
              "      <th></th>\n",
              "      <th></th>\n",
              "    </tr>\n",
              "  </thead>\n",
              "  <tbody>\n",
              "    <tr>\n",
              "      <th>link</th>\n",
              "      <td>1222.195701</td>\n",
              "      <td>2403.888702</td>\n",
              "      <td>310.169196</td>\n",
              "    </tr>\n",
              "    <tr>\n",
              "      <th>photo</th>\n",
              "      <td>16038.428571</td>\n",
              "      <td>25102.425121</td>\n",
              "      <td>842.980676</td>\n",
              "    </tr>\n",
              "    <tr>\n",
              "      <th>text</th>\n",
              "      <td>2.750000</td>\n",
              "      <td>51.250000</td>\n",
              "      <td>34.500000</td>\n",
              "    </tr>\n",
              "    <tr>\n",
              "      <th>video</th>\n",
              "      <td>14929.290984</td>\n",
              "      <td>9509.117241</td>\n",
              "      <td>1552.713793</td>\n",
              "    </tr>\n",
              "  </tbody>\n",
              "</table>\n",
              "</div>"
            ],
            "text/plain": [
              "            share_count  reaction_count  comment_count\n",
              "Post Type                                             \n",
              "link        1222.195701     2403.888702     310.169196\n",
              "photo      16038.428571    25102.425121     842.980676\n",
              "text           2.750000       51.250000      34.500000\n",
              "video      14929.290984     9509.117241    1552.713793"
            ]
          },
          "metadata": {
            "tags": []
          },
          "execution_count": 93
        }
      ]
    },
    {
      "cell_type": "markdown",
      "metadata": {
        "id": "dhrH60nc1a3k"
      },
      "source": [
        "الصور هي الاكثر في التفعل وثم ياليها الفيديو ولكن الفيديو بكون الاكثر في تعليقات عن الصور ثم ياتي بعد ذلك اللينك ثم النصوص"
      ]
    },
    {
      "cell_type": "code",
      "metadata": {
        "colab": {
          "base_uri": "https://localhost:8080/",
          "height": 483
        },
        "id": "g10csdbq1a3l",
        "outputId": "cf1d76b9-3da8-4428-9edc-b4dd2af87841"
      },
      "source": [
        "df.groupby(['Post Type','Rating'])[['share_count','reaction_count','comment_count']].mean()"
      ],
      "execution_count": 94,
      "outputs": [
        {
          "output_type": "execute_result",
          "data": {
            "text/html": [
              "<div>\n",
              "<style scoped>\n",
              "    .dataframe tbody tr th:only-of-type {\n",
              "        vertical-align: middle;\n",
              "    }\n",
              "\n",
              "    .dataframe tbody tr th {\n",
              "        vertical-align: top;\n",
              "    }\n",
              "\n",
              "    .dataframe thead th {\n",
              "        text-align: right;\n",
              "    }\n",
              "</style>\n",
              "<table border=\"1\" class=\"dataframe\">\n",
              "  <thead>\n",
              "    <tr style=\"text-align: right;\">\n",
              "      <th></th>\n",
              "      <th></th>\n",
              "      <th>share_count</th>\n",
              "      <th>reaction_count</th>\n",
              "      <th>comment_count</th>\n",
              "    </tr>\n",
              "    <tr>\n",
              "      <th>Post Type</th>\n",
              "      <th>Rating</th>\n",
              "      <th></th>\n",
              "      <th></th>\n",
              "      <th></th>\n",
              "    </tr>\n",
              "  </thead>\n",
              "  <tbody>\n",
              "    <tr>\n",
              "      <th rowspan=\"4\" valign=\"top\">link</th>\n",
              "      <th>mixture of true and false</th>\n",
              "      <td>2351.127753</td>\n",
              "      <td>4159.449782</td>\n",
              "      <td>551.235808</td>\n",
              "    </tr>\n",
              "    <tr>\n",
              "      <th>mostly false</th>\n",
              "      <td>3135.425532</td>\n",
              "      <td>5045.294737</td>\n",
              "      <td>491.063158</td>\n",
              "    </tr>\n",
              "    <tr>\n",
              "      <th>mostly true</th>\n",
              "      <td>771.482558</td>\n",
              "      <td>1885.678468</td>\n",
              "      <td>259.888006</td>\n",
              "    </tr>\n",
              "    <tr>\n",
              "      <th>no factual content</th>\n",
              "      <td>3814.732394</td>\n",
              "      <td>3308.760563</td>\n",
              "      <td>270.732394</td>\n",
              "    </tr>\n",
              "    <tr>\n",
              "      <th rowspan=\"4\" valign=\"top\">photo</th>\n",
              "      <th>mixture of true and false</th>\n",
              "      <td>14248.833333</td>\n",
              "      <td>11501.333333</td>\n",
              "      <td>758.166667</td>\n",
              "    </tr>\n",
              "    <tr>\n",
              "      <th>mostly false</th>\n",
              "      <td>8112.333333</td>\n",
              "      <td>14877.444444</td>\n",
              "      <td>666.777778</td>\n",
              "    </tr>\n",
              "    <tr>\n",
              "      <th>mostly true</th>\n",
              "      <td>13191.741379</td>\n",
              "      <td>21930.079365</td>\n",
              "      <td>707.634921</td>\n",
              "    </tr>\n",
              "    <tr>\n",
              "      <th>no factual content</th>\n",
              "      <td>18048.024390</td>\n",
              "      <td>27997.689922</td>\n",
              "      <td>925.317829</td>\n",
              "    </tr>\n",
              "    <tr>\n",
              "      <th rowspan=\"2\" valign=\"top\">text</th>\n",
              "      <th>mixture of true and false</th>\n",
              "      <td>3.000000</td>\n",
              "      <td>47.000000</td>\n",
              "      <td>7.000000</td>\n",
              "    </tr>\n",
              "    <tr>\n",
              "      <th>mostly true</th>\n",
              "      <td>2.666667</td>\n",
              "      <td>52.666667</td>\n",
              "      <td>43.666667</td>\n",
              "    </tr>\n",
              "    <tr>\n",
              "      <th rowspan=\"3\" valign=\"top\">video</th>\n",
              "      <th>mixture of true and false</th>\n",
              "      <td>86574.000000</td>\n",
              "      <td>55715.555556</td>\n",
              "      <td>5896.333333</td>\n",
              "    </tr>\n",
              "    <tr>\n",
              "      <th>mostly true</th>\n",
              "      <td>4643.561224</td>\n",
              "      <td>4377.930876</td>\n",
              "      <td>681.668203</td>\n",
              "    </tr>\n",
              "    <tr>\n",
              "      <th>no factual content</th>\n",
              "      <td>51868.073171</td>\n",
              "      <td>20409.265625</td>\n",
              "      <td>3895.281250</td>\n",
              "    </tr>\n",
              "  </tbody>\n",
              "</table>\n",
              "</div>"
            ],
            "text/plain": [
              "                                      share_count  ...  comment_count\n",
              "Post Type Rating                                   ...               \n",
              "link      mixture of true and false   2351.127753  ...     551.235808\n",
              "          mostly false                3135.425532  ...     491.063158\n",
              "          mostly true                  771.482558  ...     259.888006\n",
              "          no factual content          3814.732394  ...     270.732394\n",
              "photo     mixture of true and false  14248.833333  ...     758.166667\n",
              "          mostly false                8112.333333  ...     666.777778\n",
              "          mostly true                13191.741379  ...     707.634921\n",
              "          no factual content         18048.024390  ...     925.317829\n",
              "text      mixture of true and false      3.000000  ...       7.000000\n",
              "          mostly true                    2.666667  ...      43.666667\n",
              "video     mixture of true and false  86574.000000  ...    5896.333333\n",
              "          mostly true                 4643.561224  ...     681.668203\n",
              "          no factual content         51868.073171  ...    3895.281250\n",
              "\n",
              "[13 rows x 3 columns]"
            ]
          },
          "metadata": {
            "tags": []
          },
          "execution_count": 94
        }
      ]
    },
    {
      "cell_type": "markdown",
      "metadata": {
        "id": "sFC9Alpy1a3l"
      },
      "source": [
        "الفيديو ايضا يعتبراكثر تفعل في حالةالاخبار المغلوطة "
      ]
    },
    {
      "cell_type": "code",
      "metadata": {
        "colab": {
          "base_uri": "https://localhost:8080/",
          "height": 359
        },
        "id": "J-eFItA61a3l",
        "outputId": "8d346acc-1076-43b8-9cf8-076f324b3478"
      },
      "source": [
        "df.groupby(['Page'])[['share_count','reaction_count','comment_count']].mean()\n"
      ],
      "execution_count": 95,
      "outputs": [
        {
          "output_type": "execute_result",
          "data": {
            "text/html": [
              "<div>\n",
              "<style scoped>\n",
              "    .dataframe tbody tr th:only-of-type {\n",
              "        vertical-align: middle;\n",
              "    }\n",
              "\n",
              "    .dataframe tbody tr th {\n",
              "        vertical-align: top;\n",
              "    }\n",
              "\n",
              "    .dataframe thead th {\n",
              "        text-align: right;\n",
              "    }\n",
              "</style>\n",
              "<table border=\"1\" class=\"dataframe\">\n",
              "  <thead>\n",
              "    <tr style=\"text-align: right;\">\n",
              "      <th></th>\n",
              "      <th>share_count</th>\n",
              "      <th>reaction_count</th>\n",
              "      <th>comment_count</th>\n",
              "    </tr>\n",
              "    <tr>\n",
              "      <th>Page</th>\n",
              "      <th></th>\n",
              "      <th></th>\n",
              "      <th></th>\n",
              "    </tr>\n",
              "  </thead>\n",
              "  <tbody>\n",
              "    <tr>\n",
              "      <th>ABC News Politics</th>\n",
              "      <td>44.477273</td>\n",
              "      <td>176.670000</td>\n",
              "      <td>71.435000</td>\n",
              "    </tr>\n",
              "    <tr>\n",
              "      <th>Addicting Info</th>\n",
              "      <td>1270.358209</td>\n",
              "      <td>3120.307143</td>\n",
              "      <td>392.264286</td>\n",
              "    </tr>\n",
              "    <tr>\n",
              "      <th>CNN Politics</th>\n",
              "      <td>183.374384</td>\n",
              "      <td>677.657702</td>\n",
              "      <td>322.097800</td>\n",
              "    </tr>\n",
              "    <tr>\n",
              "      <th>Eagle Rising</th>\n",
              "      <td>616.122744</td>\n",
              "      <td>519.989510</td>\n",
              "      <td>79.482517</td>\n",
              "    </tr>\n",
              "    <tr>\n",
              "      <th>Freedom Daily</th>\n",
              "      <td>2474.387387</td>\n",
              "      <td>3685.108108</td>\n",
              "      <td>516.225225</td>\n",
              "    </tr>\n",
              "    <tr>\n",
              "      <th>Occupy Democrats</th>\n",
              "      <td>29204.721393</td>\n",
              "      <td>34668.736842</td>\n",
              "      <td>2858.100478</td>\n",
              "    </tr>\n",
              "    <tr>\n",
              "      <th>Politico</th>\n",
              "      <td>181.676030</td>\n",
              "      <td>900.296642</td>\n",
              "      <td>170.231343</td>\n",
              "    </tr>\n",
              "    <tr>\n",
              "      <th>Right Wing News</th>\n",
              "      <td>1398.385768</td>\n",
              "      <td>2453.917910</td>\n",
              "      <td>359.988806</td>\n",
              "    </tr>\n",
              "    <tr>\n",
              "      <th>The Other 98%</th>\n",
              "      <td>18007.264151</td>\n",
              "      <td>20971.000000</td>\n",
              "      <td>914.661157</td>\n",
              "    </tr>\n",
              "  </tbody>\n",
              "</table>\n",
              "</div>"
            ],
            "text/plain": [
              "                    share_count  reaction_count  comment_count\n",
              "Page                                                          \n",
              "ABC News Politics     44.477273      176.670000      71.435000\n",
              "Addicting Info      1270.358209     3120.307143     392.264286\n",
              "CNN Politics         183.374384      677.657702     322.097800\n",
              "Eagle Rising         616.122744      519.989510      79.482517\n",
              "Freedom Daily       2474.387387     3685.108108     516.225225\n",
              "Occupy Democrats   29204.721393    34668.736842    2858.100478\n",
              "Politico             181.676030      900.296642     170.231343\n",
              "Right Wing News     1398.385768     2453.917910     359.988806\n",
              "The Other 98%      18007.264151    20971.000000     914.661157"
            ]
          },
          "metadata": {
            "tags": []
          },
          "execution_count": 95
        }
      ]
    },
    {
      "cell_type": "markdown",
      "metadata": {
        "id": "JIpsAMWc1a3m"
      },
      "source": [
        "اكثر الصفحات تفاعل هي \n",
        " Occupy Democrats\n",
        "ثم ياليه \n",
        "The Other 98%\t"
      ]
    },
    {
      "cell_type": "code",
      "metadata": {
        "colab": {
          "base_uri": "https://localhost:8080/",
          "height": 1000
        },
        "id": "_IqSOd7E1a3m",
        "outputId": "c8870930-eb34-4424-f837-1bb44f7ba3fe"
      },
      "source": [
        "df.groupby(['Page','Rating'])[['share_count','reaction_count','comment_count']].mean()"
      ],
      "execution_count": 96,
      "outputs": [
        {
          "output_type": "execute_result",
          "data": {
            "text/html": [
              "<div>\n",
              "<style scoped>\n",
              "    .dataframe tbody tr th:only-of-type {\n",
              "        vertical-align: middle;\n",
              "    }\n",
              "\n",
              "    .dataframe tbody tr th {\n",
              "        vertical-align: top;\n",
              "    }\n",
              "\n",
              "    .dataframe thead th {\n",
              "        text-align: right;\n",
              "    }\n",
              "</style>\n",
              "<table border=\"1\" class=\"dataframe\">\n",
              "  <thead>\n",
              "    <tr style=\"text-align: right;\">\n",
              "      <th></th>\n",
              "      <th></th>\n",
              "      <th>share_count</th>\n",
              "      <th>reaction_count</th>\n",
              "      <th>comment_count</th>\n",
              "    </tr>\n",
              "    <tr>\n",
              "      <th>Page</th>\n",
              "      <th>Rating</th>\n",
              "      <th></th>\n",
              "      <th></th>\n",
              "      <th></th>\n",
              "    </tr>\n",
              "  </thead>\n",
              "  <tbody>\n",
              "    <tr>\n",
              "      <th rowspan=\"3\" valign=\"top\">ABC News Politics</th>\n",
              "      <th>mixture of true and false</th>\n",
              "      <td>76.000000</td>\n",
              "      <td>479.000000</td>\n",
              "      <td>59.000000</td>\n",
              "    </tr>\n",
              "    <tr>\n",
              "      <th>mostly true</th>\n",
              "      <td>42.377358</td>\n",
              "      <td>175.843023</td>\n",
              "      <td>66.813953</td>\n",
              "    </tr>\n",
              "    <tr>\n",
              "      <th>no factual content</th>\n",
              "      <td>62.533333</td>\n",
              "      <td>158.884615</td>\n",
              "      <td>102.961538</td>\n",
              "    </tr>\n",
              "    <tr>\n",
              "      <th rowspan=\"4\" valign=\"top\">Addicting Info</th>\n",
              "      <th>mixture of true and false</th>\n",
              "      <td>1516.260870</td>\n",
              "      <td>3451.480000</td>\n",
              "      <td>459.560000</td>\n",
              "    </tr>\n",
              "    <tr>\n",
              "      <th>mostly false</th>\n",
              "      <td>1891.285714</td>\n",
              "      <td>4003.625000</td>\n",
              "      <td>704.125000</td>\n",
              "    </tr>\n",
              "    <tr>\n",
              "      <th>mostly true</th>\n",
              "      <td>1004.872340</td>\n",
              "      <td>2800.072917</td>\n",
              "      <td>367.697917</td>\n",
              "    </tr>\n",
              "    <tr>\n",
              "      <th>no factual content</th>\n",
              "      <td>2765.700000</td>\n",
              "      <td>4520.000000</td>\n",
              "      <td>226.909091</td>\n",
              "    </tr>\n",
              "    <tr>\n",
              "      <th rowspan=\"3\" valign=\"top\">CNN Politics</th>\n",
              "      <th>mixture of true and false</th>\n",
              "      <td>239.000000</td>\n",
              "      <td>1327.000000</td>\n",
              "      <td>262.250000</td>\n",
              "    </tr>\n",
              "    <tr>\n",
              "      <th>mostly true</th>\n",
              "      <td>181.133508</td>\n",
              "      <td>672.023377</td>\n",
              "      <td>321.462338</td>\n",
              "    </tr>\n",
              "    <tr>\n",
              "      <th>no factual content</th>\n",
              "      <td>215.050000</td>\n",
              "      <td>656.250000</td>\n",
              "      <td>346.300000</td>\n",
              "    </tr>\n",
              "    <tr>\n",
              "      <th rowspan=\"4\" valign=\"top\">Eagle Rising</th>\n",
              "      <th>mixture of true and false</th>\n",
              "      <td>1182.169811</td>\n",
              "      <td>706.888889</td>\n",
              "      <td>148.740741</td>\n",
              "    </tr>\n",
              "    <tr>\n",
              "      <th>mostly false</th>\n",
              "      <td>1300.500000</td>\n",
              "      <td>926.366667</td>\n",
              "      <td>88.900000</td>\n",
              "    </tr>\n",
              "    <tr>\n",
              "      <th>mostly true</th>\n",
              "      <td>262.891667</td>\n",
              "      <td>300.181818</td>\n",
              "      <td>66.925620</td>\n",
              "    </tr>\n",
              "    <tr>\n",
              "      <th>no factual content</th>\n",
              "      <td>506.067568</td>\n",
              "      <td>573.234568</td>\n",
              "      <td>48.580247</td>\n",
              "    </tr>\n",
              "    <tr>\n",
              "      <th rowspan=\"4\" valign=\"top\">Freedom Daily</th>\n",
              "      <th>mixture of true and false</th>\n",
              "      <td>1377.423077</td>\n",
              "      <td>2488.538462</td>\n",
              "      <td>553.384615</td>\n",
              "    </tr>\n",
              "    <tr>\n",
              "      <th>mostly false</th>\n",
              "      <td>3390.153846</td>\n",
              "      <td>4650.884615</td>\n",
              "      <td>575.730769</td>\n",
              "    </tr>\n",
              "    <tr>\n",
              "      <th>mostly true</th>\n",
              "      <td>2542.763636</td>\n",
              "      <td>3692.109091</td>\n",
              "      <td>479.672727</td>\n",
              "    </tr>\n",
              "    <tr>\n",
              "      <th>no factual content</th>\n",
              "      <td>2712.000000</td>\n",
              "      <td>5089.000000</td>\n",
              "      <td>390.500000</td>\n",
              "    </tr>\n",
              "    <tr>\n",
              "      <th rowspan=\"4\" valign=\"top\">Occupy Democrats</th>\n",
              "      <th>mixture of true and false</th>\n",
              "      <td>26035.606061</td>\n",
              "      <td>28933.030303</td>\n",
              "      <td>2924.060606</td>\n",
              "    </tr>\n",
              "    <tr>\n",
              "      <th>mostly false</th>\n",
              "      <td>10603.000000</td>\n",
              "      <td>22854.444444</td>\n",
              "      <td>1425.555556</td>\n",
              "    </tr>\n",
              "    <tr>\n",
              "      <th>mostly true</th>\n",
              "      <td>16215.202020</td>\n",
              "      <td>25000.372549</td>\n",
              "      <td>1624.441176</td>\n",
              "    </tr>\n",
              "    <tr>\n",
              "      <th>no factual content</th>\n",
              "      <td>55170.700000</td>\n",
              "      <td>54388.430769</td>\n",
              "      <td>4958.861538</td>\n",
              "    </tr>\n",
              "    <tr>\n",
              "      <th rowspan=\"3\" valign=\"top\">Politico</th>\n",
              "      <th>mixture of true and false</th>\n",
              "      <td>7325.000000</td>\n",
              "      <td>20343.500000</td>\n",
              "      <td>1510.000000</td>\n",
              "    </tr>\n",
              "    <tr>\n",
              "      <th>mostly true</th>\n",
              "      <td>155.640684</td>\n",
              "      <td>832.107955</td>\n",
              "      <td>166.477273</td>\n",
              "    </tr>\n",
              "    <tr>\n",
              "      <th>no factual content</th>\n",
              "      <td>83.000000</td>\n",
              "      <td>419.833333</td>\n",
              "      <td>54.000000</td>\n",
              "    </tr>\n",
              "    <tr>\n",
              "      <th rowspan=\"4\" valign=\"top\">Right Wing News</th>\n",
              "      <th>mixture of true and false</th>\n",
              "      <td>1472.471910</td>\n",
              "      <td>2465.258427</td>\n",
              "      <td>447.696629</td>\n",
              "    </tr>\n",
              "    <tr>\n",
              "      <th>mostly false</th>\n",
              "      <td>2431.807692</td>\n",
              "      <td>3999.384615</td>\n",
              "      <td>434.461538</td>\n",
              "    </tr>\n",
              "    <tr>\n",
              "      <th>mostly true</th>\n",
              "      <td>668.411348</td>\n",
              "      <td>1602.112676</td>\n",
              "      <td>291.352113</td>\n",
              "    </tr>\n",
              "    <tr>\n",
              "      <th>no factual content</th>\n",
              "      <td>7713.272727</td>\n",
              "      <td>9705.272727</td>\n",
              "      <td>360.363636</td>\n",
              "    </tr>\n",
              "    <tr>\n",
              "      <th rowspan=\"4\" valign=\"top\">The Other 98%</th>\n",
              "      <th>mixture of true and false</th>\n",
              "      <td>9543.888889</td>\n",
              "      <td>11269.700000</td>\n",
              "      <td>942.100000</td>\n",
              "    </tr>\n",
              "    <tr>\n",
              "      <th>mostly false</th>\n",
              "      <td>13737.800000</td>\n",
              "      <td>24556.600000</td>\n",
              "      <td>1051.400000</td>\n",
              "    </tr>\n",
              "    <tr>\n",
              "      <th>mostly true</th>\n",
              "      <td>10765.280702</td>\n",
              "      <td>14052.772727</td>\n",
              "      <td>792.727273</td>\n",
              "    </tr>\n",
              "    <tr>\n",
              "      <th>no factual content</th>\n",
              "      <td>32587.571429</td>\n",
              "      <td>34363.200000</td>\n",
              "      <td>1091.900000</td>\n",
              "    </tr>\n",
              "  </tbody>\n",
              "</table>\n",
              "</div>"
            ],
            "text/plain": [
              "                                              share_count  ...  comment_count\n",
              "Page              Rating                                   ...               \n",
              "ABC News Politics mixture of true and false     76.000000  ...      59.000000\n",
              "                  mostly true                   42.377358  ...      66.813953\n",
              "                  no factual content            62.533333  ...     102.961538\n",
              "Addicting Info    mixture of true and false   1516.260870  ...     459.560000\n",
              "                  mostly false                1891.285714  ...     704.125000\n",
              "                  mostly true                 1004.872340  ...     367.697917\n",
              "                  no factual content          2765.700000  ...     226.909091\n",
              "CNN Politics      mixture of true and false    239.000000  ...     262.250000\n",
              "                  mostly true                  181.133508  ...     321.462338\n",
              "                  no factual content           215.050000  ...     346.300000\n",
              "Eagle Rising      mixture of true and false   1182.169811  ...     148.740741\n",
              "                  mostly false                1300.500000  ...      88.900000\n",
              "                  mostly true                  262.891667  ...      66.925620\n",
              "                  no factual content           506.067568  ...      48.580247\n",
              "Freedom Daily     mixture of true and false   1377.423077  ...     553.384615\n",
              "                  mostly false                3390.153846  ...     575.730769\n",
              "                  mostly true                 2542.763636  ...     479.672727\n",
              "                  no factual content          2712.000000  ...     390.500000\n",
              "Occupy Democrats  mixture of true and false  26035.606061  ...    2924.060606\n",
              "                  mostly false               10603.000000  ...    1425.555556\n",
              "                  mostly true                16215.202020  ...    1624.441176\n",
              "                  no factual content         55170.700000  ...    4958.861538\n",
              "Politico          mixture of true and false   7325.000000  ...    1510.000000\n",
              "                  mostly true                  155.640684  ...     166.477273\n",
              "                  no factual content            83.000000  ...      54.000000\n",
              "Right Wing News   mixture of true and false   1472.471910  ...     447.696629\n",
              "                  mostly false                2431.807692  ...     434.461538\n",
              "                  mostly true                  668.411348  ...     291.352113\n",
              "                  no factual content          7713.272727  ...     360.363636\n",
              "The Other 98%     mixture of true and false   9543.888889  ...     942.100000\n",
              "                  mostly false               13737.800000  ...    1051.400000\n",
              "                  mostly true                10765.280702  ...     792.727273\n",
              "                  no factual content         32587.571429  ...    1091.900000\n",
              "\n",
              "[33 rows x 3 columns]"
            ]
          },
          "metadata": {
            "tags": []
          },
          "execution_count": 96
        }
      ]
    },
    {
      "cell_type": "markdown",
      "metadata": {
        "id": "FAOYiaFV1a3m"
      },
      "source": [
        "لم يتاثر التفاعل بمدي مصداقية الخبر ولكن يعتمد التفاعل مع الصفحة"
      ]
    },
    {
      "cell_type": "code",
      "metadata": {
        "colab": {
          "base_uri": "https://localhost:8080/"
        },
        "id": "DBhgTYZm1a3n",
        "outputId": "a8fafe66-0140-45f2-d41a-29235a72dc94"
      },
      "source": [
        "df[df['Rating']=='mostly true']['Page'].value_counts()\n"
      ],
      "execution_count": 97,
      "outputs": [
        {
          "output_type": "execute_result",
          "data": {
            "text/plain": [
              "Politico             528\n",
              "CNN Politics         385\n",
              "ABC News Politics    172\n",
              "Right Wing News      142\n",
              "Eagle Rising         121\n",
              "Occupy Democrats     102\n",
              "Addicting Info        96\n",
              "The Other 98%         67\n",
              "Freedom Daily         56\n",
              "Name: Page, dtype: int64"
            ]
          },
          "metadata": {
            "tags": []
          },
          "execution_count": 97
        }
      ]
    },
    {
      "cell_type": "markdown",
      "metadata": {
        "id": "W_QonIUh1a3n"
      },
      "source": [
        "اكثرالصفحات التي تنشراخبار صحيحة هي\n",
        "Politico \n",
        "اقل الصفحات التي تنشر اخبار صحيحة هي\n",
        "Freedom Daily"
      ]
    },
    {
      "cell_type": "code",
      "metadata": {
        "colab": {
          "base_uri": "https://localhost:8080/"
        },
        "id": "Pr9lhrRO1a3n",
        "outputId": "8294dfee-5c3f-408f-abea-9d508abc6e21"
      },
      "source": [
        "df[(df['Rating']=='mostly false')|(df['Rating']=='no factual content')]['Page'].value_counts()"
      ],
      "execution_count": 98,
      "outputs": [
        {
          "output_type": "execute_result",
          "data": {
            "text/plain": [
              "Eagle Rising         111\n",
              "Occupy Democrats      74\n",
              "The Other 98%         45\n",
              "Right Wing News       37\n",
              "Freedom Daily         30\n",
              "ABC News Politics     26\n",
              "CNN Politics          20\n",
              "Addicting Info        19\n",
              "Politico               6\n",
              "Name: Page, dtype: int64"
            ]
          },
          "metadata": {
            "tags": []
          },
          "execution_count": 98
        }
      ]
    },
    {
      "cell_type": "markdown",
      "metadata": {
        "id": "uyWysNJN1a3o"
      },
      "source": [
        "اكثر الصفحات التي تنشر اخبار هي\n",
        "Eagle Rising\n",
        "اقلهم هي \n",
        "Politico"
      ]
    },
    {
      "cell_type": "code",
      "metadata": {
        "colab": {
          "base_uri": "https://localhost:8080/"
        },
        "id": "6l7dFblh1a3o",
        "outputId": "e2c9f07f-7d99-4aa9-a635-7e1624af9a0f"
      },
      "source": [
        "df.groupby('Date Published')['account_id'].count()"
      ],
      "execution_count": 99,
      "outputs": [
        {
          "output_type": "execute_result",
          "data": {
            "text/plain": [
              "Date Published\n",
              "2016-09-19    306\n",
              "2016-09-20    317\n",
              "2016-09-21    306\n",
              "2016-09-22    293\n",
              "2016-09-23    294\n",
              "2016-09-26    403\n",
              "2016-09-27    363\n",
              "Name: account_id, dtype: int64"
            ]
          },
          "metadata": {
            "tags": []
          },
          "execution_count": 99
        }
      ]
    },
    {
      "cell_type": "code",
      "metadata": {
        "colab": {
          "base_uri": "https://localhost:8080/"
        },
        "id": "Ry7afwrt1a3p",
        "outputId": "344efa3f-42e3-49de-fee9-f38522df66c9"
      },
      "source": [
        "df['account_id'].count()/len(df['Date Published'].unique())"
      ],
      "execution_count": 100,
      "outputs": [
        {
          "output_type": "execute_result",
          "data": {
            "text/plain": [
              "326.0"
            ]
          },
          "metadata": {
            "tags": []
          },
          "execution_count": 100
        }
      ]
    },
    {
      "cell_type": "markdown",
      "metadata": {
        "id": "b4-2iz1s1a3p"
      },
      "source": [
        "متوسط عدد الاخبار في اليوم 326"
      ]
    },
    {
      "cell_type": "code",
      "metadata": {
        "colab": {
          "base_uri": "https://localhost:8080/",
          "height": 686
        },
        "id": "bUIPTHQM7D2u",
        "outputId": "4d026606-176a-40a5-9f0e-d20a9990bbfd"
      },
      "source": [
        "sns.countplot(df['Rating'])"
      ],
      "execution_count": 101,
      "outputs": [
        {
          "output_type": "stream",
          "text": [
            "/usr/local/lib/python3.7/dist-packages/seaborn/_decorators.py:43: FutureWarning: Pass the following variable as a keyword arg: x. From version 0.12, the only valid positional argument will be `data`, and passing other arguments without an explicit keyword will result in an error or misinterpretation.\n",
            "  FutureWarning\n"
          ],
          "name": "stderr"
        },
        {
          "output_type": "execute_result",
          "data": {
            "text/plain": [
              "<matplotlib.axes._subplots.AxesSubplot at 0x7fc4368ac050>"
            ]
          },
          "metadata": {
            "tags": []
          },
          "execution_count": 101
        },
        {
          "output_type": "display_data",
          "data": {
            "image/png": "[encoded data removed]",
            "text/plain": [
              "<Figure size 720x720 with 1 Axes>"
            ]
          },
          "metadata": {
            "tags": []
          }
        }
      ]
    },
    {
      "cell_type": "code",
      "metadata": {
        "colab": {
          "base_uri": "https://localhost:8080/",
          "height": 690
        },
        "id": "2C0FNBhKlSwf",
        "outputId": "f3df2efa-ca28-4aac-d6c8-6ff88a7c1878"
      },
      "source": [
        "sns.countplot(df['Category'])"
      ],
      "execution_count": 102,
      "outputs": [
        {
          "output_type": "stream",
          "text": [
            "/usr/local/lib/python3.7/dist-packages/seaborn/_decorators.py:43: FutureWarning: Pass the following variable as a keyword arg: x. From version 0.12, the only valid positional argument will be `data`, and passing other arguments without an explicit keyword will result in an error or misinterpretation.\n",
            "  FutureWarning\n"
          ],
          "name": "stderr"
        },
        {
          "output_type": "execute_result",
          "data": {
            "text/plain": [
              "<matplotlib.axes._subplots.AxesSubplot at 0x7fc436a5d350>"
            ]
          },
          "metadata": {
            "tags": []
          },
          "execution_count": 102
        },
        {
          "output_type": "display_data",
          "data": {
            "image/png": "[encoded data removed]",
            "text/plain": [
              "<Figure size 720x720 with 1 Axes>"
            ]
          },
          "metadata": {
            "tags": []
          }
        }
      ]
    },
    {
      "cell_type": "code",
      "metadata": {
        "colab": {
          "base_uri": "https://localhost:8080/",
          "height": 632
        },
        "id": "RnrZB6Qbmqe2",
        "outputId": "3442e4af-13a0-47c2-9283-7c88433a6baf"
      },
      "source": [
        "sns.barplot(x=\"Category\", y=\"reaction_count\",hue=\"Post Type\", data=df, palette = 'pastel')"
      ],
      "execution_count": 103,
      "outputs": [
        {
          "output_type": "execute_result",
          "data": {
            "text/plain": [
              "<matplotlib.axes._subplots.AxesSubplot at 0x7fc4367e8350>"
            ]
          },
          "metadata": {
            "tags": []
          },
          "execution_count": 103
        },
        {
          "output_type": "display_data",
          "data": {
            "image/png": "[encoded data removed]",
            "text/plain": [
              "<Figure size 720x720 with 1 Axes>"
            ]
          },
          "metadata": {
            "tags": []
          }
        }
      ]
    },
    {
      "cell_type": "code",
      "metadata": {
        "colab": {
          "base_uri": "https://localhost:8080/",
          "height": 632
        },
        "id": "CT0B80sEBXVu",
        "outputId": "f9d08150-7886-413d-ec9e-6d49a16cd861"
      },
      "source": [
        "sns.barplot(x=\"Rating\", y=\"reaction_count\",hue=\"Post Type\", data=df, palette = 'pastel')"
      ],
      "execution_count": 35,
      "outputs": [
        {
          "output_type": "execute_result",
          "data": {
            "text/plain": [
              "<matplotlib.axes._subplots.AxesSubplot at 0x7fc44f57bad0>"
            ]
          },
          "metadata": {
            "tags": []
          },
          "execution_count": 35
        },
        {
          "output_type": "display_data",
          "data": {
            "image/png": "[encoded data removed]",
            "text/plain": [
              "<Figure size 720x720 with 1 Axes>"
            ]
          },
          "metadata": {
            "tags": []
          }
        }
      ]
    },
    {
      "cell_type": "code",
      "metadata": {
        "colab": {
          "base_uri": "https://localhost:8080/",
          "height": 632
        },
        "id": "5sJsoTZ8B3ZR",
        "outputId": "5242faff-9a9e-407c-81ef-4afa25783d58"
      },
      "source": [
        "sns.barplot(x=\"Rating\", y=\"comment_count\",hue=\"Post Type\", data=df, palette = 'pastel')"
      ],
      "execution_count": 36,
      "outputs": [
        {
          "output_type": "execute_result",
          "data": {
            "text/plain": [
              "<matplotlib.axes._subplots.AxesSubplot at 0x7fc44f57edd0>"
            ]
          },
          "metadata": {
            "tags": []
          },
          "execution_count": 36
        },
        {
          "output_type": "display_data",
          "data": {
            "image/png": "[encoded data removed]",
            "text/plain": [
              "<Figure size 720x720 with 1 Axes>"
            ]
          },
          "metadata": {
            "tags": []
          }
        }
      ]
    },
    {
      "cell_type": "code",
      "metadata": {
        "colab": {
          "base_uri": "https://localhost:8080/",
          "height": 632
        },
        "id": "-diAJaDUCIJq",
        "outputId": "c6c79079-bf7a-40fb-ccda-dc6b1b330bc9"
      },
      "source": [
        "sns.barplot(x=\"Rating\", y=\"share_count\",hue=\"Post Type\", data=df, palette = 'pastel')"
      ],
      "execution_count": 37,
      "outputs": [
        {
          "output_type": "execute_result",
          "data": {
            "text/plain": [
              "<matplotlib.axes._subplots.AxesSubplot at 0x7fc44f01c550>"
            ]
          },
          "metadata": {
            "tags": []
          },
          "execution_count": 37
        },
        {
          "output_type": "display_data",
          "data": {
            "image/png": "[encoded data removed]",
            "text/plain": [
              "<Figure size 720x720 with 1 Axes>"
            ]
          },
          "metadata": {
            "tags": []
          }
        }
      ]
    },
    {
      "cell_type": "code",
      "metadata": {
        "id": "OSw83ze5n1zx"
      },
      "source": [
        "df.drop(['post_id','Post URL'],axis=1,inplace=True)"
      ],
      "execution_count": 38,
      "outputs": []
    },
    {
      "cell_type": "code",
      "metadata": {
        "colab": {
          "base_uri": "https://localhost:8080/",
          "height": 419
        },
        "id": "a9LEdAvCo8Vg",
        "outputId": "048d32bd-3f7d-4014-cbd7-27be06c10ae1"
      },
      "source": [
        "df"
      ],
      "execution_count": 39,
      "outputs": [
        {
          "output_type": "execute_result",
          "data": {
            "text/html": [
              "<div>\n",
              "<style scoped>\n",
              "    .dataframe tbody tr th:only-of-type {\n",
              "        vertical-align: middle;\n",
              "    }\n",
              "\n",
              "    .dataframe tbody tr th {\n",
              "        vertical-align: top;\n",
              "    }\n",
              "\n",
              "    .dataframe thead th {\n",
              "        text-align: right;\n",
              "    }\n",
              "</style>\n",
              "<table border=\"1\" class=\"dataframe\">\n",
              "  <thead>\n",
              "    <tr style=\"text-align: right;\">\n",
              "      <th></th>\n",
              "      <th>account_id</th>\n",
              "      <th>Category</th>\n",
              "      <th>Page</th>\n",
              "      <th>Date Published</th>\n",
              "      <th>Post Type</th>\n",
              "      <th>Rating</th>\n",
              "      <th>Debate</th>\n",
              "      <th>share_count</th>\n",
              "      <th>reaction_count</th>\n",
              "      <th>comment_count</th>\n",
              "    </tr>\n",
              "  </thead>\n",
              "  <tbody>\n",
              "    <tr>\n",
              "      <th>0</th>\n",
              "      <td>184096565021911</td>\n",
              "      <td>mainstream</td>\n",
              "      <td>ABC News Politics</td>\n",
              "      <td>2016-09-19</td>\n",
              "      <td>video</td>\n",
              "      <td>no factual content</td>\n",
              "      <td>0</td>\n",
              "      <td>NaN</td>\n",
              "      <td>146.0</td>\n",
              "      <td>15.0</td>\n",
              "    </tr>\n",
              "    <tr>\n",
              "      <th>1</th>\n",
              "      <td>184096565021911</td>\n",
              "      <td>mainstream</td>\n",
              "      <td>ABC News Politics</td>\n",
              "      <td>2016-09-19</td>\n",
              "      <td>link</td>\n",
              "      <td>mostly true</td>\n",
              "      <td>0</td>\n",
              "      <td>1.0</td>\n",
              "      <td>33.0</td>\n",
              "      <td>34.0</td>\n",
              "    </tr>\n",
              "    <tr>\n",
              "      <th>2</th>\n",
              "      <td>184096565021911</td>\n",
              "      <td>mainstream</td>\n",
              "      <td>ABC News Politics</td>\n",
              "      <td>2016-09-19</td>\n",
              "      <td>link</td>\n",
              "      <td>mostly true</td>\n",
              "      <td>0</td>\n",
              "      <td>34.0</td>\n",
              "      <td>63.0</td>\n",
              "      <td>27.0</td>\n",
              "    </tr>\n",
              "    <tr>\n",
              "      <th>3</th>\n",
              "      <td>184096565021911</td>\n",
              "      <td>mainstream</td>\n",
              "      <td>ABC News Politics</td>\n",
              "      <td>2016-09-19</td>\n",
              "      <td>link</td>\n",
              "      <td>mostly true</td>\n",
              "      <td>0</td>\n",
              "      <td>35.0</td>\n",
              "      <td>170.0</td>\n",
              "      <td>86.0</td>\n",
              "    </tr>\n",
              "    <tr>\n",
              "      <th>4</th>\n",
              "      <td>184096565021911</td>\n",
              "      <td>mainstream</td>\n",
              "      <td>ABC News Politics</td>\n",
              "      <td>2016-09-19</td>\n",
              "      <td>video</td>\n",
              "      <td>mostly true</td>\n",
              "      <td>0</td>\n",
              "      <td>568.0</td>\n",
              "      <td>3188.0</td>\n",
              "      <td>2815.0</td>\n",
              "    </tr>\n",
              "    <tr>\n",
              "      <th>...</th>\n",
              "      <td>...</td>\n",
              "      <td>...</td>\n",
              "      <td>...</td>\n",
              "      <td>...</td>\n",
              "      <td>...</td>\n",
              "      <td>...</td>\n",
              "      <td>...</td>\n",
              "      <td>...</td>\n",
              "      <td>...</td>\n",
              "      <td>...</td>\n",
              "    </tr>\n",
              "    <tr>\n",
              "      <th>2277</th>\n",
              "      <td>114517875225866</td>\n",
              "      <td>left</td>\n",
              "      <td>The Other 98%</td>\n",
              "      <td>2016-09-27</td>\n",
              "      <td>photo</td>\n",
              "      <td>no factual content</td>\n",
              "      <td>0</td>\n",
              "      <td>21563.0</td>\n",
              "      <td>33388.0</td>\n",
              "      <td>391.0</td>\n",
              "    </tr>\n",
              "    <tr>\n",
              "      <th>2278</th>\n",
              "      <td>114517875225866</td>\n",
              "      <td>left</td>\n",
              "      <td>The Other 98%</td>\n",
              "      <td>2016-09-27</td>\n",
              "      <td>link</td>\n",
              "      <td>mostly true</td>\n",
              "      <td>0</td>\n",
              "      <td>1451.0</td>\n",
              "      <td>4828.0</td>\n",
              "      <td>342.0</td>\n",
              "    </tr>\n",
              "    <tr>\n",
              "      <th>2279</th>\n",
              "      <td>114517875225866</td>\n",
              "      <td>left</td>\n",
              "      <td>The Other 98%</td>\n",
              "      <td>2016-09-27</td>\n",
              "      <td>link</td>\n",
              "      <td>mixture of true and false</td>\n",
              "      <td>0</td>\n",
              "      <td>8236.0</td>\n",
              "      <td>12083.0</td>\n",
              "      <td>856.0</td>\n",
              "    </tr>\n",
              "    <tr>\n",
              "      <th>2280</th>\n",
              "      <td>114517875225866</td>\n",
              "      <td>left</td>\n",
              "      <td>The Other 98%</td>\n",
              "      <td>2016-09-27</td>\n",
              "      <td>link</td>\n",
              "      <td>mostly true</td>\n",
              "      <td>1</td>\n",
              "      <td>3985.0</td>\n",
              "      <td>12966.0</td>\n",
              "      <td>538.0</td>\n",
              "    </tr>\n",
              "    <tr>\n",
              "      <th>2281</th>\n",
              "      <td>114517875225866</td>\n",
              "      <td>left</td>\n",
              "      <td>The Other 98%</td>\n",
              "      <td>2016-09-27</td>\n",
              "      <td>photo</td>\n",
              "      <td>no factual content</td>\n",
              "      <td>0</td>\n",
              "      <td>24499.0</td>\n",
              "      <td>47312.0</td>\n",
              "      <td>1375.0</td>\n",
              "    </tr>\n",
              "  </tbody>\n",
              "</table>\n",
              "<p>2282 rows × 10 columns</p>\n",
              "</div>"
            ],
            "text/plain": [
              "           account_id    Category  ... reaction_count comment_count\n",
              "0     184096565021911  mainstream  ...          146.0          15.0\n",
              "1     184096565021911  mainstream  ...           33.0          34.0\n",
              "2     184096565021911  mainstream  ...           63.0          27.0\n",
              "3     184096565021911  mainstream  ...          170.0          86.0\n",
              "4     184096565021911  mainstream  ...         3188.0        2815.0\n",
              "...               ...         ...  ...            ...           ...\n",
              "2277  114517875225866        left  ...        33388.0         391.0\n",
              "2278  114517875225866        left  ...         4828.0         342.0\n",
              "2279  114517875225866        left  ...        12083.0         856.0\n",
              "2280  114517875225866        left  ...        12966.0         538.0\n",
              "2281  114517875225866        left  ...        47312.0        1375.0\n",
              "\n",
              "[2282 rows x 10 columns]"
            ]
          },
          "metadata": {
            "tags": []
          },
          "execution_count": 39
        }
      ]
    },
    {
      "cell_type": "code",
      "metadata": {
        "colab": {
          "base_uri": "https://localhost:8080/"
        },
        "id": "RscCNSVfo_Wp",
        "outputId": "91e75e43-51bb-4ca1-85a3-8265a4911bcf"
      },
      "source": [
        "from sklearn.impute import KNNImputer\n",
        "imputer = KNNImputer()\n",
        "df['share_count'] = imputer.fit_transform(df[['share_count']])\n",
        "df['share_count'].isnull().sum()"
      ],
      "execution_count": 40,
      "outputs": [
        {
          "output_type": "execute_result",
          "data": {
            "text/plain": [
              "0"
            ]
          },
          "metadata": {
            "tags": []
          },
          "execution_count": 40
        }
      ]
    },
    {
      "cell_type": "code",
      "metadata": {
        "colab": {
          "base_uri": "https://localhost:8080/"
        },
        "id": "Q6UdumPXJ4dl",
        "outputId": "2c552939-aad2-4220-c3d3-1d5cece8561a"
      },
      "source": [
        "imputer1 = KNNImputer()\n",
        "df['reaction_count'] = imputer1.fit_transform(df[['reaction_count']])\n",
        "df['reaction_count'].isnull().sum()"
      ],
      "execution_count": 41,
      "outputs": [
        {
          "output_type": "execute_result",
          "data": {
            "text/plain": [
              "0"
            ]
          },
          "metadata": {
            "tags": []
          },
          "execution_count": 41
        }
      ]
    },
    {
      "cell_type": "code",
      "metadata": {
        "colab": {
          "base_uri": "https://localhost:8080/"
        },
        "id": "5mP5VfStKDUN",
        "outputId": "1928b30f-fb46-4e61-f72f-ab321ad1a7a5"
      },
      "source": [
        "imputer2= KNNImputer()\n",
        "df['comment_count'] = imputer2.fit_transform(df[['comment_count']])\n",
        "df['comment_count'].isnull().sum()"
      ],
      "execution_count": 42,
      "outputs": [
        {
          "output_type": "execute_result",
          "data": {
            "text/plain": [
              "0"
            ]
          },
          "metadata": {
            "tags": []
          },
          "execution_count": 42
        }
      ]
    },
    {
      "cell_type": "code",
      "metadata": {
        "id": "UaWAcLJOwpbo"
      },
      "source": [
        "df['Date Published'] = pd.to_datetime(df['Date Published'], format='%Y-%m-%d', errors=\"coerce\")"
      ],
      "execution_count": 43,
      "outputs": []
    },
    {
      "cell_type": "code",
      "metadata": {
        "id": "WYuSRCYSzG8j"
      },
      "source": [
        "df['Day'] = df['Date Published'].dt.day\n"
      ],
      "execution_count": 44,
      "outputs": []
    },
    {
      "cell_type": "code",
      "metadata": {
        "colab": {
          "base_uri": "https://localhost:8080/",
          "height": 419
        },
        "id": "k6WJo8HTzW-w",
        "outputId": "5e18f1c9-8d95-49dd-b2d1-7e40c80611de"
      },
      "source": [
        "df"
      ],
      "execution_count": 45,
      "outputs": [
        {
          "output_type": "execute_result",
          "data": {
            "text/html": [
              "<div>\n",
              "<style scoped>\n",
              "    .dataframe tbody tr th:only-of-type {\n",
              "        vertical-align: middle;\n",
              "    }\n",
              "\n",
              "    .dataframe tbody tr th {\n",
              "        vertical-align: top;\n",
              "    }\n",
              "\n",
              "    .dataframe thead th {\n",
              "        text-align: right;\n",
              "    }\n",
              "</style>\n",
              "<table border=\"1\" class=\"dataframe\">\n",
              "  <thead>\n",
              "    <tr style=\"text-align: right;\">\n",
              "      <th></th>\n",
              "      <th>account_id</th>\n",
              "      <th>Category</th>\n",
              "      <th>Page</th>\n",
              "      <th>Date Published</th>\n",
              "      <th>Post Type</th>\n",
              "      <th>Rating</th>\n",
              "      <th>Debate</th>\n",
              "      <th>share_count</th>\n",
              "      <th>reaction_count</th>\n",
              "      <th>comment_count</th>\n",
              "      <th>Day</th>\n",
              "    </tr>\n",
              "  </thead>\n",
              "  <tbody>\n",
              "    <tr>\n",
              "      <th>0</th>\n",
              "      <td>184096565021911</td>\n",
              "      <td>mainstream</td>\n",
              "      <td>ABC News Politics</td>\n",
              "      <td>2016-09-19</td>\n",
              "      <td>video</td>\n",
              "      <td>no factual content</td>\n",
              "      <td>0</td>\n",
              "      <td>4044.815552</td>\n",
              "      <td>146.0</td>\n",
              "      <td>15.0</td>\n",
              "      <td>19</td>\n",
              "    </tr>\n",
              "    <tr>\n",
              "      <th>1</th>\n",
              "      <td>184096565021911</td>\n",
              "      <td>mainstream</td>\n",
              "      <td>ABC News Politics</td>\n",
              "      <td>2016-09-19</td>\n",
              "      <td>link</td>\n",
              "      <td>mostly true</td>\n",
              "      <td>0</td>\n",
              "      <td>1.000000</td>\n",
              "      <td>33.0</td>\n",
              "      <td>34.0</td>\n",
              "      <td>19</td>\n",
              "    </tr>\n",
              "    <tr>\n",
              "      <th>2</th>\n",
              "      <td>184096565021911</td>\n",
              "      <td>mainstream</td>\n",
              "      <td>ABC News Politics</td>\n",
              "      <td>2016-09-19</td>\n",
              "      <td>link</td>\n",
              "      <td>mostly true</td>\n",
              "      <td>0</td>\n",
              "      <td>34.000000</td>\n",
              "      <td>63.0</td>\n",
              "      <td>27.0</td>\n",
              "      <td>19</td>\n",
              "    </tr>\n",
              "    <tr>\n",
              "      <th>3</th>\n",
              "      <td>184096565021911</td>\n",
              "      <td>mainstream</td>\n",
              "      <td>ABC News Politics</td>\n",
              "      <td>2016-09-19</td>\n",
              "      <td>link</td>\n",
              "      <td>mostly true</td>\n",
              "      <td>0</td>\n",
              "      <td>35.000000</td>\n",
              "      <td>170.0</td>\n",
              "      <td>86.0</td>\n",
              "      <td>19</td>\n",
              "    </tr>\n",
              "    <tr>\n",
              "      <th>4</th>\n",
              "      <td>184096565021911</td>\n",
              "      <td>mainstream</td>\n",
              "      <td>ABC News Politics</td>\n",
              "      <td>2016-09-19</td>\n",
              "      <td>video</td>\n",
              "      <td>mostly true</td>\n",
              "      <td>0</td>\n",
              "      <td>568.000000</td>\n",
              "      <td>3188.0</td>\n",
              "      <td>2815.0</td>\n",
              "      <td>19</td>\n",
              "    </tr>\n",
              "    <tr>\n",
              "      <th>...</th>\n",
              "      <td>...</td>\n",
              "      <td>...</td>\n",
              "      <td>...</td>\n",
              "      <td>...</td>\n",
              "      <td>...</td>\n",
              "      <td>...</td>\n",
              "      <td>...</td>\n",
              "      <td>...</td>\n",
              "      <td>...</td>\n",
              "      <td>...</td>\n",
              "      <td>...</td>\n",
              "    </tr>\n",
              "    <tr>\n",
              "      <th>2277</th>\n",
              "      <td>114517875225866</td>\n",
              "      <td>left</td>\n",
              "      <td>The Other 98%</td>\n",
              "      <td>2016-09-27</td>\n",
              "      <td>photo</td>\n",
              "      <td>no factual content</td>\n",
              "      <td>0</td>\n",
              "      <td>21563.000000</td>\n",
              "      <td>33388.0</td>\n",
              "      <td>391.0</td>\n",
              "      <td>27</td>\n",
              "    </tr>\n",
              "    <tr>\n",
              "      <th>2278</th>\n",
              "      <td>114517875225866</td>\n",
              "      <td>left</td>\n",
              "      <td>The Other 98%</td>\n",
              "      <td>2016-09-27</td>\n",
              "      <td>link</td>\n",
              "      <td>mostly true</td>\n",
              "      <td>0</td>\n",
              "      <td>1451.000000</td>\n",
              "      <td>4828.0</td>\n",
              "      <td>342.0</td>\n",
              "      <td>27</td>\n",
              "    </tr>\n",
              "    <tr>\n",
              "      <th>2279</th>\n",
              "      <td>114517875225866</td>\n",
              "      <td>left</td>\n",
              "      <td>The Other 98%</td>\n",
              "      <td>2016-09-27</td>\n",
              "      <td>link</td>\n",
              "      <td>mixture of true and false</td>\n",
              "      <td>0</td>\n",
              "      <td>8236.000000</td>\n",
              "      <td>12083.0</td>\n",
              "      <td>856.0</td>\n",
              "      <td>27</td>\n",
              "    </tr>\n",
              "    <tr>\n",
              "      <th>2280</th>\n",
              "      <td>114517875225866</td>\n",
              "      <td>left</td>\n",
              "      <td>The Other 98%</td>\n",
              "      <td>2016-09-27</td>\n",
              "      <td>link</td>\n",
              "      <td>mostly true</td>\n",
              "      <td>1</td>\n",
              "      <td>3985.000000</td>\n",
              "      <td>12966.0</td>\n",
              "      <td>538.0</td>\n",
              "      <td>27</td>\n",
              "    </tr>\n",
              "    <tr>\n",
              "      <th>2281</th>\n",
              "      <td>114517875225866</td>\n",
              "      <td>left</td>\n",
              "      <td>The Other 98%</td>\n",
              "      <td>2016-09-27</td>\n",
              "      <td>photo</td>\n",
              "      <td>no factual content</td>\n",
              "      <td>0</td>\n",
              "      <td>24499.000000</td>\n",
              "      <td>47312.0</td>\n",
              "      <td>1375.0</td>\n",
              "      <td>27</td>\n",
              "    </tr>\n",
              "  </tbody>\n",
              "</table>\n",
              "<p>2282 rows × 11 columns</p>\n",
              "</div>"
            ],
            "text/plain": [
              "           account_id    Category  ... comment_count Day\n",
              "0     184096565021911  mainstream  ...          15.0  19\n",
              "1     184096565021911  mainstream  ...          34.0  19\n",
              "2     184096565021911  mainstream  ...          27.0  19\n",
              "3     184096565021911  mainstream  ...          86.0  19\n",
              "4     184096565021911  mainstream  ...        2815.0  19\n",
              "...               ...         ...  ...           ...  ..\n",
              "2277  114517875225866        left  ...         391.0  27\n",
              "2278  114517875225866        left  ...         342.0  27\n",
              "2279  114517875225866        left  ...         856.0  27\n",
              "2280  114517875225866        left  ...         538.0  27\n",
              "2281  114517875225866        left  ...        1375.0  27\n",
              "\n",
              "[2282 rows x 11 columns]"
            ]
          },
          "metadata": {
            "tags": []
          },
          "execution_count": 45
        }
      ]
    },
    {
      "cell_type": "code",
      "metadata": {
        "id": "j-VnvYCC9LWC"
      },
      "source": [
        "df.drop(['Date Published'],axis=1,inplace=True)"
      ],
      "execution_count": 46,
      "outputs": []
    },
    {
      "cell_type": "code",
      "metadata": {
        "colab": {
          "base_uri": "https://localhost:8080/",
          "height": 419
        },
        "id": "EXNS_5-l9gph",
        "outputId": "88987db7-923b-426d-ed05-c35fc5a9aec6"
      },
      "source": [
        "df"
      ],
      "execution_count": 47,
      "outputs": [
        {
          "output_type": "execute_result",
          "data": {
            "text/html": [
              "<div>\n",
              "<style scoped>\n",
              "    .dataframe tbody tr th:only-of-type {\n",
              "        vertical-align: middle;\n",
              "    }\n",
              "\n",
              "    .dataframe tbody tr th {\n",
              "        vertical-align: top;\n",
              "    }\n",
              "\n",
              "    .dataframe thead th {\n",
              "        text-align: right;\n",
              "    }\n",
              "</style>\n",
              "<table border=\"1\" class=\"dataframe\">\n",
              "  <thead>\n",
              "    <tr style=\"text-align: right;\">\n",
              "      <th></th>\n",
              "      <th>account_id</th>\n",
              "      <th>Category</th>\n",
              "      <th>Page</th>\n",
              "      <th>Post Type</th>\n",
              "      <th>Rating</th>\n",
              "      <th>Debate</th>\n",
              "      <th>share_count</th>\n",
              "      <th>reaction_count</th>\n",
              "      <th>comment_count</th>\n",
              "      <th>Day</th>\n",
              "    </tr>\n",
              "  </thead>\n",
              "  <tbody>\n",
              "    <tr>\n",
              "      <th>0</th>\n",
              "      <td>184096565021911</td>\n",
              "      <td>mainstream</td>\n",
              "      <td>ABC News Politics</td>\n",
              "      <td>video</td>\n",
              "      <td>no factual content</td>\n",
              "      <td>0</td>\n",
              "      <td>4044.815552</td>\n",
              "      <td>146.0</td>\n",
              "      <td>15.0</td>\n",
              "      <td>19</td>\n",
              "    </tr>\n",
              "    <tr>\n",
              "      <th>1</th>\n",
              "      <td>184096565021911</td>\n",
              "      <td>mainstream</td>\n",
              "      <td>ABC News Politics</td>\n",
              "      <td>link</td>\n",
              "      <td>mostly true</td>\n",
              "      <td>0</td>\n",
              "      <td>1.000000</td>\n",
              "      <td>33.0</td>\n",
              "      <td>34.0</td>\n",
              "      <td>19</td>\n",
              "    </tr>\n",
              "    <tr>\n",
              "      <th>2</th>\n",
              "      <td>184096565021911</td>\n",
              "      <td>mainstream</td>\n",
              "      <td>ABC News Politics</td>\n",
              "      <td>link</td>\n",
              "      <td>mostly true</td>\n",
              "      <td>0</td>\n",
              "      <td>34.000000</td>\n",
              "      <td>63.0</td>\n",
              "      <td>27.0</td>\n",
              "      <td>19</td>\n",
              "    </tr>\n",
              "    <tr>\n",
              "      <th>3</th>\n",
              "      <td>184096565021911</td>\n",
              "      <td>mainstream</td>\n",
              "      <td>ABC News Politics</td>\n",
              "      <td>link</td>\n",
              "      <td>mostly true</td>\n",
              "      <td>0</td>\n",
              "      <td>35.000000</td>\n",
              "      <td>170.0</td>\n",
              "      <td>86.0</td>\n",
              "      <td>19</td>\n",
              "    </tr>\n",
              "    <tr>\n",
              "      <th>4</th>\n",
              "      <td>184096565021911</td>\n",
              "      <td>mainstream</td>\n",
              "      <td>ABC News Politics</td>\n",
              "      <td>video</td>\n",
              "      <td>mostly true</td>\n",
              "      <td>0</td>\n",
              "      <td>568.000000</td>\n",
              "      <td>3188.0</td>\n",
              "      <td>2815.0</td>\n",
              "      <td>19</td>\n",
              "    </tr>\n",
              "    <tr>\n",
              "      <th>...</th>\n",
              "      <td>...</td>\n",
              "      <td>...</td>\n",
              "      <td>...</td>\n",
              "      <td>...</td>\n",
              "      <td>...</td>\n",
              "      <td>...</td>\n",
              "      <td>...</td>\n",
              "      <td>...</td>\n",
              "      <td>...</td>\n",
              "      <td>...</td>\n",
              "    </tr>\n",
              "    <tr>\n",
              "      <th>2277</th>\n",
              "      <td>114517875225866</td>\n",
              "      <td>left</td>\n",
              "      <td>The Other 98%</td>\n",
              "      <td>photo</td>\n",
              "      <td>no factual content</td>\n",
              "      <td>0</td>\n",
              "      <td>21563.000000</td>\n",
              "      <td>33388.0</td>\n",
              "      <td>391.0</td>\n",
              "      <td>27</td>\n",
              "    </tr>\n",
              "    <tr>\n",
              "      <th>2278</th>\n",
              "      <td>114517875225866</td>\n",
              "      <td>left</td>\n",
              "      <td>The Other 98%</td>\n",
              "      <td>link</td>\n",
              "      <td>mostly true</td>\n",
              "      <td>0</td>\n",
              "      <td>1451.000000</td>\n",
              "      <td>4828.0</td>\n",
              "      <td>342.0</td>\n",
              "      <td>27</td>\n",
              "    </tr>\n",
              "    <tr>\n",
              "      <th>2279</th>\n",
              "      <td>114517875225866</td>\n",
              "      <td>left</td>\n",
              "      <td>The Other 98%</td>\n",
              "      <td>link</td>\n",
              "      <td>mixture of true and false</td>\n",
              "      <td>0</td>\n",
              "      <td>8236.000000</td>\n",
              "      <td>12083.0</td>\n",
              "      <td>856.0</td>\n",
              "      <td>27</td>\n",
              "    </tr>\n",
              "    <tr>\n",
              "      <th>2280</th>\n",
              "      <td>114517875225866</td>\n",
              "      <td>left</td>\n",
              "      <td>The Other 98%</td>\n",
              "      <td>link</td>\n",
              "      <td>mostly true</td>\n",
              "      <td>1</td>\n",
              "      <td>3985.000000</td>\n",
              "      <td>12966.0</td>\n",
              "      <td>538.0</td>\n",
              "      <td>27</td>\n",
              "    </tr>\n",
              "    <tr>\n",
              "      <th>2281</th>\n",
              "      <td>114517875225866</td>\n",
              "      <td>left</td>\n",
              "      <td>The Other 98%</td>\n",
              "      <td>photo</td>\n",
              "      <td>no factual content</td>\n",
              "      <td>0</td>\n",
              "      <td>24499.000000</td>\n",
              "      <td>47312.0</td>\n",
              "      <td>1375.0</td>\n",
              "      <td>27</td>\n",
              "    </tr>\n",
              "  </tbody>\n",
              "</table>\n",
              "<p>2282 rows × 10 columns</p>\n",
              "</div>"
            ],
            "text/plain": [
              "           account_id    Category  ... comment_count Day\n",
              "0     184096565021911  mainstream  ...          15.0  19\n",
              "1     184096565021911  mainstream  ...          34.0  19\n",
              "2     184096565021911  mainstream  ...          27.0  19\n",
              "3     184096565021911  mainstream  ...          86.0  19\n",
              "4     184096565021911  mainstream  ...        2815.0  19\n",
              "...               ...         ...  ...           ...  ..\n",
              "2277  114517875225866        left  ...         391.0  27\n",
              "2278  114517875225866        left  ...         342.0  27\n",
              "2279  114517875225866        left  ...         856.0  27\n",
              "2280  114517875225866        left  ...         538.0  27\n",
              "2281  114517875225866        left  ...        1375.0  27\n",
              "\n",
              "[2282 rows x 10 columns]"
            ]
          },
          "metadata": {
            "tags": []
          },
          "execution_count": 47
        }
      ]
    },
    {
      "cell_type": "code",
      "metadata": {
        "id": "QWWZvm0G9cWB"
      },
      "source": [
        "df.drop(['account_id'],axis=1,inplace=True)"
      ],
      "execution_count": 48,
      "outputs": []
    },
    {
      "cell_type": "code",
      "metadata": {
        "colab": {
          "base_uri": "https://localhost:8080/",
          "height": 419
        },
        "id": "ymM6q0fo9-S8",
        "outputId": "b7cf0898-b882-45d1-f3af-0d75eefcbaf4"
      },
      "source": [
        "df"
      ],
      "execution_count": 49,
      "outputs": [
        {
          "output_type": "execute_result",
          "data": {
            "text/html": [
              "<div>\n",
              "<style scoped>\n",
              "    .dataframe tbody tr th:only-of-type {\n",
              "        vertical-align: middle;\n",
              "    }\n",
              "\n",
              "    .dataframe tbody tr th {\n",
              "        vertical-align: top;\n",
              "    }\n",
              "\n",
              "    .dataframe thead th {\n",
              "        text-align: right;\n",
              "    }\n",
              "</style>\n",
              "<table border=\"1\" class=\"dataframe\">\n",
              "  <thead>\n",
              "    <tr style=\"text-align: right;\">\n",
              "      <th></th>\n",
              "      <th>Category</th>\n",
              "      <th>Page</th>\n",
              "      <th>Post Type</th>\n",
              "      <th>Rating</th>\n",
              "      <th>Debate</th>\n",
              "      <th>share_count</th>\n",
              "      <th>reaction_count</th>\n",
              "      <th>comment_count</th>\n",
              "      <th>Day</th>\n",
              "    </tr>\n",
              "  </thead>\n",
              "  <tbody>\n",
              "    <tr>\n",
              "      <th>0</th>\n",
              "      <td>mainstream</td>\n",
              "      <td>ABC News Politics</td>\n",
              "      <td>video</td>\n",
              "      <td>no factual content</td>\n",
              "      <td>0</td>\n",
              "      <td>4044.815552</td>\n",
              "      <td>146.0</td>\n",
              "      <td>15.0</td>\n",
              "      <td>19</td>\n",
              "    </tr>\n",
              "    <tr>\n",
              "      <th>1</th>\n",
              "      <td>mainstream</td>\n",
              "      <td>ABC News Politics</td>\n",
              "      <td>link</td>\n",
              "      <td>mostly true</td>\n",
              "      <td>0</td>\n",
              "      <td>1.000000</td>\n",
              "      <td>33.0</td>\n",
              "      <td>34.0</td>\n",
              "      <td>19</td>\n",
              "    </tr>\n",
              "    <tr>\n",
              "      <th>2</th>\n",
              "      <td>mainstream</td>\n",
              "      <td>ABC News Politics</td>\n",
              "      <td>link</td>\n",
              "      <td>mostly true</td>\n",
              "      <td>0</td>\n",
              "      <td>34.000000</td>\n",
              "      <td>63.0</td>\n",
              "      <td>27.0</td>\n",
              "      <td>19</td>\n",
              "    </tr>\n",
              "    <tr>\n",
              "      <th>3</th>\n",
              "      <td>mainstream</td>\n",
              "      <td>ABC News Politics</td>\n",
              "      <td>link</td>\n",
              "      <td>mostly true</td>\n",
              "      <td>0</td>\n",
              "      <td>35.000000</td>\n",
              "      <td>170.0</td>\n",
              "      <td>86.0</td>\n",
              "      <td>19</td>\n",
              "    </tr>\n",
              "    <tr>\n",
              "      <th>4</th>\n",
              "      <td>mainstream</td>\n",
              "      <td>ABC News Politics</td>\n",
              "      <td>video</td>\n",
              "      <td>mostly true</td>\n",
              "      <td>0</td>\n",
              "      <td>568.000000</td>\n",
              "      <td>3188.0</td>\n",
              "      <td>2815.0</td>\n",
              "      <td>19</td>\n",
              "    </tr>\n",
              "    <tr>\n",
              "      <th>...</th>\n",
              "      <td>...</td>\n",
              "      <td>...</td>\n",
              "      <td>...</td>\n",
              "      <td>...</td>\n",
              "      <td>...</td>\n",
              "      <td>...</td>\n",
              "      <td>...</td>\n",
              "      <td>...</td>\n",
              "      <td>...</td>\n",
              "    </tr>\n",
              "    <tr>\n",
              "      <th>2277</th>\n",
              "      <td>left</td>\n",
              "      <td>The Other 98%</td>\n",
              "      <td>photo</td>\n",
              "      <td>no factual content</td>\n",
              "      <td>0</td>\n",
              "      <td>21563.000000</td>\n",
              "      <td>33388.0</td>\n",
              "      <td>391.0</td>\n",
              "      <td>27</td>\n",
              "    </tr>\n",
              "    <tr>\n",
              "      <th>2278</th>\n",
              "      <td>left</td>\n",
              "      <td>The Other 98%</td>\n",
              "      <td>link</td>\n",
              "      <td>mostly true</td>\n",
              "      <td>0</td>\n",
              "      <td>1451.000000</td>\n",
              "      <td>4828.0</td>\n",
              "      <td>342.0</td>\n",
              "      <td>27</td>\n",
              "    </tr>\n",
              "    <tr>\n",
              "      <th>2279</th>\n",
              "      <td>left</td>\n",
              "      <td>The Other 98%</td>\n",
              "      <td>link</td>\n",
              "      <td>mixture of true and false</td>\n",
              "      <td>0</td>\n",
              "      <td>8236.000000</td>\n",
              "      <td>12083.0</td>\n",
              "      <td>856.0</td>\n",
              "      <td>27</td>\n",
              "    </tr>\n",
              "    <tr>\n",
              "      <th>2280</th>\n",
              "      <td>left</td>\n",
              "      <td>The Other 98%</td>\n",
              "      <td>link</td>\n",
              "      <td>mostly true</td>\n",
              "      <td>1</td>\n",
              "      <td>3985.000000</td>\n",
              "      <td>12966.0</td>\n",
              "      <td>538.0</td>\n",
              "      <td>27</td>\n",
              "    </tr>\n",
              "    <tr>\n",
              "      <th>2281</th>\n",
              "      <td>left</td>\n",
              "      <td>The Other 98%</td>\n",
              "      <td>photo</td>\n",
              "      <td>no factual content</td>\n",
              "      <td>0</td>\n",
              "      <td>24499.000000</td>\n",
              "      <td>47312.0</td>\n",
              "      <td>1375.0</td>\n",
              "      <td>27</td>\n",
              "    </tr>\n",
              "  </tbody>\n",
              "</table>\n",
              "<p>2282 rows × 9 columns</p>\n",
              "</div>"
            ],
            "text/plain": [
              "        Category               Page  ... comment_count Day\n",
              "0     mainstream  ABC News Politics  ...          15.0  19\n",
              "1     mainstream  ABC News Politics  ...          34.0  19\n",
              "2     mainstream  ABC News Politics  ...          27.0  19\n",
              "3     mainstream  ABC News Politics  ...          86.0  19\n",
              "4     mainstream  ABC News Politics  ...        2815.0  19\n",
              "...          ...                ...  ...           ...  ..\n",
              "2277        left      The Other 98%  ...         391.0  27\n",
              "2278        left      The Other 98%  ...         342.0  27\n",
              "2279        left      The Other 98%  ...         856.0  27\n",
              "2280        left      The Other 98%  ...         538.0  27\n",
              "2281        left      The Other 98%  ...        1375.0  27\n",
              "\n",
              "[2282 rows x 9 columns]"
            ]
          },
          "metadata": {
            "tags": []
          },
          "execution_count": 49
        }
      ]
    },
    {
      "cell_type": "code",
      "metadata": {
        "id": "m4pHVB7y-AWx"
      },
      "source": [
        "df = pd.get_dummies(df, columns=['Category', 'Page', 'Post Type', 'Rating'], drop_first=True)"
      ],
      "execution_count": 50,
      "outputs": []
    },
    {
      "cell_type": "code",
      "metadata": {
        "colab": {
          "base_uri": "https://localhost:8080/",
          "height": 473
        },
        "id": "w55mI4cJBHWz",
        "outputId": "2c07656c-a9a1-466e-e83b-cdcad17e7a48"
      },
      "source": [
        "df"
      ],
      "execution_count": 51,
      "outputs": [
        {
          "output_type": "execute_result",
          "data": {
            "text/html": [
              "<div>\n",
              "<style scoped>\n",
              "    .dataframe tbody tr th:only-of-type {\n",
              "        vertical-align: middle;\n",
              "    }\n",
              "\n",
              "    .dataframe tbody tr th {\n",
              "        vertical-align: top;\n",
              "    }\n",
              "\n",
              "    .dataframe thead th {\n",
              "        text-align: right;\n",
              "    }\n",
              "</style>\n",
              "<table border=\"1\" class=\"dataframe\">\n",
              "  <thead>\n",
              "    <tr style=\"text-align: right;\">\n",
              "      <th></th>\n",
              "      <th>Debate</th>\n",
              "      <th>share_count</th>\n",
              "      <th>reaction_count</th>\n",
              "      <th>comment_count</th>\n",
              "      <th>Day</th>\n",
              "      <th>Category_mainstream</th>\n",
              "      <th>Category_right</th>\n",
              "      <th>Page_Addicting Info</th>\n",
              "      <th>Page_CNN Politics</th>\n",
              "      <th>Page_Eagle Rising</th>\n",
              "      <th>Page_Freedom Daily</th>\n",
              "      <th>Page_Occupy Democrats</th>\n",
              "      <th>Page_Politico</th>\n",
              "      <th>Page_Right Wing News</th>\n",
              "      <th>Page_The Other 98%</th>\n",
              "      <th>Post Type_photo</th>\n",
              "      <th>Post Type_text</th>\n",
              "      <th>Post Type_video</th>\n",
              "      <th>Rating_mostly false</th>\n",
              "      <th>Rating_mostly true</th>\n",
              "      <th>Rating_no factual content</th>\n",
              "    </tr>\n",
              "  </thead>\n",
              "  <tbody>\n",
              "    <tr>\n",
              "      <th>0</th>\n",
              "      <td>0</td>\n",
              "      <td>4044.815552</td>\n",
              "      <td>146.0</td>\n",
              "      <td>15.0</td>\n",
              "      <td>19</td>\n",
              "      <td>1</td>\n",
              "      <td>0</td>\n",
              "      <td>0</td>\n",
              "      <td>0</td>\n",
              "      <td>0</td>\n",
              "      <td>0</td>\n",
              "      <td>0</td>\n",
              "      <td>0</td>\n",
              "      <td>0</td>\n",
              "      <td>0</td>\n",
              "      <td>0</td>\n",
              "      <td>0</td>\n",
              "      <td>1</td>\n",
              "      <td>0</td>\n",
              "      <td>0</td>\n",
              "      <td>1</td>\n",
              "    </tr>\n",
              "    <tr>\n",
              "      <th>1</th>\n",
              "      <td>0</td>\n",
              "      <td>1.000000</td>\n",
              "      <td>33.0</td>\n",
              "      <td>34.0</td>\n",
              "      <td>19</td>\n",
              "      <td>1</td>\n",
              "      <td>0</td>\n",
              "      <td>0</td>\n",
              "      <td>0</td>\n",
              "      <td>0</td>\n",
              "      <td>0</td>\n",
              "      <td>0</td>\n",
              "      <td>0</td>\n",
              "      <td>0</td>\n",
              "      <td>0</td>\n",
              "      <td>0</td>\n",
              "      <td>0</td>\n",
              "      <td>0</td>\n",
              "      <td>0</td>\n",
              "      <td>1</td>\n",
              "      <td>0</td>\n",
              "    </tr>\n",
              "    <tr>\n",
              "      <th>2</th>\n",
              "      <td>0</td>\n",
              "      <td>34.000000</td>\n",
              "      <td>63.0</td>\n",
              "      <td>27.0</td>\n",
              "      <td>19</td>\n",
              "      <td>1</td>\n",
              "      <td>0</td>\n",
              "      <td>0</td>\n",
              "      <td>0</td>\n",
              "      <td>0</td>\n",
              "      <td>0</td>\n",
              "      <td>0</td>\n",
              "      <td>0</td>\n",
              "      <td>0</td>\n",
              "      <td>0</td>\n",
              "      <td>0</td>\n",
              "      <td>0</td>\n",
              "      <td>0</td>\n",
              "      <td>0</td>\n",
              "      <td>1</td>\n",
              "      <td>0</td>\n",
              "    </tr>\n",
              "    <tr>\n",
              "      <th>3</th>\n",
              "      <td>0</td>\n",
              "      <td>35.000000</td>\n",
              "      <td>170.0</td>\n",
              "      <td>86.0</td>\n",
              "      <td>19</td>\n",
              "      <td>1</td>\n",
              "      <td>0</td>\n",
              "      <td>0</td>\n",
              "      <td>0</td>\n",
              "      <td>0</td>\n",
              "      <td>0</td>\n",
              "      <td>0</td>\n",
              "      <td>0</td>\n",
              "      <td>0</td>\n",
              "      <td>0</td>\n",
              "      <td>0</td>\n",
              "      <td>0</td>\n",
              "      <td>0</td>\n",
              "      <td>0</td>\n",
              "      <td>1</td>\n",
              "      <td>0</td>\n",
              "    </tr>\n",
              "    <tr>\n",
              "      <th>4</th>\n",
              "      <td>0</td>\n",
              "      <td>568.000000</td>\n",
              "      <td>3188.0</td>\n",
              "      <td>2815.0</td>\n",
              "      <td>19</td>\n",
              "      <td>1</td>\n",
              "      <td>0</td>\n",
              "      <td>0</td>\n",
              "      <td>0</td>\n",
              "      <td>0</td>\n",
              "      <td>0</td>\n",
              "      <td>0</td>\n",
              "      <td>0</td>\n",
              "      <td>0</td>\n",
              "      <td>0</td>\n",
              "      <td>0</td>\n",
              "      <td>0</td>\n",
              "      <td>1</td>\n",
              "      <td>0</td>\n",
              "      <td>1</td>\n",
              "      <td>0</td>\n",
              "    </tr>\n",
              "    <tr>\n",
              "      <th>...</th>\n",
              "      <td>...</td>\n",
              "      <td>...</td>\n",
              "      <td>...</td>\n",
              "      <td>...</td>\n",
              "      <td>...</td>\n",
              "      <td>...</td>\n",
              "      <td>...</td>\n",
              "      <td>...</td>\n",
              "      <td>...</td>\n",
              "      <td>...</td>\n",
              "      <td>...</td>\n",
              "      <td>...</td>\n",
              "      <td>...</td>\n",
              "      <td>...</td>\n",
              "      <td>...</td>\n",
              "      <td>...</td>\n",
              "      <td>...</td>\n",
              "      <td>...</td>\n",
              "      <td>...</td>\n",
              "      <td>...</td>\n",
              "      <td>...</td>\n",
              "    </tr>\n",
              "    <tr>\n",
              "      <th>2277</th>\n",
              "      <td>0</td>\n",
              "      <td>21563.000000</td>\n",
              "      <td>33388.0</td>\n",
              "      <td>391.0</td>\n",
              "      <td>27</td>\n",
              "      <td>0</td>\n",
              "      <td>0</td>\n",
              "      <td>0</td>\n",
              "      <td>0</td>\n",
              "      <td>0</td>\n",
              "      <td>0</td>\n",
              "      <td>0</td>\n",
              "      <td>0</td>\n",
              "      <td>0</td>\n",
              "      <td>1</td>\n",
              "      <td>1</td>\n",
              "      <td>0</td>\n",
              "      <td>0</td>\n",
              "      <td>0</td>\n",
              "      <td>0</td>\n",
              "      <td>1</td>\n",
              "    </tr>\n",
              "    <tr>\n",
              "      <th>2278</th>\n",
              "      <td>0</td>\n",
              "      <td>1451.000000</td>\n",
              "      <td>4828.0</td>\n",
              "      <td>342.0</td>\n",
              "      <td>27</td>\n",
              "      <td>0</td>\n",
              "      <td>0</td>\n",
              "      <td>0</td>\n",
              "      <td>0</td>\n",
              "      <td>0</td>\n",
              "      <td>0</td>\n",
              "      <td>0</td>\n",
              "      <td>0</td>\n",
              "      <td>0</td>\n",
              "      <td>1</td>\n",
              "      <td>0</td>\n",
              "      <td>0</td>\n",
              "      <td>0</td>\n",
              "      <td>0</td>\n",
              "      <td>1</td>\n",
              "      <td>0</td>\n",
              "    </tr>\n",
              "    <tr>\n",
              "      <th>2279</th>\n",
              "      <td>0</td>\n",
              "      <td>8236.000000</td>\n",
              "      <td>12083.0</td>\n",
              "      <td>856.0</td>\n",
              "      <td>27</td>\n",
              "      <td>0</td>\n",
              "      <td>0</td>\n",
              "      <td>0</td>\n",
              "      <td>0</td>\n",
              "      <td>0</td>\n",
              "      <td>0</td>\n",
              "      <td>0</td>\n",
              "      <td>0</td>\n",
              "      <td>0</td>\n",
              "      <td>1</td>\n",
              "      <td>0</td>\n",
              "      <td>0</td>\n",
              "      <td>0</td>\n",
              "      <td>0</td>\n",
              "      <td>0</td>\n",
              "      <td>0</td>\n",
              "    </tr>\n",
              "    <tr>\n",
              "      <th>2280</th>\n",
              "      <td>1</td>\n",
              "      <td>3985.000000</td>\n",
              "      <td>12966.0</td>\n",
              "      <td>538.0</td>\n",
              "      <td>27</td>\n",
              "      <td>0</td>\n",
              "      <td>0</td>\n",
              "      <td>0</td>\n",
              "      <td>0</td>\n",
              "      <td>0</td>\n",
              "      <td>0</td>\n",
              "      <td>0</td>\n",
              "      <td>0</td>\n",
              "      <td>0</td>\n",
              "      <td>1</td>\n",
              "      <td>0</td>\n",
              "      <td>0</td>\n",
              "      <td>0</td>\n",
              "      <td>0</td>\n",
              "      <td>1</td>\n",
              "      <td>0</td>\n",
              "    </tr>\n",
              "    <tr>\n",
              "      <th>2281</th>\n",
              "      <td>0</td>\n",
              "      <td>24499.000000</td>\n",
              "      <td>47312.0</td>\n",
              "      <td>1375.0</td>\n",
              "      <td>27</td>\n",
              "      <td>0</td>\n",
              "      <td>0</td>\n",
              "      <td>0</td>\n",
              "      <td>0</td>\n",
              "      <td>0</td>\n",
              "      <td>0</td>\n",
              "      <td>0</td>\n",
              "      <td>0</td>\n",
              "      <td>0</td>\n",
              "      <td>1</td>\n",
              "      <td>1</td>\n",
              "      <td>0</td>\n",
              "      <td>0</td>\n",
              "      <td>0</td>\n",
              "      <td>0</td>\n",
              "      <td>1</td>\n",
              "    </tr>\n",
              "  </tbody>\n",
              "</table>\n",
              "<p>2282 rows × 21 columns</p>\n",
              "</div>"
            ],
            "text/plain": [
              "      Debate   share_count  ...  Rating_mostly true  Rating_no factual content\n",
              "0          0   4044.815552  ...                   0                          1\n",
              "1          0      1.000000  ...                   1                          0\n",
              "2          0     34.000000  ...                   1                          0\n",
              "3          0     35.000000  ...                   1                          0\n",
              "4          0    568.000000  ...                   1                          0\n",
              "...      ...           ...  ...                 ...                        ...\n",
              "2277       0  21563.000000  ...                   0                          1\n",
              "2278       0   1451.000000  ...                   1                          0\n",
              "2279       0   8236.000000  ...                   0                          0\n",
              "2280       1   3985.000000  ...                   1                          0\n",
              "2281       0  24499.000000  ...                   0                          1\n",
              "\n",
              "[2282 rows x 21 columns]"
            ]
          },
          "metadata": {
            "tags": []
          },
          "execution_count": 51
        }
      ]
    },
    {
      "cell_type": "code",
      "metadata": {
        "id": "AxgT8XJfBIfE"
      },
      "source": [
        "y=df[['share_count','reaction_count','comment_count']]"
      ],
      "execution_count": 52,
      "outputs": []
    },
    {
      "cell_type": "code",
      "metadata": {
        "colab": {
          "base_uri": "https://localhost:8080/",
          "height": 419
        },
        "id": "viPICYObC023",
        "outputId": "3d685c8b-eb22-4c5f-f8c9-57151d211d06"
      },
      "source": [
        "y"
      ],
      "execution_count": 53,
      "outputs": [
        {
          "output_type": "execute_result",
          "data": {
            "text/html": [
              "<div>\n",
              "<style scoped>\n",
              "    .dataframe tbody tr th:only-of-type {\n",
              "        vertical-align: middle;\n",
              "    }\n",
              "\n",
              "    .dataframe tbody tr th {\n",
              "        vertical-align: top;\n",
              "    }\n",
              "\n",
              "    .dataframe thead th {\n",
              "        text-align: right;\n",
              "    }\n",
              "</style>\n",
              "<table border=\"1\" class=\"dataframe\">\n",
              "  <thead>\n",
              "    <tr style=\"text-align: right;\">\n",
              "      <th></th>\n",
              "      <th>share_count</th>\n",
              "      <th>reaction_count</th>\n",
              "      <th>comment_count</th>\n",
              "    </tr>\n",
              "  </thead>\n",
              "  <tbody>\n",
              "    <tr>\n",
              "      <th>0</th>\n",
              "      <td>4044.815552</td>\n",
              "      <td>146.0</td>\n",
              "      <td>15.0</td>\n",
              "    </tr>\n",
              "    <tr>\n",
              "      <th>1</th>\n",
              "      <td>1.000000</td>\n",
              "      <td>33.0</td>\n",
              "      <td>34.0</td>\n",
              "    </tr>\n",
              "    <tr>\n",
              "      <th>2</th>\n",
              "      <td>34.000000</td>\n",
              "      <td>63.0</td>\n",
              "      <td>27.0</td>\n",
              "    </tr>\n",
              "    <tr>\n",
              "      <th>3</th>\n",
              "      <td>35.000000</td>\n",
              "      <td>170.0</td>\n",
              "      <td>86.0</td>\n",
              "    </tr>\n",
              "    <tr>\n",
              "      <th>4</th>\n",
              "      <td>568.000000</td>\n",
              "      <td>3188.0</td>\n",
              "      <td>2815.0</td>\n",
              "    </tr>\n",
              "    <tr>\n",
              "      <th>...</th>\n",
              "      <td>...</td>\n",
              "      <td>...</td>\n",
              "      <td>...</td>\n",
              "    </tr>\n",
              "    <tr>\n",
              "      <th>2277</th>\n",
              "      <td>21563.000000</td>\n",
              "      <td>33388.0</td>\n",
              "      <td>391.0</td>\n",
              "    </tr>\n",
              "    <tr>\n",
              "      <th>2278</th>\n",
              "      <td>1451.000000</td>\n",
              "      <td>4828.0</td>\n",
              "      <td>342.0</td>\n",
              "    </tr>\n",
              "    <tr>\n",
              "      <th>2279</th>\n",
              "      <td>8236.000000</td>\n",
              "      <td>12083.0</td>\n",
              "      <td>856.0</td>\n",
              "    </tr>\n",
              "    <tr>\n",
              "      <th>2280</th>\n",
              "      <td>3985.000000</td>\n",
              "      <td>12966.0</td>\n",
              "      <td>538.0</td>\n",
              "    </tr>\n",
              "    <tr>\n",
              "      <th>2281</th>\n",
              "      <td>24499.000000</td>\n",
              "      <td>47312.0</td>\n",
              "      <td>1375.0</td>\n",
              "    </tr>\n",
              "  </tbody>\n",
              "</table>\n",
              "<p>2282 rows × 3 columns</p>\n",
              "</div>"
            ],
            "text/plain": [
              "       share_count  reaction_count  comment_count\n",
              "0      4044.815552           146.0           15.0\n",
              "1         1.000000            33.0           34.0\n",
              "2        34.000000            63.0           27.0\n",
              "3        35.000000           170.0           86.0\n",
              "4       568.000000          3188.0         2815.0\n",
              "...            ...             ...            ...\n",
              "2277  21563.000000         33388.0          391.0\n",
              "2278   1451.000000          4828.0          342.0\n",
              "2279   8236.000000         12083.0          856.0\n",
              "2280   3985.000000         12966.0          538.0\n",
              "2281  24499.000000         47312.0         1375.0\n",
              "\n",
              "[2282 rows x 3 columns]"
            ]
          },
          "metadata": {
            "tags": []
          },
          "execution_count": 53
        }
      ]
    },
    {
      "cell_type": "code",
      "metadata": {
        "id": "yYI9VwLCC18C"
      },
      "source": [
        "X=df.drop(['share_count','reaction_count','comment_count'],axis=1)"
      ],
      "execution_count": 54,
      "outputs": []
    },
    {
      "cell_type": "code",
      "metadata": {
        "colab": {
          "base_uri": "https://localhost:8080/",
          "height": 473
        },
        "id": "EBmT4pS-DFCQ",
        "outputId": "fdc4d976-95a0-4b04-cd19-47c14d6c5248"
      },
      "source": [
        "X"
      ],
      "execution_count": 55,
      "outputs": [
        {
          "output_type": "execute_result",
          "data": {
            "text/html": [
              "<div>\n",
              "<style scoped>\n",
              "    .dataframe tbody tr th:only-of-type {\n",
              "        vertical-align: middle;\n",
              "    }\n",
              "\n",
              "    .dataframe tbody tr th {\n",
              "        vertical-align: top;\n",
              "    }\n",
              "\n",
              "    .dataframe thead th {\n",
              "        text-align: right;\n",
              "    }\n",
              "</style>\n",
              "<table border=\"1\" class=\"dataframe\">\n",
              "  <thead>\n",
              "    <tr style=\"text-align: right;\">\n",
              "      <th></th>\n",
              "      <th>Debate</th>\n",
              "      <th>Day</th>\n",
              "      <th>Category_mainstream</th>\n",
              "      <th>Category_right</th>\n",
              "      <th>Page_Addicting Info</th>\n",
              "      <th>Page_CNN Politics</th>\n",
              "      <th>Page_Eagle Rising</th>\n",
              "      <th>Page_Freedom Daily</th>\n",
              "      <th>Page_Occupy Democrats</th>\n",
              "      <th>Page_Politico</th>\n",
              "      <th>Page_Right Wing News</th>\n",
              "      <th>Page_The Other 98%</th>\n",
              "      <th>Post Type_photo</th>\n",
              "      <th>Post Type_text</th>\n",
              "      <th>Post Type_video</th>\n",
              "      <th>Rating_mostly false</th>\n",
              "      <th>Rating_mostly true</th>\n",
              "      <th>Rating_no factual content</th>\n",
              "    </tr>\n",
              "  </thead>\n",
              "  <tbody>\n",
              "    <tr>\n",
              "      <th>0</th>\n",
              "      <td>0</td>\n",
              "      <td>19</td>\n",
              "      <td>1</td>\n",
              "      <td>0</td>\n",
              "      <td>0</td>\n",
              "      <td>0</td>\n",
              "      <td>0</td>\n",
              "      <td>0</td>\n",
              "      <td>0</td>\n",
              "      <td>0</td>\n",
              "      <td>0</td>\n",
              "      <td>0</td>\n",
              "      <td>0</td>\n",
              "      <td>0</td>\n",
              "      <td>1</td>\n",
              "      <td>0</td>\n",
              "      <td>0</td>\n",
              "      <td>1</td>\n",
              "    </tr>\n",
              "    <tr>\n",
              "      <th>1</th>\n",
              "      <td>0</td>\n",
              "      <td>19</td>\n",
              "      <td>1</td>\n",
              "      <td>0</td>\n",
              "      <td>0</td>\n",
              "      <td>0</td>\n",
              "      <td>0</td>\n",
              "      <td>0</td>\n",
              "      <td>0</td>\n",
              "      <td>0</td>\n",
              "      <td>0</td>\n",
              "      <td>0</td>\n",
              "      <td>0</td>\n",
              "      <td>0</td>\n",
              "      <td>0</td>\n",
              "      <td>0</td>\n",
              "      <td>1</td>\n",
              "      <td>0</td>\n",
              "    </tr>\n",
              "    <tr>\n",
              "      <th>2</th>\n",
              "      <td>0</td>\n",
              "      <td>19</td>\n",
              "      <td>1</td>\n",
              "      <td>0</td>\n",
              "      <td>0</td>\n",
              "      <td>0</td>\n",
              "      <td>0</td>\n",
              "      <td>0</td>\n",
              "      <td>0</td>\n",
              "      <td>0</td>\n",
              "      <td>0</td>\n",
              "      <td>0</td>\n",
              "      <td>0</td>\n",
              "      <td>0</td>\n",
              "      <td>0</td>\n",
              "      <td>0</td>\n",
              "      <td>1</td>\n",
              "      <td>0</td>\n",
              "    </tr>\n",
              "    <tr>\n",
              "      <th>3</th>\n",
              "      <td>0</td>\n",
              "      <td>19</td>\n",
              "      <td>1</td>\n",
              "      <td>0</td>\n",
              "      <td>0</td>\n",
              "      <td>0</td>\n",
              "      <td>0</td>\n",
              "      <td>0</td>\n",
              "      <td>0</td>\n",
              "      <td>0</td>\n",
              "      <td>0</td>\n",
              "      <td>0</td>\n",
              "      <td>0</td>\n",
              "      <td>0</td>\n",
              "      <td>0</td>\n",
              "      <td>0</td>\n",
              "      <td>1</td>\n",
              "      <td>0</td>\n",
              "    </tr>\n",
              "    <tr>\n",
              "      <th>4</th>\n",
              "      <td>0</td>\n",
              "      <td>19</td>\n",
              "      <td>1</td>\n",
              "      <td>0</td>\n",
              "      <td>0</td>\n",
              "      <td>0</td>\n",
              "      <td>0</td>\n",
              "      <td>0</td>\n",
              "      <td>0</td>\n",
              "      <td>0</td>\n",
              "      <td>0</td>\n",
              "      <td>0</td>\n",
              "      <td>0</td>\n",
              "      <td>0</td>\n",
              "      <td>1</td>\n",
              "      <td>0</td>\n",
              "      <td>1</td>\n",
              "      <td>0</td>\n",
              "    </tr>\n",
              "    <tr>\n",
              "      <th>...</th>\n",
              "      <td>...</td>\n",
              "      <td>...</td>\n",
              "      <td>...</td>\n",
              "      <td>...</td>\n",
              "      <td>...</td>\n",
              "      <td>...</td>\n",
              "      <td>...</td>\n",
              "      <td>...</td>\n",
              "      <td>...</td>\n",
              "      <td>...</td>\n",
              "      <td>...</td>\n",
              "      <td>...</td>\n",
              "      <td>...</td>\n",
              "      <td>...</td>\n",
              "      <td>...</td>\n",
              "      <td>...</td>\n",
              "      <td>...</td>\n",
              "      <td>...</td>\n",
              "    </tr>\n",
              "    <tr>\n",
              "      <th>2277</th>\n",
              "      <td>0</td>\n",
              "      <td>27</td>\n",
              "      <td>0</td>\n",
              "      <td>0</td>\n",
              "      <td>0</td>\n",
              "      <td>0</td>\n",
              "      <td>0</td>\n",
              "      <td>0</td>\n",
              "      <td>0</td>\n",
              "      <td>0</td>\n",
              "      <td>0</td>\n",
              "      <td>1</td>\n",
              "      <td>1</td>\n",
              "      <td>0</td>\n",
              "      <td>0</td>\n",
              "      <td>0</td>\n",
              "      <td>0</td>\n",
              "      <td>1</td>\n",
              "    </tr>\n",
              "    <tr>\n",
              "      <th>2278</th>\n",
              "      <td>0</td>\n",
              "      <td>27</td>\n",
              "      <td>0</td>\n",
              "      <td>0</td>\n",
              "      <td>0</td>\n",
              "      <td>0</td>\n",
              "      <td>0</td>\n",
              "      <td>0</td>\n",
              "      <td>0</td>\n",
              "      <td>0</td>\n",
              "      <td>0</td>\n",
              "      <td>1</td>\n",
              "      <td>0</td>\n",
              "      <td>0</td>\n",
              "      <td>0</td>\n",
              "      <td>0</td>\n",
              "      <td>1</td>\n",
              "      <td>0</td>\n",
              "    </tr>\n",
              "    <tr>\n",
              "      <th>2279</th>\n",
              "      <td>0</td>\n",
              "      <td>27</td>\n",
              "      <td>0</td>\n",
              "      <td>0</td>\n",
              "      <td>0</td>\n",
              "      <td>0</td>\n",
              "      <td>0</td>\n",
              "      <td>0</td>\n",
              "      <td>0</td>\n",
              "      <td>0</td>\n",
              "      <td>0</td>\n",
              "      <td>1</td>\n",
              "      <td>0</td>\n",
              "      <td>0</td>\n",
              "      <td>0</td>\n",
              "      <td>0</td>\n",
              "      <td>0</td>\n",
              "      <td>0</td>\n",
              "    </tr>\n",
              "    <tr>\n",
              "      <th>2280</th>\n",
              "      <td>1</td>\n",
              "      <td>27</td>\n",
              "      <td>0</td>\n",
              "      <td>0</td>\n",
              "      <td>0</td>\n",
              "      <td>0</td>\n",
              "      <td>0</td>\n",
              "      <td>0</td>\n",
              "      <td>0</td>\n",
              "      <td>0</td>\n",
              "      <td>0</td>\n",
              "      <td>1</td>\n",
              "      <td>0</td>\n",
              "      <td>0</td>\n",
              "      <td>0</td>\n",
              "      <td>0</td>\n",
              "      <td>1</td>\n",
              "      <td>0</td>\n",
              "    </tr>\n",
              "    <tr>\n",
              "      <th>2281</th>\n",
              "      <td>0</td>\n",
              "      <td>27</td>\n",
              "      <td>0</td>\n",
              "      <td>0</td>\n",
              "      <td>0</td>\n",
              "      <td>0</td>\n",
              "      <td>0</td>\n",
              "      <td>0</td>\n",
              "      <td>0</td>\n",
              "      <td>0</td>\n",
              "      <td>0</td>\n",
              "      <td>1</td>\n",
              "      <td>1</td>\n",
              "      <td>0</td>\n",
              "      <td>0</td>\n",
              "      <td>0</td>\n",
              "      <td>0</td>\n",
              "      <td>1</td>\n",
              "    </tr>\n",
              "  </tbody>\n",
              "</table>\n",
              "<p>2282 rows × 18 columns</p>\n",
              "</div>"
            ],
            "text/plain": [
              "      Debate  Day  ...  Rating_mostly true  Rating_no factual content\n",
              "0          0   19  ...                   0                          1\n",
              "1          0   19  ...                   1                          0\n",
              "2          0   19  ...                   1                          0\n",
              "3          0   19  ...                   1                          0\n",
              "4          0   19  ...                   1                          0\n",
              "...      ...  ...  ...                 ...                        ...\n",
              "2277       0   27  ...                   0                          1\n",
              "2278       0   27  ...                   1                          0\n",
              "2279       0   27  ...                   0                          0\n",
              "2280       1   27  ...                   1                          0\n",
              "2281       0   27  ...                   0                          1\n",
              "\n",
              "[2282 rows x 18 columns]"
            ]
          },
          "metadata": {
            "tags": []
          },
          "execution_count": 55
        }
      ]
    },
    {
      "cell_type": "code",
      "metadata": {
        "colab": {
          "base_uri": "https://localhost:8080/"
        },
        "id": "sI7WUgSlJpr6",
        "outputId": "2a85d55c-12d3-49b4-f436-cff1758b8547"
      },
      "source": [
        "df.info()"
      ],
      "execution_count": 56,
      "outputs": [
        {
          "output_type": "stream",
          "text": [
            "<class 'pandas.core.frame.DataFrame'>\n",
            "RangeIndex: 2282 entries, 0 to 2281\n",
            "Data columns (total 21 columns):\n",
            " #   Column                     Non-Null Count  Dtype  \n",
            "---  ------                     --------------  -----  \n",
            " 0   Debate                     2282 non-null   int64  \n",
            " 1   share_count                2282 non-null   float64\n",
            " 2   reaction_count             2282 non-null   float64\n",
            " 3   comment_count              2282 non-null   float64\n",
            " 4   Day                        2282 non-null   int64  \n",
            " 5   Category_mainstream        2282 non-null   uint8  \n",
            " 6   Category_right             2282 non-null   uint8  \n",
            " 7   Page_Addicting Info        2282 non-null   uint8  \n",
            " 8   Page_CNN Politics          2282 non-null   uint8  \n",
            " 9   Page_Eagle Rising          2282 non-null   uint8  \n",
            " 10  Page_Freedom Daily         2282 non-null   uint8  \n",
            " 11  Page_Occupy Democrats      2282 non-null   uint8  \n",
            " 12  Page_Politico              2282 non-null   uint8  \n",
            " 13  Page_Right Wing News       2282 non-null   uint8  \n",
            " 14  Page_The Other 98%         2282 non-null   uint8  \n",
            " 15  Post Type_photo            2282 non-null   uint8  \n",
            " 16  Post Type_text             2282 non-null   uint8  \n",
            " 17  Post Type_video            2282 non-null   uint8  \n",
            " 18  Rating_mostly false        2282 non-null   uint8  \n",
            " 19  Rating_mostly true         2282 non-null   uint8  \n",
            " 20  Rating_no factual content  2282 non-null   uint8  \n",
            "dtypes: float64(3), int64(2), uint8(16)\n",
            "memory usage: 124.9 KB\n"
          ],
          "name": "stdout"
        }
      ]
    },
    {
      "cell_type": "code",
      "metadata": {
        "colab": {
          "base_uri": "https://localhost:8080/"
        },
        "id": "JJ7n7VfjDKOV",
        "outputId": "94b6991d-0660-4f55-8280-20e68c89a255"
      },
      "source": [
        "# check scikit-learn version\n",
        "import sklearn\n",
        "print(sklearn.__version__)"
      ],
      "execution_count": 57,
      "outputs": [
        {
          "output_type": "stream",
          "text": [
            "0.22.2.post1\n"
          ],
          "name": "stdout"
        }
      ]
    },
    {
      "cell_type": "code",
      "metadata": {
        "id": "IolQ6HijDet_"
      },
      "source": [
        "from sklearn.model_selection import train_test_split\n",
        "x_train, x_test, y_train, y_test = train_test_split(X, y, test_size = 0.2, random_state=22)"
      ],
      "execution_count": 58,
      "outputs": []
    },
    {
      "cell_type": "code",
      "metadata": {
        "id": "T28Yi-fA1a3x"
      },
      "source": [
        "from sklearn.linear_model import LinearRegression\n",
        "from sklearn.neighbors import KNeighborsRegressor\n",
        "from sklearn.svm import SVR\n",
        "from sklearn.tree import DecisionTreeRegressor\n",
        "from sklearn.ensemble import RandomForestRegressor\n",
        "from xgboost import XGBRegressor\n",
        "from sklearn.metrics import mean_squared_error"
      ],
      "execution_count": 59,
      "outputs": []
    },
    {
      "cell_type": "code",
      "metadata": {
        "id": "6J2q4l74JR3V"
      },
      "source": [
        "models = {\n",
        "    \"LR\": LinearRegression(),\n",
        "    \"KNNR\" : KNeighborsRegressor(), \n",
        "    \"DT\": DecisionTreeRegressor(),\n",
        "    \"RF\": RandomForestRegressor(),\n",
        "}"
      ],
      "execution_count": 60,
      "outputs": []
    },
    {
      "cell_type": "code",
      "metadata": {
        "colab": {
          "base_uri": "https://localhost:8080/"
        },
        "id": "ZRYunfp1JhgW",
        "outputId": "e8414136-a2b9-4bea-af28-72dfaa00f3af"
      },
      "source": [
        "for name, model in models.items():\n",
        "    print(f'Using model: {name}')\n",
        "    model.fit(x_train, y_train)\n",
        "    print(f'Training Score: {model.score(x_train, y_train)}')\n",
        "    print(f'Test Score: {model.score(x_test, y_test)}') \n",
        "    y_pred = model.predict(x_test)\n",
        "    print(f'RMSE: {np.sqrt(mean_squared_error(y_test, y_pred))}')\n",
        "    print('-----------------------------------------------------------')"
      ],
      "execution_count": 61,
      "outputs": [
        {
          "output_type": "stream",
          "text": [
            "Using model: LR\n",
            "Training Score: 0.16303444350859234\n",
            "Test Score: 0.23095769301762642\n",
            "RMSE: 9390.383894636008\n",
            "-----------------------------------------------------------\n",
            "Using model: KNNR\n",
            "Training Score: 0.36918348432498205\n",
            "Test Score: 0.10439116237253929\n",
            "RMSE: 10133.685376044028\n",
            "-----------------------------------------------------------\n",
            "Using model: DT\n",
            "Training Score: 0.578611034019536\n",
            "Test Score: -1.0086342588460606\n",
            "RMSE: 15176.047042036063\n",
            "-----------------------------------------------------------\n",
            "Using model: RF\n"
          ],
          "name": "stdout"
        },
        {
          "output_type": "stream",
          "text": [
            "/usr/local/lib/python3.7/dist-packages/sklearn/base.py:434: FutureWarning: The default value of multioutput (not exposed in score method) will change from 'variance_weighted' to 'uniform_average' in 0.23 to keep consistent with 'metrics.r2_score'. To specify the default value manually and avoid the warning, please either call 'metrics.r2_score' directly or make a custom scorer with 'metrics.make_scorer' (the built-in scorer 'r2' uses multioutput='uniform_average').\n",
            "  \"multioutput='uniform_average').\", FutureWarning)\n",
            "/usr/local/lib/python3.7/dist-packages/sklearn/base.py:434: FutureWarning: The default value of multioutput (not exposed in score method) will change from 'variance_weighted' to 'uniform_average' in 0.23 to keep consistent with 'metrics.r2_score'. To specify the default value manually and avoid the warning, please either call 'metrics.r2_score' directly or make a custom scorer with 'metrics.make_scorer' (the built-in scorer 'r2' uses multioutput='uniform_average').\n",
            "  \"multioutput='uniform_average').\", FutureWarning)\n",
            "/usr/local/lib/python3.7/dist-packages/sklearn/base.py:434: FutureWarning: The default value of multioutput (not exposed in score method) will change from 'variance_weighted' to 'uniform_average' in 0.23 to keep consistent with 'metrics.r2_score'. To specify the default value manually and avoid the warning, please either call 'metrics.r2_score' directly or make a custom scorer with 'metrics.make_scorer' (the built-in scorer 'r2' uses multioutput='uniform_average').\n",
            "  \"multioutput='uniform_average').\", FutureWarning)\n",
            "/usr/local/lib/python3.7/dist-packages/sklearn/base.py:434: FutureWarning: The default value of multioutput (not exposed in score method) will change from 'variance_weighted' to 'uniform_average' in 0.23 to keep consistent with 'metrics.r2_score'. To specify the default value manually and avoid the warning, please either call 'metrics.r2_score' directly or make a custom scorer with 'metrics.make_scorer' (the built-in scorer 'r2' uses multioutput='uniform_average').\n",
            "  \"multioutput='uniform_average').\", FutureWarning)\n",
            "/usr/local/lib/python3.7/dist-packages/sklearn/base.py:434: FutureWarning: The default value of multioutput (not exposed in score method) will change from 'variance_weighted' to 'uniform_average' in 0.23 to keep consistent with 'metrics.r2_score'. To specify the default value manually and avoid the warning, please either call 'metrics.r2_score' directly or make a custom scorer with 'metrics.make_scorer' (the built-in scorer 'r2' uses multioutput='uniform_average').\n",
            "  \"multioutput='uniform_average').\", FutureWarning)\n",
            "/usr/local/lib/python3.7/dist-packages/sklearn/base.py:434: FutureWarning: The default value of multioutput (not exposed in score method) will change from 'variance_weighted' to 'uniform_average' in 0.23 to keep consistent with 'metrics.r2_score'. To specify the default value manually and avoid the warning, please either call 'metrics.r2_score' directly or make a custom scorer with 'metrics.make_scorer' (the built-in scorer 'r2' uses multioutput='uniform_average').\n",
            "  \"multioutput='uniform_average').\", FutureWarning)\n"
          ],
          "name": "stderr"
        },
        {
          "output_type": "stream",
          "text": [
            "Training Score: 0.5424056016436747\n",
            "Test Score: -0.22842661878555778\n",
            "RMSE: 11868.144914162458\n",
            "-----------------------------------------------------------\n"
          ],
          "name": "stdout"
        },
        {
          "output_type": "stream",
          "text": [
            "/usr/local/lib/python3.7/dist-packages/sklearn/base.py:434: FutureWarning: The default value of multioutput (not exposed in score method) will change from 'variance_weighted' to 'uniform_average' in 0.23 to keep consistent with 'metrics.r2_score'. To specify the default value manually and avoid the warning, please either call 'metrics.r2_score' directly or make a custom scorer with 'metrics.make_scorer' (the built-in scorer 'r2' uses multioutput='uniform_average').\n",
            "  \"multioutput='uniform_average').\", FutureWarning)\n",
            "/usr/local/lib/python3.7/dist-packages/sklearn/base.py:434: FutureWarning: The default value of multioutput (not exposed in score method) will change from 'variance_weighted' to 'uniform_average' in 0.23 to keep consistent with 'metrics.r2_score'. To specify the default value manually and avoid the warning, please either call 'metrics.r2_score' directly or make a custom scorer with 'metrics.make_scorer' (the built-in scorer 'r2' uses multioutput='uniform_average').\n",
            "  \"multioutput='uniform_average').\", FutureWarning)\n"
          ],
          "name": "stderr"
        }
      ]
    },
    {
      "cell_type": "code",
      "metadata": {
        "colab": {
          "base_uri": "https://localhost:8080/"
        },
        "id": "PaQbYkZF1a3y",
        "outputId": "1422ce4a-f1a2-4922-cb94-5e63627cbaa2"
      },
      "source": [
        "from sklearn.multioutput import MultiOutputRegressor\n",
        "from sklearn.svm import LinearSVR\n",
        "model = LinearSVR()\n",
        "# define the direct multioutput wrapper model\n",
        "wrapper = MultiOutputRegressor(model)\n",
        "# fit the model on the whole dataset\n",
        "wrapper.fit(x_train, y_train)\n",
        "print(f'Training Score: {wrapper.score(x_train, y_train)}')\n",
        "print(f'Test Score: {wrapper.score(x_test, y_test)}')\n"
      ],
      "execution_count": 62,
      "outputs": [
        {
          "output_type": "stream",
          "text": [
            "Training Score: -0.02092983532533828\n",
            "Test Score: -0.03377485730437143\n"
          ],
          "name": "stdout"
        }
      ]
    },
    {
      "cell_type": "code",
      "metadata": {
        "colab": {
          "base_uri": "https://localhost:8080/"
        },
        "id": "n9xzqqDF1a3y",
        "outputId": "72bda159-ac68-4dc0-eb2f-a59a96165742"
      },
      "source": [
        "model = SVR()\n",
        "# define the direct multioutput wrapper model\n",
        "wrapper = MultiOutputRegressor(model)\n",
        "# fit the model on the whole dataset\n",
        "wrapper.fit(x_train, y_train)\n",
        "print(f'Training Score: {wrapper.score(x_train, y_train)}')\n",
        "print(f'Test Score: {wrapper.score(x_test, y_test)}')"
      ],
      "execution_count": 63,
      "outputs": [
        {
          "output_type": "stream",
          "text": [
            "Training Score: -0.029409084936728558\n",
            "Test Score: -0.0822926245309253\n"
          ],
          "name": "stdout"
        }
      ]
    },
    {
      "cell_type": "code",
      "metadata": {
        "colab": {
          "base_uri": "https://localhost:8080/"
        },
        "id": "fjcB_8Oa1a3z",
        "outputId": "be312639-c42a-401f-95de-4ab152a0899d"
      },
      "source": [
        "model = XGBRegressor()\n",
        "# define the direct multioutput wrapper model\n",
        "wrapper = MultiOutputRegressor(model)\n",
        "# fit the model on the whole dataset\n",
        "wrapper.fit(x_train, y_train)\n",
        "print(f'Training Score: {wrapper.score(x_train, y_train)}')\n",
        "print(f'Test Score: {wrapper.score(x_test, y_test)}')"
      ],
      "execution_count": 64,
      "outputs": [
        {
          "output_type": "stream",
          "text": [
            "[11:32:45] WARNING: /workspace/src/objective/regression_obj.cu:152: reg:linear is now deprecated in favor of reg:squarederror.\n",
            "[11:32:45] WARNING: /workspace/src/objective/regression_obj.cu:152: reg:linear is now deprecated in favor of reg:squarederror.\n",
            "[11:32:45] WARNING: /workspace/src/objective/regression_obj.cu:152: reg:linear is now deprecated in favor of reg:squarederror.\n",
            "Training Score: 0.38904419789676287\n",
            "Test Score: -0.751498446793604\n"
          ],
          "name": "stdout"
        }
      ]
    },
    {
      "cell_type": "code",
      "metadata": {
        "id": "MpkeXsmpQgOo",
        "colab": {
          "base_uri": "https://localhost:8080/"
        },
        "outputId": "cd932ee3-2795-4f22-a78a-2536c4d024c1"
      },
      "source": [
        "from sklearn.model_selection import cross_val_score\n",
        "from sklearn.model_selection import RepeatedKFold\n",
        "from sklearn.multioutput import RegressorChain\n",
        "from numpy import mean\n",
        "from numpy import std\n",
        "from numpy import absolute\n",
        "model = LinearSVR()\n",
        "# define the chained multioutput wrapper model\n",
        "wrapper = RegressorChain(model)\n",
        "# define the evaluation procedure\n",
        "cv = RepeatedKFold(n_splits=10, n_repeats=3, random_state=1)\n",
        "# evaluate the model and collect the scores\n",
        "n_scores = cross_val_score(wrapper, X, y,  cv=cv, n_jobs=-1)\n",
        "# force the scores to be positive\n",
        "n_scores = absolute(n_scores)\n",
        "# summarize performance\n",
        "print('MAE: %.3f (%.3f)' % (mean(n_scores), std(n_scores)))\n"
      ],
      "execution_count": 65,
      "outputs": [
        {
          "output_type": "stream",
          "text": [
            "MAE: 0.047 (0.020)\n"
          ],
          "name": "stdout"
        }
      ]
    },
    {
      "cell_type": "code",
      "metadata": {
        "colab": {
          "base_uri": "https://localhost:8080/"
        },
        "id": "fE4nUfy_1a30",
        "outputId": "54216e22-1ba3-4932-e9be-dbec2f6569c3"
      },
      "source": [
        "model = XGBRegressor()\n",
        "# define the chained multioutput wrapper model\n",
        "wrapper = RegressorChain(model)\n",
        "# define the evaluation procedure\n",
        "cv = RepeatedKFold(n_splits=10, n_repeats=3, random_state=1)\n",
        "# evaluate the model and collect the scores\n",
        "n_scores = cross_val_score(wrapper, X, y, scoring='neg_mean_absolute_error', cv=cv, n_jobs=-1)\n",
        "# force the scores to be positive\n",
        "n_scores = absolute(n_scores)\n",
        "# summarize performance\n",
        "print('MAE: %.3f (%.3f)' % (mean(n_scores), std(n_scores)))"
      ],
      "execution_count": 66,
      "outputs": [
        {
          "output_type": "stream",
          "text": [
            "MAE: 3318.323 (820.630)\n"
          ],
          "name": "stdout"
        }
      ]
    },
    {
      "cell_type": "code",
      "metadata": {
        "id": "CNs-IuL21a30"
      },
      "source": [
        ""
      ],
      "execution_count": 66,
      "outputs": []
    }
  ]
}