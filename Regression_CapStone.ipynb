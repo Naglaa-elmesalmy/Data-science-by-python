{
  "nbformat": 4,
  "nbformat_minor": 0,
  "metadata": {
    "colab": {
      "name": "ٌRegression CapStone.ipynb",
      "provenance": []
    },
    "kernelspec": {
      "name": "python3",
      "display_name": "Python 3"
    }
  },
  "cells": [
    {
      "cell_type": "markdown",
      "metadata": {
        "id": "JhqPYLNyv4kb"
      },
      "source": [
        "# Concrete Compressive Strength.\n",
        "\n",
        "Compressive strength or compression strength is the capacity of a material or structure to withstand loads tending to reduce size, as opposed to tensile strength, which withstands loads tending to elongate.\n",
        "\n",
        "Compressive strength is one of the most important engineering properties of concrete. It is a standard industrial practice that the concrete is classified based on grades. This grade is nothing but the Compressive Strength of the concrete cube or cylinder. Cube or Cylinder samples are usually tested under a compression testing machine to obtain the compressive strength of concrete. The test requisites differ country to country based on the design code."
      ]
    },
    {
      "cell_type": "markdown",
      "metadata": {
        "id": "juJMyh4vWXUj"
      },
      "source": [
        "Here is your Required [Data ](https://drive.google.com/file/d/1Csmy8fz4BDM70wD07XJYKPqOr8BAPfzE/view?usp=sharing)\n",
        "# **Good Luck**"
      ]
    },
    {
      "cell_type": "code",
      "metadata": {
        "id": "c977lpgIv1BL"
      },
      "source": [
        ""
      ],
      "execution_count": null,
      "outputs": []
    }
  ]
}