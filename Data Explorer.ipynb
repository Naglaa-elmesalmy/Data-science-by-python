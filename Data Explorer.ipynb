{
 "cells": [
  {
   "cell_type": "markdown",
   "metadata": {
    "id": "5o_CoF2d9gk3"
   },
   "source": [
    "# Data Explorer Project "
   ]
  },
  {
   "cell_type": "markdown",
   "metadata": {
    "id": "eOX7SICb9gk3"
   },
   "source": [
    "####  [Pandas Cheat Sheet](https://pandas.pydata.org/Pandas_Cheat_Sheet.pdf) for Data Wrangling "
   ]
  },
  {
   "cell_type": "markdown",
   "metadata": {
    "id": "5TwaXYXH9gk4"
   },
   "source": [
    "####  [Numpy Cheat Sheet](https://s3.amazonaws.com/assets.datacamp.com/blog_assets/Numpy_Python_Cheat_Sheet.pdf) for Matrices "
   ]
  },
  {
   "cell_type": "markdown",
   "metadata": {
    "id": "fjaXXil49gk4"
   },
   "source": [
    "Use All what you have learnt in programming for now to perform the following to Load `'needtobeclean.csv'` and  Explore it by :-\n",
    "\n",
    "1. Build a Function that takes all Columns and check  its Type \n",
    "2. Build a Function that takes all Columns and check  if there is a None Value.\n",
    "3. Build a Function that replace None Values of Numbers with Mean and all Strings with Mode ."
   ]
  },
  {
   "cell_type": "markdown",
   "metadata": {
    "id": "VxLIT5AX9gk5"
   },
   "source": [
    "# Basic Style "
   ]
  },
  {
   "cell_type": "code",
   "execution_count": null,
   "metadata": {
    "id": "4UkNOHoO9gk5"
   },
   "outputs": [],
   "source": [
    "def all_type():\n",
    "    None  #  it returns the Type of all Columns (e.g : if they are 4 columns..\n",
    "             #  ....it will return ['Strings','Numbers','Numbers','Strings']\n",
    "    pass\n",
    "def clean():\n",
    "    None # it replaces the None Values with  Mean for Numbers and Mode for Strings\n",
    "    pass\n"
   ]
  },
  {
   "cell_type": "markdown",
   "metadata": {
    "id": "wel3bA6A9gk8"
   },
   "source": [
    "# Master Style "
   ]
  },
  {
   "cell_type": "code",
   "execution_count": null,
   "metadata": {
    "id": "c7MHYrka9gk8"
   },
   "outputs": [],
   "source": [
    "# OOP Style \n",
    "class DataExplorer :\n",
    "    #Attributes if any\n",
    "    def __init__(): #File name \n",
    "        None  # Read File \n",
    "        pass\n",
    "    def all_type():\n",
    "        None  #  it returns the Type of all Columns (e.g : if they are 4 columns..\n",
    "                 #  ....it will return ['Strings','Numbers','Numbers','Strings']\n",
    "        pass\n",
    "    def clean():\n",
    "        None # it replaces the None Values with  Mean for Numbers and Mode for Strings\n",
    "        pass\n"
   ]
  }
 ],
 "metadata": {
  "colab": {
   "name": "Data Explorer.ipynb",
   "provenance": []
  },
  "kernelspec": {
   "display_name": "Python 3",
   "language": "python",
   "name": "python3"
  },
  "language_info": {
   "codemirror_mode": {
    "name": "ipython",
    "version": 3
   },
   "file_extension": ".py",
   "mimetype": "text/x-python",
   "name": "python",
   "nbconvert_exporter": "python",
   "pygments_lexer": "ipython3",
   "version": "3.8.3"
  }
 },
 "nbformat": 4,
 "nbformat_minor": 1
}
