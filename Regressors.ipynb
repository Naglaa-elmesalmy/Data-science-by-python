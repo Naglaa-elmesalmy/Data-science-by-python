{
  "nbformat": 4,
  "nbformat_minor": 0,
  "metadata": {
    "colab": {
      "name": "Regressors.ipynb",
      "provenance": []
    },
    "kernelspec": {
      "name": "python3",
      "display_name": "Python 3"
    }
  },
  "cells": [
    {
      "cell_type": "markdown",
      "metadata": {
        "id": "PBmFgZWHKO7T"
      },
      "source": [
        "# **Regressors** \n",
        "Let's Boost Our Knowledge with Regression Problems and be Ready for All of it,\n",
        "\n",
        "\n",
        "# Important Note :-\n",
        "While dealing with vectors  [ 1D Array ] =  1 Feature  or 1 Label\n",
        "Some functions such as fitting and transforming would require the input to be reshaped , try to just add a line  for this  when you want to reshape `X` \n",
        "you just type  :-\n",
        "`X= X.reshape(-1,1)  `"
      ]
    },
    {
      "cell_type": "code",
      "metadata": {
        "id": "WurwMKJZKsia"
      },
      "source": [
        "from google.colab import drive\n",
        "drive.mount('/content/drive/')\n",
        "import os \n",
        "os.chdir('drive/My Drive/Split3 : Machine Learning')"
      ],
      "execution_count": null,
      "outputs": []
    },
    {
      "cell_type": "markdown",
      "metadata": {
        "id": "IBYvQecAKw0M"
      },
      "source": [
        "# **First**   : Come and Have A look on a Comparison Between Polynomial Regression and Linear Regression\n",
        " "
      ]
    },
    {
      "cell_type": "code",
      "metadata": {
        "id": "KOTcpTK9dxip"
      },
      "source": [
        "# Importing the libraries\n",
        "import numpy as np\n",
        "import matplotlib.pyplot as plt\n",
        "import pandas as pd\n",
        "import sklearn\n",
        "\n",
        "# Importing the dataset\n",
        "df= pd.read_csv('Salary_Data.csv')\n",
        "X= df.iloc[:,0].values\n",
        "y=df.iloc[:,1].values\n",
        "\n",
        "# Splitting the dataset into the Training set and Test set\n",
        "from sklearn.model_selection import train_test_split\n",
        "X=X.reshape(-1,1)\n",
        "y=y.reshape(-1,1)\n",
        "X_train, X_test, y_train, y_test = train_test_split(X, y, test_size = 0.2, random_state = 0 , shuffle= False)\n",
        "'''\n",
        "# Feature Scaling\n",
        "from sklearn.preprocessing import StandardScaler\n",
        "sc_X = StandardScaler()\n",
        "X_train = sc_X.fit_transform(X_train)\n",
        "X_test = sc_X.transform(X_test)\n",
        "'''\n",
        "\n",
        "# Fitting Linear Regression to the dataset\n",
        "from sklearn.linear_model import LinearRegression\n",
        "lin_reg = LinearRegression()\n",
        "lin_reg.fit(X, y)\n",
        "\n",
        "# Fitting Polynomial Regression to the dataset\n",
        "from sklearn.preprocessing import PolynomialFeatures\n",
        "poly_reg = PolynomialFeatures(degree = 5)\n",
        "X_poly = poly_reg.fit_transform(X)\n",
        "lin_reg_2 = LinearRegression()\n",
        "lin_reg_2.fit(X_poly, y)\n",
        "\n",
        "#Evaluation\n",
        "from sklearn.metrics import r2_score\n",
        "Er1=r2_score(y,lin_reg.predict(X))\n",
        "Er2=r2_score(y,lin_reg_2.predict(poly_reg.fit_transform(X)))\n",
        "print('R squared of Linear Regression :', Er1)\n",
        "print('R squared of Polynomial Regression :', Er2)\n",
        "\n",
        "# Visualising the Linear Regression results\n",
        "plt.scatter(X, y, color = 'red')\n",
        "plt.plot(X, lin_reg.predict(X), color = 'blue')\n",
        "plt.title('Truth or Bluff (Linear Regression)')\n",
        "plt.xlabel('Position level')\n",
        "plt.ylabel('Salary')\n",
        "plt.show()\n",
        "\n",
        "# Visualising the Polynomial Regression results\n",
        "plt.scatter(X, y, color = 'red')\n",
        "plt.scatter(X, lin_reg_2.predict(poly_reg.fit_transform(X)), color = 'blue')\n",
        "plt.title('Truth or Bluff (Polynomial Regression)')\n",
        "plt.xlabel('Position level')\n",
        "plt.ylabel('Salary')\n",
        "plt.show()\n",
        "\n"
      ],
      "execution_count": null,
      "outputs": []
    },
    {
      "cell_type": "markdown",
      "metadata": {
        "id": "dKK0JpF_ni9z"
      },
      "source": [
        "# Explanation\n",
        "Let's Explore The code of Polynomial Regression  in more Details\n",
        "\n",
        "Polynomial Regression works by  Transforming the Current Features into Polynomial Features \n",
        "In Our Case we only have 1  Feature and we do want to convert it for example to 10 Poly Features  let's see how can we do this and how would they look like "
      ]
    },
    {
      "cell_type": "code",
      "metadata": {
        "id": "qzfNdmGVnhQl"
      },
      "source": [
        "pd.DataFrame(X).head(5)  # Let's have a look on Our X\n",
        "# I've Chose to visualize it as a data frame cause The Array is currently  look like [ [1.1],[1.3],[1.5],... ] which is not the best way to see"
      ],
      "execution_count": null,
      "outputs": []
    },
    {
      "cell_type": "code",
      "metadata": {
        "id": "AjtIWYmTo5bF"
      },
      "source": [
        "from sklearn.preprocessing   import PolynomialFeatures\n",
        "#Instantiate\n",
        "poly=PolynomialFeatures(degree=20) # Number of Degree is Hyperparameter so you can try it till you get the Best Results\n",
        "Poly_X= poly.fit_transform(X)"
      ],
      "execution_count": null,
      "outputs": []
    },
    {
      "cell_type": "markdown",
      "metadata": {
        "id": "u8UtBbkNuTwV"
      },
      "source": [
        "# What is the PolyFeatures ?\n",
        "\n",
        "The Poly Features is a Matrix Generated from  Our Actual Features which is X_train\n",
        "\n",
        "Poly Features Size is equal to ( Number of Rows , The Degree of the Polynomial)\n",
        "The  Rows indicates the Data Rows \n",
        "The Columns indicates the Polynomial Features which is Generated from our Column\n",
        "\n",
        "So we can tell that our Column Got Transformed into abig Matrix.\n",
        "\n"
      ]
    },
    {
      "cell_type": "code",
      "metadata": {
        "id": "vP-lzCNap9in"
      },
      "source": [
        "# Let's See Now the Poly features  of Array X \n",
        "pd.DataFrame(Poly_X).head(5)"
      ],
      "execution_count": null,
      "outputs": []
    },
    {
      "cell_type": "markdown",
      "metadata": {
        "id": "4sXTtVhyrK_2"
      },
      "source": [
        "# Explanation \n",
        "So we can tell that \" Polynomial Features \" Is some how a way of Transformation for the Features but thats not  a Model yet ,  you need to Build a model to get fit on this  which can be basically a linear Regression \n",
        "\n",
        "To fit a **Linear Regression** Model to **Normal Features** we use :-\n",
        "\n",
        "\n",
        "```\n",
        "LinReg.fit(X_train, y_train)\n",
        "LinReg.predict(X_test)\n",
        "```\n",
        "\n",
        "\n",
        "\n",
        "\n",
        "and To Fit a **Linear regression** Model to **Poly features** we type it like this \n",
        "\n",
        "```\n",
        "LinReg.fit(poly.fit_transform(X_train), y_train)\n",
        "LinReg.predict(poly.transform(X_test))\n",
        "```\n",
        "\n",
        "\n",
        "\n"
      ]
    },
    {
      "cell_type": "markdown",
      "metadata": {
        "id": "lkbA9QIt7x9k"
      },
      "source": [
        "# Regularization Techniques  \n",
        "It is about Putting a Penality Term to the Model \n",
        "\n",
        "\n",
        "*   Ridge =RSS + Alpha* Squared (Slope)\n",
        "*   Lasso = RSS+ Alpha *Abs(Slope)"
      ]
    },
    {
      "cell_type": "markdown",
      "metadata": {
        "id": "PVVKncjTmPd8"
      },
      "source": [
        "# Ridge Regression"
      ]
    },
    {
      "cell_type": "code",
      "metadata": {
        "id": "BqsoM2ktZr92"
      },
      "source": [
        "for alpha in [1e-15, 1e-10, 1e-8, 1e-4, 1e-3,1e-2, 1, 5, 10, 20]:\n",
        "    from sklearn.linear_model import Ridge\n",
        "    ridge = Ridge(alpha = alpha, normalize=True)\n",
        "    ridge.fit(poly.fit_transform(X_train), y_train)\n",
        "    plt.title('Alpha=%s' %alpha)\n",
        "    plt.plot(y_train ,'.', ridge.predict(poly.fit_transform(X_train)),'-o')\n",
        "    plt.show()\n",
        "    print('------------------')"
      ],
      "execution_count": null,
      "outputs": []
    },
    {
      "cell_type": "markdown",
      "metadata": {
        "id": "Ahsc8SZfmWGB"
      },
      "source": [
        "# Lasso Regression "
      ]
    },
    {
      "cell_type": "code",
      "metadata": {
        "id": "3lOoK32KSNGn"
      },
      "source": [
        "coeff_matrix = []\n",
        "for alpha in [1e-15, 1e-10, 1e-8, 1e-5,1e-4, 1e-3,1e-2, 1, 5, 10,20,30,40]:\n",
        "    from sklearn.linear_model import Lasso\n",
        "    lasso = Lasso(alpha = alpha, normalize=True)\n",
        "    lasso.fit(poly.fit_transform(X_train), y_train)\n",
        "    coeff_matrix.append(lasso.coef_)\n",
        "    plt.title('Alpha=%s'%alpha)  # Do YOU REMEMBER THIS SYNTAX  :D\n",
        "    plt.plot(y_train ,'.', lasso.predict(poly.fit_transform(X_train)),'-o'  )\n",
        "    plt.show()\n",
        "    print('----------------------------------------------------------')\n",
        "pd.DataFrame(coeff_matrix)"
      ],
      "execution_count": null,
      "outputs": []
    },
    {
      "cell_type": "markdown",
      "metadata": {
        "id": "WOSGEH0-yXZC"
      },
      "source": [
        "# Let's Say you 've Liked Alpha =1 for Lasso For Example Let's See how to select it and use it "
      ]
    },
    {
      "cell_type": "code",
      "metadata": {
        "id": "6jhPoMp6Ij7p"
      },
      "source": [
        "# Select Best  Alpha\n",
        "lasso = Lasso(alpha = 1, normalize=True)\n",
        "lasso.fit(poly.fit_transform(X_train),y_train)\n",
        "plt.plot(y_train, '.',lasso.predict(poly.fit_transform(X_train)),'-o')\n",
        "plt.show()"
      ],
      "execution_count": null,
      "outputs": []
    },
    {
      "cell_type": "code",
      "metadata": {
        "id": "7DOfUIN5iVOi"
      },
      "source": [
        "plt.plot(y_test, '.',lasso.predict(poly.transform(X_test)),'-o')"
      ],
      "execution_count": null,
      "outputs": []
    },
    {
      "cell_type": "code",
      "metadata": {
        "id": "lG-D8DBqGESv"
      },
      "source": [
        "#You can always check the performance of the whole Model by using R Squared \n",
        "lasso.fit(poly.fit_transform(X),y)\n",
        "preds=lasso.predict(poly.fit_transform(X))\n",
        "R2=r2_score(y,preds)\n",
        "R2"
      ],
      "execution_count": null,
      "outputs": []
    },
    {
      "cell_type": "markdown",
      "metadata": {
        "id": "vTd3OcUDH_RK"
      },
      "source": [
        "# **DO NOT**  COPY AND PASTE ANYTHING \n",
        "# **TYPE WITH YOUR OWN FINGERS**\n",
        "you are always allowed to have a look up to remember the Syntax \n",
        "\n",
        "\n",
        "I Do Really Enourage you to Restart Kernel  and not Run anything from the Above Cells  so no variables would be taken already or hold a false value\n",
        " "
      ]
    },
    {
      "cell_type": "markdown",
      "metadata": {
        "id": "-nBDk4LEJX8i"
      },
      "source": [
        "### Goal of this Task  is to  Use all The Regression Models we 've learnt so  far  but in a way that make us Get the Best of Everything.\n",
        "\n",
        "Feel Free to use any Data file or You can use `Salary Data`  No worries , it will work with all \n",
        "\n",
        "\n",
        "Try to  Follow the Steps !"
      ]
    },
    {
      "cell_type": "markdown",
      "metadata": {
        "id": "ztk9tNFoKNqi"
      },
      "source": [
        "**First** : If You are on Colab Right now  Get your Authentication Key"
      ]
    },
    {
      "cell_type": "code",
      "metadata": {
        "id": "bVwADmJbIVMk"
      },
      "source": [
        "# from google.colab import drive\n",
        "# drive.mount('/content/drive/')\n",
        "# import os \n",
        "# os.chdir('drive/My Drive')  # Fix This if your file is in a Certain Directory in Your Drive"
      ],
      "execution_count": null,
      "outputs": []
    },
    {
      "cell_type": "markdown",
      "metadata": {
        "id": "m-CBW78TKuPq"
      },
      "source": [
        "**Second** : \n",
        "\n",
        "\n",
        "1.   Load The Data File \n",
        "2.   Split Features and Labels\n",
        "3.   Reshape Features for later Usage \n",
        "\n",
        "\n",
        "\n"
      ]
    },
    {
      "cell_type": "code",
      "metadata": {
        "id": "F0gqG1gTKXta"
      },
      "source": [
        "import  None\n",
        "import  None\n",
        "import  None   \n",
        "df=None\n",
        "X= None\n",
        "y= None  \n",
        "X= None   # RESHAPED"
      ],
      "execution_count": null,
      "outputs": []
    },
    {
      "cell_type": "markdown",
      "metadata": {
        "id": "2zAwIRj2Lm9j"
      },
      "source": [
        "**Third** : \n",
        "\n",
        "\n",
        "1.   Split training and Testing Data\n",
        "2.   Stop the shuffle  for a good Visualization\n",
        "3.   Fix the Seed to a Constant Number \n",
        "\n",
        "\n",
        "\n"
      ]
    },
    {
      "cell_type": "code",
      "metadata": {
        "id": "o3BYdLJCL0gv"
      },
      "source": [
        "from  None  import None \n",
        "\n",
        "X_train,X_test,y_train , y_test = None "
      ],
      "execution_count": null,
      "outputs": []
    },
    {
      "cell_type": "markdown",
      "metadata": {
        "id": "cTUNrbD7L_IC"
      },
      "source": [
        "**Forth** : \n",
        "\n",
        "\n",
        "1.   Instantiate The Linear Regression Model\n",
        "2.   Fit the Model to Training Set\n",
        "3.   Predict The Testing Set \n",
        "4.   Evaluate the Model by  R squared method between Preds and Actual Values\n",
        "5.   Visualize The Model in a Good way "
      ]
    },
    {
      "cell_type": "code",
      "metadata": {
        "id": "gHk9NM5LMlGJ"
      },
      "source": [
        ""
      ],
      "execution_count": null,
      "outputs": []
    },
    {
      "cell_type": "markdown",
      "metadata": {
        "id": "kA4ZJ6zvMl9i"
      },
      "source": [
        "**Fifth** : \n",
        "\n",
        "\n",
        "1.   Instantiate The Poly Features with  Degree = 7\n",
        "2.   Fit and Transform the Training Features into Poly Training Features\n",
        "3.   Fit the Linear Regression Model to the Poly Training Features and Actual Training Label\n",
        "4.   Transfrom The Testing Features into Poly Testing Features\n",
        "5.   Predict The Poly Testing Features\n",
        "6.   Evaluate the Model by  R squared method between Preds and Actual Values\n",
        "7.   Visualize The Model in a Good way \n",
        "\n",
        "\n",
        "\n",
        "\n",
        "\n",
        "\n",
        "\n",
        "\n",
        "\n"
      ]
    },
    {
      "cell_type": "code",
      "metadata": {
        "id": "xTVIrc3-OZK_"
      },
      "source": [
        ""
      ],
      "execution_count": null,
      "outputs": []
    },
    {
      "cell_type": "markdown",
      "metadata": {
        "id": "qCQ5uxugObHS"
      },
      "source": [
        "**Sixth**: Make The Fifth Step more Powerful!\n",
        "\n",
        "\n",
        "Build a Code that Try 20 Degrees like from  Degree 1 to 21\n",
        "And Return The Best Degree with the Highest R Squared Value "
      ]
    },
    {
      "cell_type": "code",
      "metadata": {
        "id": "pnP_q-EjO6tD"
      },
      "source": [
        ""
      ],
      "execution_count": null,
      "outputs": []
    },
    {
      "cell_type": "markdown",
      "metadata": {
        "id": "a2bOsiryO-Ii"
      },
      "source": [
        "**Seventh** : \n",
        "\n",
        "\n",
        "1.   Instantiate The Ridge Regressor with  Alpha = 1\n",
        "2.   Fit and Transform the Training Features into Poly Training Features\n",
        "3.   Fit the Ridge Model to the Poly Training Features and Actual Training Label\n",
        "4.   Transfrom The Testing Features into Poly Testing Features\n",
        "5.   Predict The Poly Testing Features\n",
        "6.   Evaluate the Model by  R squared method between Preds and Actual Values\n",
        "7.   Visualize The Model in a Good way "
      ]
    },
    {
      "cell_type": "code",
      "metadata": {
        "id": "HT6GS2gjQJ2o"
      },
      "source": [
        ""
      ],
      "execution_count": null,
      "outputs": []
    },
    {
      "cell_type": "markdown",
      "metadata": {
        "id": "c_fLwlklQQ_6"
      },
      "source": [
        "**Eighth**\n",
        "Set Range Of Alphas and Make A function to Select the Best One with resepct to R Squared Metric "
      ]
    },
    {
      "cell_type": "code",
      "metadata": {
        "id": "4F8R68eHQQkq"
      },
      "source": [
        ""
      ],
      "execution_count": null,
      "outputs": []
    },
    {
      "cell_type": "markdown",
      "metadata": {
        "id": "to4FxXMjQLz6"
      },
      "source": [
        "**Ninth** : \n",
        "\n",
        "\n",
        "1.   Instantiate The Lasso Regressor with  Alpha = 1\n",
        "2.   Fit and Transform the Training Features into Poly Training Features\n",
        "3.   Fit the Lasso Model to the Poly Training Features and Actual Training Label\n",
        "4.   Transfrom The Testing Features into Poly Testing Features\n",
        "5.   Predict The Poly Testing Features\n",
        "6.   Evaluate the Model by  R squared method between Preds and Actual Values\n",
        "7.   Visualize The Model in a Good way \n",
        "\n",
        "\n",
        "\n",
        "\n",
        "\n",
        "\n",
        "\n",
        "\n",
        "\n",
        "\n"
      ]
    },
    {
      "cell_type": "code",
      "metadata": {
        "id": "3s7nAleNQPIn"
      },
      "source": [
        ""
      ],
      "execution_count": null,
      "outputs": []
    },
    {
      "cell_type": "markdown",
      "metadata": {
        "id": "vbzzF4ZAQhEX"
      },
      "source": [
        "**Tenth**\n",
        "- Set Range Of Alphas and Make A function to Select the Best One with resepct to R Squared Metric \n",
        "- Print Out How many Features has been Selected "
      ]
    },
    {
      "cell_type": "code",
      "metadata": {
        "id": "the12cFjQkKa"
      },
      "source": [
        ""
      ],
      "execution_count": null,
      "outputs": []
    },
    {
      "cell_type": "markdown",
      "metadata": {
        "id": "f6AFkE2SQpZT"
      },
      "source": [
        "**Eleventh**\n",
        "\n",
        "Here We come to the Final Step \n",
        "Make ONE BIG Function that when you call it would try all of the Regressors then Return the Name of the Regressor With the Highest R Squared "
      ]
    },
    {
      "cell_type": "code",
      "metadata": {
        "id": "RL9xZSMHRRZ8"
      },
      "source": [
        ""
      ],
      "execution_count": null,
      "outputs": []
    },
    {
      "cell_type": "markdown",
      "metadata": {
        "id": "50N3TNJQRSN-"
      },
      "source": [
        "# **Great Job**"
      ]
    }
  ]
}