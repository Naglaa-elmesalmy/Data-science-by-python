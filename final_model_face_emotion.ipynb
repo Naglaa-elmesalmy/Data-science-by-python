{
  "cells": [
    {
      "cell_type": "markdown",
      "metadata": {
        "id": "view-in-github",
        "colab_type": "text"
      },
      "source": [
        "<a href=\"https://colab.research.google.com/github/Naglaa-elmesalmy/Data-science-by-python/blob/main/final_model_face_emotion.ipynb\" target=\"_parent\"><img src=\"https://colab.research.google.com/assets/colab-badge.svg\" alt=\"Open In Colab\"/></a>"
      ]
    },
    {
      "cell_type": "code",
      "execution_count": null,
      "metadata": {
        "colab": {
          "base_uri": "https://localhost:8080/",
          "height": 165
        },
        "id": "2Q3Ny5KELiN0",
        "outputId": "ee31dece-5b28-4566-ad80-14b0321c0b7a"
      },
      "outputs": [
        {
          "ename": "NameError",
          "evalue": "ignored",
          "output_type": "error",
          "traceback": [
            "\u001b[0;31m---------------------------------------------------------------------------\u001b[0m",
            "\u001b[0;31mNameError\u001b[0m                                 Traceback (most recent call last)",
            "\u001b[0;32m<ipython-input-1-65f07e81e169>\u001b[0m in \u001b[0;36m<module>\u001b[0;34m\u001b[0m\n\u001b[0;32m----> 1\u001b[0;31m \u001b[0mprint\u001b[0m\u001b[0;34m(\u001b[0m\u001b[0mtf\u001b[0m\u001b[0;34m.\u001b[0m\u001b[0m__version__\u001b[0m\u001b[0;34m)\u001b[0m\u001b[0;34m\u001b[0m\u001b[0;34m\u001b[0m\u001b[0m\n\u001b[0m",
            "\u001b[0;31mNameError\u001b[0m: name 'tf' is not defined"
          ]
        }
      ],
      "source": [
        "print(tf.__version__)"
      ]
    },
    {
      "cell_type": "code",
      "execution_count": null,
      "metadata": {
        "id": "yS8TFYfyLiOB"
      },
      "outputs": [],
      "source": [
        "\n",
        "\n",
        "import os\n",
        "import warnings\n",
        "import numpy as np\n",
        "import pandas as pd\n",
        "\n",
        "import tensorflow as tf\n",
        "from tensorflow.keras.layers import *\n",
        "from tensorflow.python.lib.io import file_io\n",
        "import matplotlib.pyplot as plt\n",
        "from PIL import Image\n",
        "%matplotlib inline\n",
        "from sklearn.model_selection import train_test_split\n",
        "from sklearn.metrics import *\n",
        "from tensorflow.keras.preprocessing.image import ImageDataGenerator , img_to_array, load_img\n",
        "from tensorflow.keras.optimizers import Adam\n",
        "from tensorflow.keras.models import Sequential\n",
        "from tensorflow.keras.layers import Flatten, Dense, Conv2D, MaxPooling2D, ZeroPadding2D, Convolution2D,Layer ,Dropout, BatchNormalization, LeakyReLU, Activation\n",
        "from keras.models import Model\n",
        "from keras.models import load_model\n",
        "from keras.callbacks import ModelCheckpoint\n",
        "from keras.utils import np_utils\n",
        "import keras.backend as K\n",
        "from keras import regularizers\n",
        "from tensorflow.keras.utils import plot_model\n",
        "from keras.losses import categorical_crossentropy\n",
        "from skimage.transform import rescale, resize\n",
        "import seaborn as sns\n",
        "import cv2\n",
        "#from sklearn.metrics import precision_score, f1_score, recall_score, confusion_matrix,classification_report\n",
        "warnings.filterwarnings(\"ignore\")"
      ]
    },
    {
      "cell_type": "code",
      "execution_count": null,
      "metadata": {
        "colab": {
          "base_uri": "https://localhost:8080/"
        },
        "id": "44h0YD-4LiOE",
        "outputId": "0801da33-5395-4e91-87d7-4969cbfbe909"
      },
      "outputs": [
        {
          "name": "stdout",
          "output_type": "stream",
          "text": [
            "Mounted at /content/drive\n"
          ]
        }
      ],
      "source": [
        "from google.colab import drive\n",
        "drive.mount('/content/drive')"
      ]
    },
    {
      "cell_type": "markdown",
      "metadata": {
        "id": "XgPKg2qVLiOG"
      },
      "source": [
        "# perpare data"
      ]
    },
    {
      "cell_type": "markdown",
      "metadata": {
        "id": "5pPGklDmLiOK"
      },
      "source": [
        "### 1- augmantion"
      ]
    },
    {
      "cell_type": "code",
      "execution_count": null,
      "metadata": {
        "id": "vogT1XQ3LiOM"
      },
      "outputs": [],
      "source": [
        "# names of folders\n",
        "dirLst=[\"angry\",\"diagust\",\"fear\",\"happy\",\"neutral\",\"sad\",\"surprise\"]\n",
        "# ImageDataGenerator accepts the original data, randomly transforms it, and returns only the new, transformed data\n",
        "datagen = ImageDataGenerator(\n",
        "        rotation_range=40,\n",
        "        width_shift_range=0.2,\n",
        "        height_shift_range=0.2,\n",
        "        shear_range=0.2,\n",
        "        zoom_range=0.2,\n",
        "        horizontal_flip=True,\n",
        "        fill_mode='nearest')\n",
        "#loop on folder and images\n",
        "for fdr in dirLst:\n",
        "    path=r\".\\test_crop\"\n",
        "    img_fdr=os.path.join(path,fdr)\n",
        "    for img_path in os.listdir(img_fdr):\n",
        "        img = load_img(os.path.join(img_fdr,img_path))  # this is a PIL image\n",
        "        x = img_to_array(img)  # this is a Numpy array with shape (3, 150, 150)\n",
        "        x = x.reshape((1,) + x.shape)\n",
        "        i = 0\n",
        "        # transfer each image to 20 images with  randomly transforms and save it on same folder with perfix the name of folder\n",
        "        for batch in datagen.flow(x, batch_size=1,save_to_dir=img_fdr, save_prefix=fdr, save_format='jpeg'):\n",
        "            i += 1\n",
        "            if i > 20:\n",
        "                break\n"
      ]
    },
    {
      "cell_type": "markdown",
      "metadata": {
        "id": "EMjx3ZuvLiOQ"
      },
      "source": [
        "### 2- convert our images to dataset"
      ]
    },
    {
      "cell_type": "code",
      "execution_count": null,
      "metadata": {
        "id": "wC3dGF-6LiOR"
      },
      "outputs": [],
      "source": [
        "def convert_image_to_dataset(folderpath,i):\n",
        "    X = pd.DataFrame([])\n",
        "    Y = pd.DataFrame([])\n",
        "    for img in os.listdir(folderpath):\n",
        "        img_array = cv2.imread(os.path.join(folderpath,img), cv2.IMREAD_GRAYSCALE)\n",
        "        img_pil = Image.fromarray(img_array)\n",
        "        img_48x48 = np.array(img_pil.resize((48, 48), Image.ANTIALIAS))\n",
        "        img_array = (img_48x48.flatten())\n",
        "        X = X.append(pd.DataFrame([[img_array]],columns=['pixels']), ignore_index=True)\n",
        "\n",
        "    Y=pd.DataFrame(i, index=range(X.shape[0]), columns=['emotion'])\n",
        "\n",
        "\n",
        "    return  X, Y"
      ]
    },
    {
      "cell_type": "code",
      "execution_count": null,
      "metadata": {
        "colab": {
          "background_save": true
        },
        "id": "ICKzy0fMLiOT"
      },
      "outputs": [],
      "source": [
        "import pandas as pd\n",
        "path =('/content/drive/My Drive/test_crop_aug/test_crop')\n",
        "emotion_mapping = {0: 'angry', 1: 'diagust', 2: 'fear', 3: 'happy', 4: 'sad', 5: 'surprise', 6: 'neutral'}\n",
        "for k, v in emotion_mapping.items():\n",
        "    x,y = convert_image_to_dataset(path+'/'+v,k)\n",
        "    X_train, X_test, y_train, y_test = train_test_split(x,y, test_size=0.33,shuffle=True, random_state=42)\n",
        "    X_train, X_val, y_train, y_val=train_test_split(X_train,y_train, test_size=0.33,shuffle=True, random_state=42)\n",
        "    if k==0 :\n",
        "        X_train_All=X_train\n",
        "        X_val_All=X_val\n",
        "        X_test_All=X_test\n",
        "        y_train_All=y_train\n",
        "        y_val_All=y_val\n",
        "        y_test_All=y_test\n",
        "    else :\n",
        "        X_train_All=pd.concat([X_train_All, X_train])\n",
        "        X_val_All=pd.concat([X_val_All,X_val])\n",
        "        X_test_All=pd.concat([X_test_All, X_test])\n",
        "        y_train_All=pd.concat([y_train_All, y_train])\n",
        "        y_val_All=pd.concat([y_val_All,y_val])\n",
        "        y_test_All=pd.concat([y_test_All, y_test])"
      ]
    },
    {
      "cell_type": "code",
      "execution_count": null,
      "metadata": {
        "colab": {
          "base_uri": "https://localhost:8080/",
          "height": 424
        },
        "id": "rNJCe3pPfiDZ",
        "outputId": "aebdde2c-f270-4dc7-87fd-b87b9dc62c82"
      },
      "outputs": [
        {
          "data": {
            "text/html": [
              "\n",
              "  <div id=\"df-082249f1-3d74-4106-bd4f-73e882786afc\">\n",
              "    <div class=\"colab-df-container\">\n",
              "      <div>\n",
              "<style scoped>\n",
              "    .dataframe tbody tr th:only-of-type {\n",
              "        vertical-align: middle;\n",
              "    }\n",
              "\n",
              "    .dataframe tbody tr th {\n",
              "        vertical-align: top;\n",
              "    }\n",
              "\n",
              "    .dataframe thead th {\n",
              "        text-align: right;\n",
              "    }\n",
              "</style>\n",
              "<table border=\"1\" class=\"dataframe\">\n",
              "  <thead>\n",
              "    <tr style=\"text-align: right;\">\n",
              "      <th></th>\n",
              "      <th>pixels</th>\n",
              "    </tr>\n",
              "  </thead>\n",
              "  <tbody>\n",
              "    <tr>\n",
              "      <th>62</th>\n",
              "      <td>[145, 132, 111, 90, 82, 95, 122, 144, 142, 133...</td>\n",
              "    </tr>\n",
              "    <tr>\n",
              "      <th>94</th>\n",
              "      <td>[113, 111, 110, 112, 116, 121, 124, 125, 130, ...</td>\n",
              "    </tr>\n",
              "    <tr>\n",
              "      <th>71</th>\n",
              "      <td>[220, 219, 219, 219, 219, 220, 221, 222, 222, ...</td>\n",
              "    </tr>\n",
              "    <tr>\n",
              "      <th>90</th>\n",
              "      <td>[22, 24, 25, 23, 22, 24, 31, 36, 31, 30, 31, 3...</td>\n",
              "    </tr>\n",
              "    <tr>\n",
              "      <th>0</th>\n",
              "      <td>[186, 164, 143, 130, 106, 83, 94, 123, 143, 14...</td>\n",
              "    </tr>\n",
              "    <tr>\n",
              "      <th>...</th>\n",
              "      <td>...</td>\n",
              "    </tr>\n",
              "    <tr>\n",
              "      <th>8</th>\n",
              "      <td>[152, 155, 159, 162, 163, 164, 165, 165, 170, ...</td>\n",
              "    </tr>\n",
              "    <tr>\n",
              "      <th>67</th>\n",
              "      <td>[41, 29, 39, 9, 23, 63, 31, 15, 23, 20, 20, 24...</td>\n",
              "    </tr>\n",
              "    <tr>\n",
              "      <th>369</th>\n",
              "      <td>[230, 237, 188, 111, 71, 55, 41, 38, 45, 40, 3...</td>\n",
              "    </tr>\n",
              "    <tr>\n",
              "      <th>149</th>\n",
              "      <td>[171, 171, 169, 167, 167, 169, 168, 166, 167, ...</td>\n",
              "    </tr>\n",
              "    <tr>\n",
              "      <th>311</th>\n",
              "      <td>[223, 222, 221, 219, 217, 215, 213, 213, 211, ...</td>\n",
              "    </tr>\n",
              "  </tbody>\n",
              "</table>\n",
              "<p>780 rows × 1 columns</p>\n",
              "</div>\n",
              "      <button class=\"colab-df-convert\" onclick=\"convertToInteractive('df-082249f1-3d74-4106-bd4f-73e882786afc')\"\n",
              "              title=\"Convert this dataframe to an interactive table.\"\n",
              "              style=\"display:none;\">\n",
              "        \n",
              "  <svg xmlns=\"http://www.w3.org/2000/svg\" height=\"24px\"viewBox=\"0 0 24 24\"\n",
              "       width=\"24px\">\n",
              "    <path d=\"M0 0h24v24H0V0z\" fill=\"none\"/>\n",
              "    <path d=\"M18.56 5.44l.94 2.06.94-2.06 2.06-.94-2.06-.94-.94-2.06-.94 2.06-2.06.94zm-11 1L8.5 8.5l.94-2.06 2.06-.94-2.06-.94L8.5 2.5l-.94 2.06-2.06.94zm10 10l.94 2.06.94-2.06 2.06-.94-2.06-.94-.94-2.06-.94 2.06-2.06.94z\"/><path d=\"M17.41 7.96l-1.37-1.37c-.4-.4-.92-.59-1.43-.59-.52 0-1.04.2-1.43.59L10.3 9.45l-7.72 7.72c-.78.78-.78 2.05 0 2.83L4 21.41c.39.39.9.59 1.41.59.51 0 1.02-.2 1.41-.59l7.78-7.78 2.81-2.81c.8-.78.8-2.07 0-2.86zM5.41 20L4 18.59l7.72-7.72 1.47 1.35L5.41 20z\"/>\n",
              "  </svg>\n",
              "      </button>\n",
              "      \n",
              "  <style>\n",
              "    .colab-df-container {\n",
              "      display:flex;\n",
              "      flex-wrap:wrap;\n",
              "      gap: 12px;\n",
              "    }\n",
              "\n",
              "    .colab-df-convert {\n",
              "      background-color: #E8F0FE;\n",
              "      border: none;\n",
              "      border-radius: 50%;\n",
              "      cursor: pointer;\n",
              "      display: none;\n",
              "      fill: #1967D2;\n",
              "      height: 32px;\n",
              "      padding: 0 0 0 0;\n",
              "      width: 32px;\n",
              "    }\n",
              "\n",
              "    .colab-df-convert:hover {\n",
              "      background-color: #E2EBFA;\n",
              "      box-shadow: 0px 1px 2px rgba(60, 64, 67, 0.3), 0px 1px 3px 1px rgba(60, 64, 67, 0.15);\n",
              "      fill: #174EA6;\n",
              "    }\n",
              "\n",
              "    [theme=dark] .colab-df-convert {\n",
              "      background-color: #3B4455;\n",
              "      fill: #D2E3FC;\n",
              "    }\n",
              "\n",
              "    [theme=dark] .colab-df-convert:hover {\n",
              "      background-color: #434B5C;\n",
              "      box-shadow: 0px 1px 3px 1px rgba(0, 0, 0, 0.15);\n",
              "      filter: drop-shadow(0px 1px 2px rgba(0, 0, 0, 0.3));\n",
              "      fill: #FFFFFF;\n",
              "    }\n",
              "  </style>\n",
              "\n",
              "      <script>\n",
              "        const buttonEl =\n",
              "          document.querySelector('#df-082249f1-3d74-4106-bd4f-73e882786afc button.colab-df-convert');\n",
              "        buttonEl.style.display =\n",
              "          google.colab.kernel.accessAllowed ? 'block' : 'none';\n",
              "\n",
              "        async function convertToInteractive(key) {\n",
              "          const element = document.querySelector('#df-082249f1-3d74-4106-bd4f-73e882786afc');\n",
              "          const dataTable =\n",
              "            await google.colab.kernel.invokeFunction('convertToInteractive',\n",
              "                                                     [key], {});\n",
              "          if (!dataTable) return;\n",
              "\n",
              "          const docLinkHtml = 'Like what you see? Visit the ' +\n",
              "            '<a target=\"_blank\" href=https://colab.research.google.com/notebooks/data_table.ipynb>data table notebook</a>'\n",
              "            + ' to learn more about interactive tables.';\n",
              "          element.innerHTML = '';\n",
              "          dataTable['output_type'] = 'display_data';\n",
              "          await google.colab.output.renderOutput(dataTable, element);\n",
              "          const docLink = document.createElement('div');\n",
              "          docLink.innerHTML = docLinkHtml;\n",
              "          element.appendChild(docLink);\n",
              "        }\n",
              "      </script>\n",
              "    </div>\n",
              "  </div>\n",
              "  "
            ],
            "text/plain": [
              "                                                pixels\n",
              "62   [145, 132, 111, 90, 82, 95, 122, 144, 142, 133...\n",
              "94   [113, 111, 110, 112, 116, 121, 124, 125, 130, ...\n",
              "71   [220, 219, 219, 219, 219, 220, 221, 222, 222, ...\n",
              "90   [22, 24, 25, 23, 22, 24, 31, 36, 31, 30, 31, 3...\n",
              "0    [186, 164, 143, 130, 106, 83, 94, 123, 143, 14...\n",
              "..                                                 ...\n",
              "8    [152, 155, 159, 162, 163, 164, 165, 165, 170, ...\n",
              "67   [41, 29, 39, 9, 23, 63, 31, 15, 23, 20, 20, 24...\n",
              "369  [230, 237, 188, 111, 71, 55, 41, 38, 45, 40, 3...\n",
              "149  [171, 171, 169, 167, 167, 169, 168, 166, 167, ...\n",
              "311  [223, 222, 221, 219, 217, 215, 213, 213, 211, ...\n",
              "\n",
              "[780 rows x 1 columns]"
            ]
          },
          "execution_count": 66,
          "metadata": {},
          "output_type": "execute_result"
        }
      ],
      "source": [
        "X_train_All"
      ]
    },
    {
      "cell_type": "code",
      "execution_count": null,
      "metadata": {
        "id": "qEvHFME4LiOW"
      },
      "outputs": [],
      "source": [
        "X_train_All = np.array(X_train_All['pixels'].tolist(), dtype='float32').reshape(-1,48,48,1)\n",
        "X_val_All = np.array(X_val_All['pixels'].tolist(), dtype='float32').reshape(-1,48,48,1)\n",
        "X_test_All = np.array(X_test_All['pixels'].tolist(), dtype='float32').reshape(-1,48,48,1)\n",
        "X_train_All = X_train_All/255.0\n",
        "X_val_All = X_val_All/255.0\n",
        "X_test_All = X_test_All/255.0\n",
        "y_train_All=np_utils.to_categorical(y_train_All, 7)\n",
        "y_val_All=np_utils.to_categorical(y_val_All, 7)\n",
        "y_test_All=np_utils.to_categorical(y_test_All, 7)"
      ]
    },
    {
      "cell_type": "code",
      "execution_count": null,
      "metadata": {
        "colab": {
          "base_uri": "https://localhost:8080/"
        },
        "id": "7wFt_srsV7qZ",
        "outputId": "38543481-87e9-4f96-ab53-311cc87daf0d"
      },
      "outputs": [
        {
          "data": {
            "text/plain": [
              "(581, 7)"
            ]
          },
          "execution_count": 70,
          "metadata": {},
          "output_type": "execute_result"
        }
      ],
      "source": [
        "y_test_All.shape"
      ]
    },
    {
      "cell_type": "code",
      "execution_count": null,
      "metadata": {
        "colab": {
          "base_uri": "https://localhost:8080/"
        },
        "id": "6ZV4I3brUvL3",
        "outputId": "5860667f-0daf-4091-cd6c-402e8400e7f8"
      },
      "outputs": [
        {
          "data": {
            "text/plain": [
              "array([[1., 0., 0., ..., 0., 0., 0.],\n",
              "       [1., 0., 0., ..., 0., 0., 0.],\n",
              "       [1., 0., 0., ..., 0., 0., 0.],\n",
              "       ...,\n",
              "       [0., 0., 0., ..., 0., 0., 1.],\n",
              "       [0., 0., 0., ..., 0., 0., 1.],\n",
              "       [0., 0., 0., ..., 0., 0., 1.]], dtype=float32)"
            ]
          },
          "execution_count": 71,
          "metadata": {},
          "output_type": "execute_result"
        }
      ],
      "source": [
        "y_test_All"
      ]
    },
    {
      "cell_type": "markdown",
      "metadata": {
        "id": "m1f4jf1ELiOX"
      },
      "source": [
        "### 3- load fer2013"
      ]
    },
    {
      "cell_type": "code",
      "execution_count": null,
      "metadata": {
        "id": "Als1RR_-LiOY"
      },
      "outputs": [],
      "source": [
        "data = pd.read_csv('/content/drive/My Drive/nglamodel/fer2013.csv')\n",
        "train_fer2013 = data#[(data['Usage'] == 'Training')]\n",
        "val_fer2013 = data[(data['Usage'] == 'PrivateTest')]\n",
        "test_fer2013 = data[(data['Usage'] == 'PublicTest')]\n",
        "x_train_fer2013 = np.array(list(map(str.split, train_fer2013.pixels)), np.float32)\n",
        "x_val_fer2013 = np.array(list(map(str.split, val_fer2013.pixels)), np.float32)\n",
        "x_test_fer2013 = np.array(list(map(str.split, test_fer2013.pixels)), np.float32)\n",
        "x_train_fer2013 = x_train_fer2013.reshape(x_train_fer2013.shape[0], 48, 48, 1)\n",
        "x_val_fer2013 = x_val_fer2013.reshape(x_val_fer2013.shape[0], 48, 48, 1)\n",
        "x_test_fer2013 = x_test_fer2013.reshape(x_test_fer2013.shape[0], 48, 48, 1)\n",
        "x_train_fer2013=x_train_fer2013/255\n",
        "x_val_fer2013=x_val_fer2013/255\n",
        "x_test_fer2013=x_test_fer2013/255\n",
        "y_train_fer2013 = train_fer2013['emotion']\n",
        "y_val_fer2013 = val_fer2013['emotion']\n",
        "y_test_fer2013 = test_fer2013['emotion']\n",
        "y_train_fer2013 = np_utils.to_categorical(y_train_fer2013, 7)\n",
        "y_val_fer2013 = np_utils.to_categorical(y_val_fer2013, 7)\n",
        "y_test_fer2013 = np_utils.to_categorical(y_test_fer2013, 7)"
      ]
    },
    {
      "cell_type": "code",
      "execution_count": null,
      "metadata": {
        "colab": {
          "base_uri": "https://localhost:8080/"
        },
        "id": "VwgZp1k8URBm",
        "outputId": "c7ae5d2a-a5c9-41cf-9dfe-f96f2bf2433b"
      },
      "outputs": [
        {
          "data": {
            "text/plain": [
              "(3589, 7)"
            ]
          },
          "execution_count": 61,
          "metadata": {},
          "output_type": "execute_result"
        }
      ],
      "source": [
        "#y_train_fer2013 = train_fer2013['emotion']\n",
        "y_val_fer2013.shape"
      ]
    },
    {
      "cell_type": "markdown",
      "metadata": {
        "id": "HNsPMil1LiOZ"
      },
      "source": [
        "### 4- merge our image with fer2013"
      ]
    },
    {
      "cell_type": "code",
      "execution_count": null,
      "metadata": {
        "id": "azKORxu1LiOa"
      },
      "outputs": [],
      "source": [
        "X_train_All=np.vstack([X_train_All, x_train_fer2013])\n",
        "X_val_All=np.vstack([X_val_All, x_val_fer2013])\n",
        "X_test_All=np.vstack([X_test_All, x_test_fer2013])\n",
        "y_train_All=np.vstack([y_train_All, y_train_fer2013])\n",
        "y_val_All=np.vstack([y_val_All, y_val_fer2013])\n",
        "y_test_All=np.vstack([y_test_All, y_test_fer2013])"
      ]
    },
    {
      "cell_type": "markdown",
      "metadata": {
        "id": "hoVwyaNHLiOc"
      },
      "source": [
        "# Our model"
      ]
    },
    {
      "cell_type": "markdown",
      "metadata": {
        "id": "gtuybIQQLiOc"
      },
      "source": [
        "### 1- attention layer"
      ]
    },
    {
      "cell_type": "code",
      "execution_count": null,
      "metadata": {
        "id": "EbOamlacLiOd"
      },
      "outputs": [],
      "source": [
        "# Add attention layer to the deep learning network\n",
        "class attention(Layer):\n",
        "    def __init__(self,**kwargs):\n",
        "        super(attention,self).__init__(**kwargs)\n",
        "\n",
        "    def build(self,input_shape):\n",
        "        self.W=self.add_weight(name='attention_weight', shape=(input_shape[-1],1),\n",
        "                               initializer='random_normal', trainable=True)\n",
        "        self.b=self.add_weight(name='attention_bias', shape=(input_shape[1],1),\n",
        "                               initializer='zeros', trainable=True)\n",
        "        super(attention, self).build(input_shape)\n",
        "\n",
        "    def call(self,x):\n",
        "        # Alignment scores. Pass them through tanh function\n",
        "        e = K.tanh(K.dot(x,self.W)+self.b)\n",
        "        # Remove dimension of size 1\n",
        "        e = K.squeeze(e, axis=-1)\n",
        "        # Compute the weights\n",
        "        alpha = K.softmax(e)\n",
        "        # Reshape to tensorFlow format\n",
        "        alpha = K.expand_dims(alpha, axis=-1)\n",
        "        # Compute the context vector\n",
        "        context = x * alpha\n",
        "        context = K.sum(context, axis=1)\n",
        "        return context"
      ]
    },
    {
      "cell_type": "markdown",
      "metadata": {
        "id": "3OnWMHjlLiOe"
      },
      "source": [
        "### 2- create our model"
      ]
    },
    {
      "cell_type": "code",
      "execution_count": null,
      "metadata": {
        "colab": {
          "base_uri": "https://localhost:8080/"
        },
        "id": "qauzibWJxl85",
        "outputId": "454e8789-3b7a-44a5-abfc-f1ac3368227c"
      },
      "outputs": [
        {
          "name": "stdout",
          "output_type": "stream",
          "text": [
            "Model: \"sequential\"\n",
            "_________________________________________________________________\n",
            " Layer (type)                Output Shape              Param #   \n",
            "=================================================================\n",
            " conv2d (Conv2D)             (None, 48, 48, 128)       1280      \n",
            "                                                                 \n",
            " conv2d_1 (Conv2D)           (None, 48, 48, 128)       147584    \n",
            "                                                                 \n",
            " max_pooling2d (MaxPooling2D  (None, 24, 24, 128)      0         \n",
            " )                                                               \n",
            "                                                                 \n",
            " dropout (Dropout)           (None, 24, 24, 128)       0         \n",
            "                                                                 \n",
            " batch_normalization (BatchN  (None, 24, 24, 128)      512       \n",
            " ormalization)                                                   \n",
            "                                                                 \n",
            " conv2d_2 (Conv2D)           (None, 24, 24, 128)       147584    \n",
            "                                                                 \n",
            " conv2d_3 (Conv2D)           (None, 24, 24, 128)       147584    \n",
            "                                                                 \n",
            " max_pooling2d_1 (MaxPooling  (None, 12, 12, 128)      0         \n",
            " 2D)                                                             \n",
            "                                                                 \n",
            " dropout_1 (Dropout)         (None, 12, 12, 128)       0         \n",
            "                                                                 \n",
            " batch_normalization_1 (Batc  (None, 12, 12, 128)      512       \n",
            " hNormalization)                                                 \n",
            "                                                                 \n",
            " conv2d_4 (Conv2D)           (None, 12, 12, 256)       295168    \n",
            "                                                                 \n",
            " conv2d_5 (Conv2D)           (None, 12, 12, 256)       590080    \n",
            "                                                                 \n",
            " max_pooling2d_2 (MaxPooling  (None, 6, 6, 256)        0         \n",
            " 2D)                                                             \n",
            "                                                                 \n",
            " dropout_2 (Dropout)         (None, 6, 6, 256)         0         \n",
            "                                                                 \n",
            " batch_normalization_2 (Batc  (None, 6, 6, 256)        1024      \n",
            " hNormalization)                                                 \n",
            "                                                                 \n",
            " conv2d_6 (Conv2D)           (None, 6, 6, 1024)        2360320   \n",
            "                                                                 \n",
            " conv2d_7 (Conv2D)           (None, 6, 6, 1024)        9438208   \n",
            "                                                                 \n",
            " max_pooling2d_3 (MaxPooling  (None, 3, 3, 1024)       0         \n",
            " 2D)                                                             \n",
            "                                                                 \n",
            " dropout_3 (Dropout)         (None, 3, 3, 1024)        0         \n",
            "                                                                 \n",
            " attention (attention)       (None, 3, 1024)           1027      \n",
            "                                                                 \n",
            " dense (Dense)               (None, 3, 1024)           1049600   \n",
            "                                                                 \n",
            " dropout_4 (Dropout)         (None, 3, 1024)           0         \n",
            "                                                                 \n",
            " batch_normalization_3 (Batc  (None, 3, 1024)          4096      \n",
            " hNormalization)                                                 \n",
            "                                                                 \n",
            " flatten (Flatten)           (None, 3072)              0         \n",
            "                                                                 \n",
            " dense_1 (Dense)             (None, 256)               786688    \n",
            "                                                                 \n",
            " dropout_5 (Dropout)         (None, 256)               0         \n",
            "                                                                 \n",
            " dense_2 (Dense)             (None, 128)               32896     \n",
            "                                                                 \n",
            " dropout_6 (Dropout)         (None, 128)               0         \n",
            "                                                                 \n",
            " batch_normalization_4 (Batc  (None, 128)              512       \n",
            " hNormalization)                                                 \n",
            "                                                                 \n",
            " dense_3 (Dense)             (None, 7)                 903       \n",
            "                                                                 \n",
            "=================================================================\n",
            "Total params: 15,005,578\n",
            "Trainable params: 15,002,250\n",
            "Non-trainable params: 3,328\n",
            "_________________________________________________________________\n"
          ]
        }
      ],
      "source": [
        "np.random.seed(1)\n",
        "tf.random.set_seed(1)\n",
        "\n",
        "model1 = Sequential()\n",
        "\n",
        "\n",
        "model1.add(Conv2D(128, (3,3), activation = 'relu', padding = 'same', input_shape=(48,48,1)))\n",
        "model1.add(Conv2D(128, (3,3), activation = 'relu', padding = 'same'))\n",
        "model1.add(MaxPooling2D(2,2))\n",
        "model1.add(Dropout(0.30))\n",
        "model1.add(BatchNormalization())\n",
        "\n",
        "model1.add(Conv2D(128, (3,3), activation = 'relu', padding = 'same'))\n",
        "model1.add(Conv2D(128, (3,3), activation = 'relu', padding = 'same'))\n",
        "model1.add(MaxPooling2D(2,2))\n",
        "model1.add(Dropout(0.30))\n",
        "model1.add(BatchNormalization())\n",
        "\n",
        "model1.add(Conv2D(256, (3,3), activation = 'relu', padding = 'same',kernel_regularizer=regularizers.l2(0.0001)))\n",
        "model1.add(Conv2D(256, (3,3), activation = 'relu', padding = 'same'))\n",
        "model1.add(MaxPooling2D(2,2))\n",
        "model1.add(Dropout(0.30))\n",
        "model1.add(BatchNormalization())\n",
        "\n",
        "model1.add(Conv2D(1024, (3,3), activation = 'relu', padding = 'same',kernel_regularizer=regularizers.l2(0.0001)))\n",
        "model1.add(Conv2D(1024, (3,3), activation = 'relu', padding = 'same'))\n",
        "model1.add(MaxPooling2D(2,2))\n",
        "model1.add(Dropout(0.30))\n",
        "\n",
        "model1.add(attention())\n",
        "\n",
        "model1.add(Dense(1024, activation='relu'))\n",
        "model1.add(Dropout(0.35))\n",
        "\n",
        "model1.add(BatchNormalization())\n",
        "model1.add(Flatten())\n",
        "model1.add(Dense(256, activation='relu'))\n",
        "model1.add(Dropout(0.35))\n",
        "\n",
        "model1.add(Dense(128, activation='relu'))\n",
        "model1.add(Dropout(0.35))\n",
        "model1.add(BatchNormalization())\n",
        "\n",
        "model1.add(Dense(7, activation='softmax'))\n",
        "\n",
        "model1.summary()"
      ]
    },
    {
      "cell_type": "markdown",
      "metadata": {
        "id": "rZjgJrtdLiOg"
      },
      "source": [
        "### 3- save best weights and draw livelossplot"
      ]
    },
    {
      "cell_type": "code",
      "execution_count": null,
      "metadata": {
        "colab": {
          "base_uri": "https://localhost:8080/"
        },
        "id": "RlpwCjmLLiOg",
        "outputId": "181b6ac9-f159-4ac2-814a-de11af29b1fd"
      },
      "outputs": [
        {
          "name": "stdout",
          "output_type": "stream",
          "text": [
            "Looking in indexes: https://pypi.org/simple, https://us-python.pkg.dev/colab-wheels/public/simple/\n",
            "Collecting livelossplot\n",
            "  Downloading livelossplot-0.5.5-py3-none-any.whl (22 kB)\n",
            "Requirement already satisfied: bokeh in /usr/local/lib/python3.7/dist-packages (from livelossplot) (2.3.3)\n",
            "Requirement already satisfied: numpy<1.22 in /usr/local/lib/python3.7/dist-packages (from livelossplot) (1.21.6)\n",
            "Requirement already satisfied: matplotlib in /usr/local/lib/python3.7/dist-packages (from livelossplot) (3.2.2)\n",
            "Requirement already satisfied: ipython==7.* in /usr/local/lib/python3.7/dist-packages (from livelossplot) (7.9.0)\n",
            "Requirement already satisfied: pexpect in /usr/local/lib/python3.7/dist-packages (from ipython==7.*->livelossplot) (4.8.0)\n",
            "Requirement already satisfied: pygments in /usr/local/lib/python3.7/dist-packages (from ipython==7.*->livelossplot) (2.6.1)\n",
            "Requirement already satisfied: decorator in /usr/local/lib/python3.7/dist-packages (from ipython==7.*->livelossplot) (4.4.2)\n",
            "Requirement already satisfied: setuptools>=18.5 in /usr/local/lib/python3.7/dist-packages (from ipython==7.*->livelossplot) (57.4.0)\n",
            "Requirement already satisfied: traitlets>=4.2 in /usr/local/lib/python3.7/dist-packages (from ipython==7.*->livelossplot) (5.1.1)\n",
            "Requirement already satisfied: prompt-toolkit<2.1.0,>=2.0.0 in /usr/local/lib/python3.7/dist-packages (from ipython==7.*->livelossplot) (2.0.10)\n",
            "Requirement already satisfied: backcall in /usr/local/lib/python3.7/dist-packages (from ipython==7.*->livelossplot) (0.2.0)\n",
            "Collecting jedi>=0.10\n",
            "  Downloading jedi-0.18.1-py2.py3-none-any.whl (1.6 MB)\n",
            "\u001b[K     |████████████████████████████████| 1.6 MB 42.9 MB/s \n",
            "\u001b[?25hRequirement already satisfied: pickleshare in /usr/local/lib/python3.7/dist-packages (from ipython==7.*->livelossplot) (0.7.5)\n",
            "Requirement already satisfied: parso<0.9.0,>=0.8.0 in /usr/local/lib/python3.7/dist-packages (from jedi>=0.10->ipython==7.*->livelossplot) (0.8.3)\n",
            "Requirement already satisfied: six>=1.9.0 in /usr/local/lib/python3.7/dist-packages (from prompt-toolkit<2.1.0,>=2.0.0->ipython==7.*->livelossplot) (1.15.0)\n",
            "Requirement already satisfied: wcwidth in /usr/local/lib/python3.7/dist-packages (from prompt-toolkit<2.1.0,>=2.0.0->ipython==7.*->livelossplot) (0.2.5)\n",
            "Requirement already satisfied: typing-extensions>=3.7.4 in /usr/local/lib/python3.7/dist-packages (from bokeh->livelossplot) (4.1.1)\n",
            "Requirement already satisfied: pillow>=7.1.0 in /usr/local/lib/python3.7/dist-packages (from bokeh->livelossplot) (7.1.2)\n",
            "Requirement already satisfied: Jinja2>=2.9 in /usr/local/lib/python3.7/dist-packages (from bokeh->livelossplot) (2.11.3)\n",
            "Requirement already satisfied: packaging>=16.8 in /usr/local/lib/python3.7/dist-packages (from bokeh->livelossplot) (21.3)\n",
            "Requirement already satisfied: tornado>=5.1 in /usr/local/lib/python3.7/dist-packages (from bokeh->livelossplot) (5.1.1)\n",
            "Requirement already satisfied: python-dateutil>=2.1 in /usr/local/lib/python3.7/dist-packages (from bokeh->livelossplot) (2.8.2)\n",
            "Requirement already satisfied: PyYAML>=3.10 in /usr/local/lib/python3.7/dist-packages (from bokeh->livelossplot) (6.0)\n",
            "Requirement already satisfied: MarkupSafe>=0.23 in /usr/local/lib/python3.7/dist-packages (from Jinja2>=2.9->bokeh->livelossplot) (2.0.1)\n",
            "Requirement already satisfied: pyparsing!=3.0.5,>=2.0.2 in /usr/local/lib/python3.7/dist-packages (from packaging>=16.8->bokeh->livelossplot) (3.0.9)\n",
            "Requirement already satisfied: cycler>=0.10 in /usr/local/lib/python3.7/dist-packages (from matplotlib->livelossplot) (0.11.0)\n",
            "Requirement already satisfied: kiwisolver>=1.0.1 in /usr/local/lib/python3.7/dist-packages (from matplotlib->livelossplot) (1.4.4)\n",
            "Requirement already satisfied: ptyprocess>=0.5 in /usr/local/lib/python3.7/dist-packages (from pexpect->ipython==7.*->livelossplot) (0.7.0)\n",
            "Installing collected packages: jedi, livelossplot\n",
            "Successfully installed jedi-0.18.1 livelossplot-0.5.5\n"
          ]
        }
      ],
      "source": [
        "%pip install livelossplot\n",
        "from livelossplot.inputs.keras import PlotLossesCallback\n",
        "plot_loss_1 = PlotLossesCallback()\n",
        "# ModelCheckpoint callback - save best weights\n",
        "tl_checkpoint_2 =ModelCheckpoint(filepath='/content/drive/MyDrive/nglamodel/tl_model_v2.weights.best.hdf5',\n",
        "                                 monitor='val_acc', verbose=1, save_weights_only=False,\n",
        "                                 save_best_only=False, mode='max')"
      ]
    },
    {
      "cell_type": "code",
      "execution_count": null,
      "metadata": {
        "colab": {
          "base_uri": "https://localhost:8080/",
          "height": 658
        },
        "id": "Qvvc1tqMLiOh",
        "outputId": "18885a07-7f8d-470b-8d34-04773164003f"
      },
      "outputs": [
        {
          "data": {
            "image/png": "[encoded data removed]",
            "text/plain": [
              "<Figure size 864x576 with 2 Axes>"
            ]
          },
          "metadata": {},
          "output_type": "display_data"
        },
        {
          "name": "stdout",
          "output_type": "stream",
          "text": [
            "accuracy\n",
            "\ttraining         \t (min:    0.210, max:    0.890, cur:    0.885)\n",
            "\tvalidation       \t (min:    0.193, max:    0.945, cur:    0.940)\n",
            "Loss\n",
            "\ttraining         \t (min:    0.679, max:    2.109, cur:    0.700)\n",
            "\tvalidation       \t (min:    0.599, max:    2.231, cur:    0.614)\n",
            "\b\b\b\b\b\b\b\b\b\b\b\b\b\b\b\b\b\b\b\b\b\b\b\b\b\b\b\b\b\b\b\b\b\b\b\b\b\b\b\b\b\b\b\b\b\b\b\b\b\b\b\b\b\b\b\b\b\b\b\b\b\b\b\b\b\b\b\b\b\b\b\b\b\b\b\b\b\b\b\b\b\b\b\b\b\r366/366 [==============================] - 25s 68ms/step - loss: 0.7002 - accuracy: 0.8855 - val_loss: 0.6144 - val_accuracy: 0.9404\n"
          ]
        }
      ],
      "source": [
        "optimizer = Adam(learning_rate=0.001)\n",
        "BATCH_SIZE = 100\n",
        "model1.compile(loss=\"categorical_crossentropy\", optimizer=optimizer, metrics=[\"accuracy\"])\n",
        "h1 = model1.fit(\n",
        "        X_train_All, y_train_All,\n",
        "        steps_per_epoch=len(X_train_All) // BATCH_SIZE,\n",
        "        validation_data=(X_val_All, y_val_All),\n",
        "        validation_steps=len(X_val_All) // BATCH_SIZE,\n",
        "        callbacks=[tl_checkpoint_2,  plot_loss_1],\n",
        "        epochs=100\n",
        "    )"
      ]
    },
    {
      "cell_type": "code",
      "execution_count": null,
      "metadata": {
        "colab": {
          "base_uri": "https://localhost:8080/"
        },
        "id": "zLBWAqQvLiOi",
        "outputId": "2ff7e108-9c9c-406d-d7b3-df8480158983"
      },
      "outputs": [
        {
          "name": "stdout",
          "output_type": "stream",
          "text": [
            "1146/1146 [==============================] - 19s 15ms/step - loss: 0.4484 - accuracy: 0.9799\n",
            "131/131 [==============================] - 2s 17ms/step - loss: 0.6372 - accuracy: 0.9321\n"
          ]
        }
      ],
      "source": [
        "from keras.models import load_model\n",
        "model1.save(\"/content/drive/MyDrive/the_final_model_v2.h5\")\n",
        "loaded_model = load_model(\"/content/drive/MyDrive/the_final_model_v2.h5\", custom_objects={\"attention\": attention})\n",
        "#train accuracy\n",
        "loss, accuracy = loaded_model.evaluate(X_train_All,y_train_All)\n",
        "#test accuracy\n",
        "loss, accuracy = loaded_model.evaluate(X_test_All,y_test_All)\n"
      ]
    },
    {
      "cell_type": "markdown",
      "metadata": {
        "id": "Cbzc58vlLiOi"
      },
      "source": [
        "# Result"
      ]
    },
    {
      "cell_type": "code",
      "execution_count": null,
      "metadata": {
        "id": "2vrPHz9_LiOj"
      },
      "outputs": [],
      "source": [
        "preds = loaded_model.predict(X_test_All)\n",
        "y_pred = np.argmax(preds , axis = 1 )"
      ]
    },
    {
      "cell_type": "code",
      "execution_count": null,
      "metadata": {
        "colab": {
          "base_uri": "https://localhost:8080/",
          "height": 537
        },
        "id": "xUw6-alDLiOj",
        "outputId": "13b7acc0-ddb5-4b78-a289-49482a0c4fd3"
      },
      "outputs": [
        {
          "data": {
            "image/png": "[encoded data removed]",
            "text/plain": [
              "<Figure size 1080x720 with 1 Axes>"
            ]
          },
          "metadata": {},
          "output_type": "display_data"
        }
      ],
      "source": [
        "CLASS_LABELS  = ['Anger', 'Disgust', 'Fear', 'Happy', 'Neutral', 'Sadness', \"Surprise\"]\n",
        "\n",
        "cm_data = confusion_matrix(np.argmax(y_test_All, axis = 1 ), y_pred)\n",
        "cm = pd.DataFrame(cm_data, columns=CLASS_LABELS, index = CLASS_LABELS)\n",
        "cm.index.name = 'Actual'\n",
        "cm.columns.name = 'Predicted'\n",
        "plt.figure(figsize = (15,10))\n",
        "plt.title('Confusion Matrix', fontsize = 20)\n",
        "sns.set(font_scale=1.2)\n",
        "ax = sns.heatmap(cm, cbar=False, cmap=\"Blues\", annot=True, annot_kws={\"size\": 18}, fmt='g')"
      ]
    },
    {
      "cell_type": "code",
      "execution_count": null,
      "metadata": {
        "colab": {
          "base_uri": "https://localhost:8080/"
        },
        "id": "fS6gJFGGLiOk",
        "outputId": "0a734cbe-3a2b-4714-858a-f3f2a0f412b8"
      },
      "outputs": [
        {
          "name": "stdout",
          "output_type": "stream",
          "text": [
            "testing report : \n",
            "               precision    recall  f1-score   support\n",
            "\n",
            "           0      0.940     0.921     0.931       532\n",
            "           1      0.974     0.692     0.809       107\n",
            "           2      0.953     0.943     0.948       511\n",
            "           3      0.946     0.954     0.950      1072\n",
            "           4      0.931     0.914     0.922       747\n",
            "           5      0.945     0.954     0.949       452\n",
            "           6      0.884     0.940     0.911       749\n",
            "\n",
            "    accuracy                          0.932      4170\n",
            "   macro avg      0.939     0.903     0.917      4170\n",
            "weighted avg      0.933     0.932     0.932      4170\n",
            "\n"
          ]
        }
      ],
      "source": [
        "print('testing report :','\\n',classification_report(np.argmax(y_test_All, axis = 1 ),y_pred,digits=3))"
      ]
    },
    {
      "cell_type": "code",
      "execution_count": null,
      "metadata": {
        "id": "u0p28V9EY_1x"
      },
      "outputs": [],
      "source": []
    }
  ],
  "metadata": {
    "accelerator": "GPU",
    "colab": {
      "provenance": [],
      "include_colab_link": true
    },
    "kernelspec": {
      "display_name": "Python 3 (ipykernel)",
      "language": "python",
      "name": "python3"
    },
    "language_info": {
      "codemirror_mode": {
        "name": "ipython",
        "version": 3
      },
      "file_extension": ".py",
      "mimetype": "text/x-python",
      "name": "python",
      "nbconvert_exporter": "python",
      "pygments_lexer": "ipython3",
      "version": "3.9.12"
    }
  },
  "nbformat": 4,
  "nbformat_minor": 0
}